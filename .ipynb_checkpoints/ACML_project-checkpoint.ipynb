{
 "cells": [
  {
   "cell_type": "markdown",
   "metadata": {},
   "source": [
    "# Classifying Poisonous Mushrooms using Supervised Learning Algorithms\n",
    "\n",
    "\n",
    "## Data Description\n",
    "\n",
    "This dataset can be found on the UCI Machine Learning Repository [link](https://archive.ics.uci.edu/ml/datasets/mushroom)\n",
    "\n",
    "### Variables: \n",
    "classes: edible=e, poisonous=p\n",
    "\n",
    "cap-shape: bell=b,conical=c,convex=x,flat=f, knobbed=k,sunken=s\n",
    "\n",
    "cap-surface: fibrous=f,grooves=g,scaly=y,smooth=s\n",
    "\n",
    "cap-color: brown=n,buff=b,cinnamon=c,gray=g,green=r,pink=p,purple=u,red=e,white=w,yellow=y\n",
    "\n",
    "bruises: bruises=t,no=f\n",
    "\n",
    "odor: almond=a,anise=l,creosote=c,fishy=y,foul=f,musty=m,none=n,pungent=p,spicy=s\n",
    "\n",
    "gill-attachment: attached=a,descending=d,free=f,notched=n\n",
    "\n",
    "gill-spacing: close=c,crowded=w,distant=d\n",
    "\n",
    "gill-size: broad=b,narrow=n\n",
    "\n",
    "gill-color: black=k,brown=n,buff=b,chocolate=h,gray=g, green=r,orange=o,pink=p,purple=u,red=e,white=w,yellow=y\n",
    "\n",
    "stalk-shape: enlarging=e,tapering=t\n",
    "\n",
    "stalk-root: bulbous=b,club=c,cup=u,equal=e,rhizomorphs=z,rooted=r,missing=?\n",
    "\n",
    "stalk-surface-above-ring: fibrous=f,scaly=y,silky=k,smooth=s\n",
    "\n",
    "stalk-surface-below-ring: fibrous=f,scaly=y,silky=k,smooth=s\n",
    "\n",
    "stalk-color-above-ring: brown=n,buff=b,cinnamon=c,gray=g,orange=o,pink=p,red=e,white=w,yellow=y\n",
    "\n",
    "stalk-color-below-ring: brown=n,buff=b,cinnamon=c,gray=g,orange=o,pink=p,red=e,white=w,yellow=y\n",
    "\n",
    "veil-type: partial=p,universal=u\n",
    "\n",
    "veil-color: brown=n,orange=o,white=w,yellow=y\n",
    "\n",
    "ring-number: none=n,one=o,two=t\n",
    "\n",
    "ring-type: cobwebby=c,evanescent=e,flaring=f,large=l,none=n,pendant=p,sheathing=s,zone=z\n",
    "\n",
    "spore-print-color: black=k,brown=n,buff=b,chocolate=h,green=r,orange=o,purple=u,white=w,yellow=y\n",
    "\n",
    "population: abundant=a,clustered=c,numerous=n,scattered=s,several=v,solitary=y\n",
    "\n",
    "habitat: grasses=g,leaves=l,meadows=m,paths=p,urban=u,waste=w,woods=d"
   ]
  },
  {
   "cell_type": "code",
<<<<<<< HEAD
   "execution_count": 2,
=======
   "execution_count": 38,
>>>>>>> da013f550db9caf80c0e4363eb4f794c0194cb6b
   "metadata": {},
   "outputs": [],
   "source": [
    "import pandas as pd\n",
    "import numpy as np\n",
    "from matplotlib import pyplot as plt\n",
    "import seaborn as sns\n",
    "from sklearn.model_selection import train_test_split\n",
    "from sklearn.preprocessing import LabelEncoder\n",
    "from sklearn.preprocessing import StandardScaler\n",
    "from sklearn.neural_network import MLPClassifier\n",
    "# to calculate the performances of the models \n",
    "from sklearn.metrics import classification_report,confusion_matrix\n",
    "from sklearn.metrics import accuracy_score\n",
    "from sklearn.model_selection import cross_val_score # score evaluation\n",
    "from sklearn.model_selection import cross_val_predict # prediction\n",
    "from IPython.display import Markdown as md\n",
    "from IPython.display import HTML\n",
    "import math\n",
    "from sklearn import metrics\n",
    "from sklearn.linear_model import LogisticRegression\n",
    "from sklearn.ensemble import RandomForestClassifier\n",
    "from pprint import pprint\n",
    "import time\n",
    "from sklearn.metrics import classification_report, confusion_matrix, accuracy_score, recall_score, precision_score"
   ]
  },
  {
   "cell_type": "code",
<<<<<<< HEAD
   "execution_count": 3,
=======
   "execution_count": 39,
>>>>>>> da013f550db9caf80c0e4363eb4f794c0194cb6b
   "metadata": {},
   "outputs": [
    {
     "name": "stdout",
     "output_type": "stream",
     "text": [
      "<class 'pandas.core.frame.DataFrame'>\n",
      "RangeIndex: 8124 entries, 0 to 8123\n",
      "Data columns (total 23 columns):\n",
      "class                       8124 non-null object\n",
      "cap-shape                   8124 non-null object\n",
      "cap-surface                 8124 non-null object\n",
      "cap-color                   8124 non-null object\n",
      "bruises                     8124 non-null object\n",
      "odor                        8124 non-null object\n",
      "gill-attachment             8124 non-null object\n",
      "gill-spacing                8124 non-null object\n",
      "gill-size                   8124 non-null object\n",
      "gill-color                  8124 non-null object\n",
      "stalk-shape                 8124 non-null object\n",
      "stalk-root                  8124 non-null object\n",
      "stalk-surface-above-ring    8124 non-null object\n",
      "stalk-surface-below-ring    8124 non-null object\n",
      "stalk-color-above-ring      8124 non-null object\n",
      "stalk-color-below-ring      8124 non-null object\n",
      "veil-type                   8124 non-null object\n",
      "veil-color                  8124 non-null object\n",
      "ring-number                 8124 non-null object\n",
      "ring-type                   8124 non-null object\n",
      "spore-print-color           8124 non-null object\n",
      "population                  8124 non-null object\n",
      "habitat                     8124 non-null object\n",
      "dtypes: object(23)\n",
      "memory usage: 1.4+ MB\n"
     ]
    }
   ],
   "source": [
    "df = pd.read_csv('mushrooms.csv')\n",
    "df.info()"
   ]
  },
  {
   "cell_type": "code",
<<<<<<< HEAD
   "execution_count": 4,
=======
   "execution_count": 40,
>>>>>>> da013f550db9caf80c0e4363eb4f794c0194cb6b
   "metadata": {},
   "outputs": [
    {
     "data": {
      "text/html": [
       "<div>\n",
       "<style scoped>\n",
       "    .dataframe tbody tr th:only-of-type {\n",
       "        vertical-align: middle;\n",
       "    }\n",
       "\n",
       "    .dataframe tbody tr th {\n",
       "        vertical-align: top;\n",
       "    }\n",
       "\n",
       "    .dataframe thead th {\n",
       "        text-align: right;\n",
       "    }\n",
       "</style>\n",
       "<table border=\"1\" class=\"dataframe\">\n",
       "  <thead>\n",
       "    <tr style=\"text-align: right;\">\n",
       "      <th></th>\n",
       "      <th>class</th>\n",
       "      <th>cap-shape</th>\n",
       "      <th>cap-surface</th>\n",
       "      <th>cap-color</th>\n",
       "      <th>bruises</th>\n",
       "      <th>odor</th>\n",
       "      <th>gill-attachment</th>\n",
       "      <th>gill-spacing</th>\n",
       "      <th>gill-size</th>\n",
       "      <th>gill-color</th>\n",
       "      <th>...</th>\n",
       "      <th>stalk-surface-below-ring</th>\n",
       "      <th>stalk-color-above-ring</th>\n",
       "      <th>stalk-color-below-ring</th>\n",
       "      <th>veil-type</th>\n",
       "      <th>veil-color</th>\n",
       "      <th>ring-number</th>\n",
       "      <th>ring-type</th>\n",
       "      <th>spore-print-color</th>\n",
       "      <th>population</th>\n",
       "      <th>habitat</th>\n",
       "    </tr>\n",
       "  </thead>\n",
       "  <tbody>\n",
       "    <tr>\n",
       "      <td>0</td>\n",
       "      <td>p</td>\n",
       "      <td>x</td>\n",
       "      <td>s</td>\n",
       "      <td>n</td>\n",
       "      <td>t</td>\n",
       "      <td>p</td>\n",
       "      <td>f</td>\n",
       "      <td>c</td>\n",
       "      <td>n</td>\n",
       "      <td>k</td>\n",
       "      <td>...</td>\n",
       "      <td>s</td>\n",
       "      <td>w</td>\n",
       "      <td>w</td>\n",
       "      <td>p</td>\n",
       "      <td>w</td>\n",
       "      <td>o</td>\n",
       "      <td>p</td>\n",
       "      <td>k</td>\n",
       "      <td>s</td>\n",
       "      <td>u</td>\n",
       "    </tr>\n",
       "    <tr>\n",
       "      <td>1</td>\n",
       "      <td>e</td>\n",
       "      <td>x</td>\n",
       "      <td>s</td>\n",
       "      <td>y</td>\n",
       "      <td>t</td>\n",
       "      <td>a</td>\n",
       "      <td>f</td>\n",
       "      <td>c</td>\n",
       "      <td>b</td>\n",
       "      <td>k</td>\n",
       "      <td>...</td>\n",
       "      <td>s</td>\n",
       "      <td>w</td>\n",
       "      <td>w</td>\n",
       "      <td>p</td>\n",
       "      <td>w</td>\n",
       "      <td>o</td>\n",
       "      <td>p</td>\n",
       "      <td>n</td>\n",
       "      <td>n</td>\n",
       "      <td>g</td>\n",
       "    </tr>\n",
       "    <tr>\n",
       "      <td>2</td>\n",
       "      <td>e</td>\n",
       "      <td>b</td>\n",
       "      <td>s</td>\n",
       "      <td>w</td>\n",
       "      <td>t</td>\n",
       "      <td>l</td>\n",
       "      <td>f</td>\n",
       "      <td>c</td>\n",
       "      <td>b</td>\n",
       "      <td>n</td>\n",
       "      <td>...</td>\n",
       "      <td>s</td>\n",
       "      <td>w</td>\n",
       "      <td>w</td>\n",
       "      <td>p</td>\n",
       "      <td>w</td>\n",
       "      <td>o</td>\n",
       "      <td>p</td>\n",
       "      <td>n</td>\n",
       "      <td>n</td>\n",
       "      <td>m</td>\n",
       "    </tr>\n",
       "    <tr>\n",
       "      <td>3</td>\n",
       "      <td>p</td>\n",
       "      <td>x</td>\n",
       "      <td>y</td>\n",
       "      <td>w</td>\n",
       "      <td>t</td>\n",
       "      <td>p</td>\n",
       "      <td>f</td>\n",
       "      <td>c</td>\n",
       "      <td>n</td>\n",
       "      <td>n</td>\n",
       "      <td>...</td>\n",
       "      <td>s</td>\n",
       "      <td>w</td>\n",
       "      <td>w</td>\n",
       "      <td>p</td>\n",
       "      <td>w</td>\n",
       "      <td>o</td>\n",
       "      <td>p</td>\n",
       "      <td>k</td>\n",
       "      <td>s</td>\n",
       "      <td>u</td>\n",
       "    </tr>\n",
       "    <tr>\n",
       "      <td>4</td>\n",
       "      <td>e</td>\n",
       "      <td>x</td>\n",
       "      <td>s</td>\n",
       "      <td>g</td>\n",
       "      <td>f</td>\n",
       "      <td>n</td>\n",
       "      <td>f</td>\n",
       "      <td>w</td>\n",
       "      <td>b</td>\n",
       "      <td>k</td>\n",
       "      <td>...</td>\n",
       "      <td>s</td>\n",
       "      <td>w</td>\n",
       "      <td>w</td>\n",
       "      <td>p</td>\n",
       "      <td>w</td>\n",
       "      <td>o</td>\n",
       "      <td>e</td>\n",
       "      <td>n</td>\n",
       "      <td>a</td>\n",
       "      <td>g</td>\n",
       "    </tr>\n",
       "  </tbody>\n",
       "</table>\n",
       "<p>5 rows × 23 columns</p>\n",
       "</div>"
      ],
      "text/plain": [
       "  class cap-shape cap-surface cap-color bruises odor gill-attachment  \\\n",
       "0     p         x           s         n       t    p               f   \n",
       "1     e         x           s         y       t    a               f   \n",
       "2     e         b           s         w       t    l               f   \n",
       "3     p         x           y         w       t    p               f   \n",
       "4     e         x           s         g       f    n               f   \n",
       "\n",
       "  gill-spacing gill-size gill-color  ... stalk-surface-below-ring  \\\n",
       "0            c         n          k  ...                        s   \n",
       "1            c         b          k  ...                        s   \n",
       "2            c         b          n  ...                        s   \n",
       "3            c         n          n  ...                        s   \n",
       "4            w         b          k  ...                        s   \n",
       "\n",
       "  stalk-color-above-ring stalk-color-below-ring veil-type veil-color  \\\n",
       "0                      w                      w         p          w   \n",
       "1                      w                      w         p          w   \n",
       "2                      w                      w         p          w   \n",
       "3                      w                      w         p          w   \n",
       "4                      w                      w         p          w   \n",
       "\n",
       "  ring-number ring-type spore-print-color population habitat  \n",
       "0           o         p                 k          s       u  \n",
       "1           o         p                 n          n       g  \n",
       "2           o         p                 n          n       m  \n",
       "3           o         p                 k          s       u  \n",
       "4           o         e                 n          a       g  \n",
       "\n",
       "[5 rows x 23 columns]"
      ]
     },
<<<<<<< HEAD
     "execution_count": 4,
=======
     "execution_count": 40,
>>>>>>> da013f550db9caf80c0e4363eb4f794c0194cb6b
     "metadata": {},
     "output_type": "execute_result"
    }
   ],
   "source": [
    "df.head()"
   ]
  },
  {
   "cell_type": "markdown",
   "metadata": {},
   "source": [
    "Although we have no null values every variable is an object, by using head we can see the values are letters so we have to convert the variables into numeric values using some sort of encoding"
   ]
  },
  {
   "cell_type": "code",
<<<<<<< HEAD
   "execution_count": 5,
=======
   "execution_count": 41,
>>>>>>> da013f550db9caf80c0e4363eb4f794c0194cb6b
   "metadata": {},
   "outputs": [
    {
     "data": {
      "text/plain": [
       "class                       0\n",
       "cap-shape                   0\n",
       "cap-surface                 0\n",
       "cap-color                   0\n",
       "bruises                     0\n",
       "odor                        0\n",
       "gill-attachment             0\n",
       "gill-spacing                0\n",
       "gill-size                   0\n",
       "gill-color                  0\n",
       "stalk-shape                 0\n",
       "stalk-root                  0\n",
       "stalk-surface-above-ring    0\n",
       "stalk-surface-below-ring    0\n",
       "stalk-color-above-ring      0\n",
       "stalk-color-below-ring      0\n",
       "veil-type                   0\n",
       "veil-color                  0\n",
       "ring-number                 0\n",
       "ring-type                   0\n",
       "spore-print-color           0\n",
       "population                  0\n",
       "habitat                     0\n",
       "dtype: int64"
      ]
     },
<<<<<<< HEAD
     "execution_count": 5,
=======
     "execution_count": 41,
>>>>>>> da013f550db9caf80c0e4363eb4f794c0194cb6b
     "metadata": {},
     "output_type": "execute_result"
    }
   ],
   "source": [
    "#just to ensure that there are really no empty values\n",
    "df.isnull().sum()"
   ]
  },
  {
   "cell_type": "code",
<<<<<<< HEAD
   "execution_count": 6,
=======
   "execution_count": 42,
>>>>>>> da013f550db9caf80c0e4363eb4f794c0194cb6b
   "metadata": {},
   "outputs": [
    {
     "data": {
      "image/png": "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\n",
      "text/plain": [
       "<Figure size 468x288 with 1 Axes>"
      ]
     },
     "metadata": {},
     "output_type": "display_data"
    }
   ],
   "source": [
    "#we are trying to train a model to tell if a mushroom is poisonous or not so we can start by visualiing how many classes\n",
    "#of those we have in out data\n",
    "\n",
    "plt.figure(figsize=(6.5, 4))\n",
    "plt.bar(df['class'].value_counts().index, df['class'].value_counts().values,color=['lightblue','lightgreen'])\n",
    "plt.show()"
   ]
  },
  {
   "cell_type": "code",
<<<<<<< HEAD
   "execution_count": 7,
=======
   "execution_count": 43,
>>>>>>> da013f550db9caf80c0e4363eb4f794c0194cb6b
   "metadata": {},
   "outputs": [
    {
     "data": {
      "text/html": [
       "<div>\n",
       "<style scoped>\n",
       "    .dataframe tbody tr th:only-of-type {\n",
       "        vertical-align: middle;\n",
       "    }\n",
       "\n",
       "    .dataframe tbody tr th {\n",
       "        vertical-align: top;\n",
       "    }\n",
       "\n",
       "    .dataframe thead th {\n",
       "        text-align: right;\n",
       "    }\n",
       "</style>\n",
       "<table border=\"1\" class=\"dataframe\">\n",
       "  <thead>\n",
       "    <tr style=\"text-align: right;\">\n",
       "      <th></th>\n",
       "      <th>class</th>\n",
       "      <th>cap-shape</th>\n",
       "      <th>cap-surface</th>\n",
       "      <th>cap-color</th>\n",
       "      <th>bruises</th>\n",
       "      <th>odor</th>\n",
       "      <th>gill-attachment</th>\n",
       "      <th>gill-spacing</th>\n",
       "      <th>gill-size</th>\n",
       "      <th>gill-color</th>\n",
       "      <th>...</th>\n",
       "      <th>stalk-surface-below-ring</th>\n",
       "      <th>stalk-color-above-ring</th>\n",
       "      <th>stalk-color-below-ring</th>\n",
       "      <th>veil-type</th>\n",
       "      <th>veil-color</th>\n",
       "      <th>ring-number</th>\n",
       "      <th>ring-type</th>\n",
       "      <th>spore-print-color</th>\n",
       "      <th>population</th>\n",
       "      <th>habitat</th>\n",
       "    </tr>\n",
       "  </thead>\n",
       "  <tbody>\n",
       "    <tr>\n",
       "      <td>0</td>\n",
       "      <td>1</td>\n",
       "      <td>5</td>\n",
       "      <td>2</td>\n",
       "      <td>4</td>\n",
       "      <td>1</td>\n",
       "      <td>6</td>\n",
       "      <td>1</td>\n",
       "      <td>0</td>\n",
       "      <td>1</td>\n",
       "      <td>4</td>\n",
       "      <td>...</td>\n",
       "      <td>2</td>\n",
       "      <td>7</td>\n",
       "      <td>7</td>\n",
       "      <td>0</td>\n",
       "      <td>2</td>\n",
       "      <td>1</td>\n",
       "      <td>4</td>\n",
       "      <td>2</td>\n",
       "      <td>3</td>\n",
       "      <td>5</td>\n",
       "    </tr>\n",
       "    <tr>\n",
       "      <td>1</td>\n",
       "      <td>0</td>\n",
       "      <td>5</td>\n",
       "      <td>2</td>\n",
       "      <td>9</td>\n",
       "      <td>1</td>\n",
       "      <td>0</td>\n",
       "      <td>1</td>\n",
       "      <td>0</td>\n",
       "      <td>0</td>\n",
       "      <td>4</td>\n",
       "      <td>...</td>\n",
       "      <td>2</td>\n",
       "      <td>7</td>\n",
       "      <td>7</td>\n",
       "      <td>0</td>\n",
       "      <td>2</td>\n",
       "      <td>1</td>\n",
       "      <td>4</td>\n",
       "      <td>3</td>\n",
       "      <td>2</td>\n",
       "      <td>1</td>\n",
       "    </tr>\n",
       "    <tr>\n",
       "      <td>2</td>\n",
       "      <td>0</td>\n",
       "      <td>0</td>\n",
       "      <td>2</td>\n",
       "      <td>8</td>\n",
       "      <td>1</td>\n",
       "      <td>3</td>\n",
       "      <td>1</td>\n",
       "      <td>0</td>\n",
       "      <td>0</td>\n",
       "      <td>5</td>\n",
       "      <td>...</td>\n",
       "      <td>2</td>\n",
       "      <td>7</td>\n",
       "      <td>7</td>\n",
       "      <td>0</td>\n",
       "      <td>2</td>\n",
       "      <td>1</td>\n",
       "      <td>4</td>\n",
       "      <td>3</td>\n",
       "      <td>2</td>\n",
       "      <td>3</td>\n",
       "    </tr>\n",
       "    <tr>\n",
       "      <td>3</td>\n",
       "      <td>1</td>\n",
       "      <td>5</td>\n",
       "      <td>3</td>\n",
       "      <td>8</td>\n",
       "      <td>1</td>\n",
       "      <td>6</td>\n",
       "      <td>1</td>\n",
       "      <td>0</td>\n",
       "      <td>1</td>\n",
       "      <td>5</td>\n",
       "      <td>...</td>\n",
       "      <td>2</td>\n",
       "      <td>7</td>\n",
       "      <td>7</td>\n",
       "      <td>0</td>\n",
       "      <td>2</td>\n",
       "      <td>1</td>\n",
       "      <td>4</td>\n",
       "      <td>2</td>\n",
       "      <td>3</td>\n",
       "      <td>5</td>\n",
       "    </tr>\n",
       "    <tr>\n",
       "      <td>4</td>\n",
       "      <td>0</td>\n",
       "      <td>5</td>\n",
       "      <td>2</td>\n",
       "      <td>3</td>\n",
       "      <td>0</td>\n",
       "      <td>5</td>\n",
       "      <td>1</td>\n",
       "      <td>1</td>\n",
       "      <td>0</td>\n",
       "      <td>4</td>\n",
       "      <td>...</td>\n",
       "      <td>2</td>\n",
       "      <td>7</td>\n",
       "      <td>7</td>\n",
       "      <td>0</td>\n",
       "      <td>2</td>\n",
       "      <td>1</td>\n",
       "      <td>0</td>\n",
       "      <td>3</td>\n",
       "      <td>0</td>\n",
       "      <td>1</td>\n",
       "    </tr>\n",
       "  </tbody>\n",
       "</table>\n",
       "<p>5 rows × 23 columns</p>\n",
       "</div>"
      ],
      "text/plain": [
       "   class  cap-shape  cap-surface  cap-color  bruises  odor  gill-attachment  \\\n",
       "0      1          5            2          4        1     6                1   \n",
       "1      0          5            2          9        1     0                1   \n",
       "2      0          0            2          8        1     3                1   \n",
       "3      1          5            3          8        1     6                1   \n",
       "4      0          5            2          3        0     5                1   \n",
       "\n",
       "   gill-spacing  gill-size  gill-color  ...  stalk-surface-below-ring  \\\n",
       "0             0          1           4  ...                         2   \n",
       "1             0          0           4  ...                         2   \n",
       "2             0          0           5  ...                         2   \n",
       "3             0          1           5  ...                         2   \n",
       "4             1          0           4  ...                         2   \n",
       "\n",
       "   stalk-color-above-ring  stalk-color-below-ring  veil-type  veil-color  \\\n",
       "0                       7                       7          0           2   \n",
       "1                       7                       7          0           2   \n",
       "2                       7                       7          0           2   \n",
       "3                       7                       7          0           2   \n",
       "4                       7                       7          0           2   \n",
       "\n",
       "   ring-number  ring-type  spore-print-color  population  habitat  \n",
       "0            1          4                  2           3        5  \n",
       "1            1          4                  3           2        1  \n",
       "2            1          4                  3           2        3  \n",
       "3            1          4                  2           3        5  \n",
       "4            1          0                  3           0        1  \n",
       "\n",
       "[5 rows x 23 columns]"
      ]
     },
<<<<<<< HEAD
     "execution_count": 7,
=======
     "execution_count": 43,
>>>>>>> da013f550db9caf80c0e4363eb4f794c0194cb6b
     "metadata": {},
     "output_type": "execute_result"
    }
   ],
   "source": [
    "df_encoded = df.copy()\n",
    "\n",
    "Le = LabelEncoder()\n",
    "\n",
    "# iterating the encoding all the attributes\n",
    "for features in df.columns:\n",
    "    df_encoded[features] = Le.fit_transform(df_encoded[features])\n",
    "\n",
    "df_encoded.head()"
   ]
  },
  {
   "cell_type": "markdown",
   "metadata": {},
   "source": [
    "class: poisonous = 1, edible = 0"
   ]
  },
  {
   "cell_type": "markdown",
   "metadata": {},
   "source": [
    "Now that all the data is encoded we can do some exploritory analysis."
   ]
  },
  {
   "cell_type": "code",
<<<<<<< HEAD
   "execution_count": 8,
=======
   "execution_count": 44,
>>>>>>> da013f550db9caf80c0e4363eb4f794c0194cb6b
   "metadata": {},
   "outputs": [
    {
     "data": {
      "text/plain": [
<<<<<<< HEAD
       "<matplotlib.axes._subplots.AxesSubplot at 0x109148150>"
      ]
     },
     "execution_count": 8,
=======
       "<matplotlib.axes._subplots.AxesSubplot at 0x1d860c1a308>"
      ]
     },
     "execution_count": 44,
>>>>>>> da013f550db9caf80c0e4363eb4f794c0194cb6b
     "metadata": {},
     "output_type": "execute_result"
    },
    {
     "data": {
      "image/png": "iVBORw0KGgoAAAANSUhEUgAAAwIAAAKyCAYAAABmAWl5AAAABHNCSVQICAgIfAhkiAAAAAlwSFlzAAALEgAACxIB0t1+/AAAADh0RVh0U29mdHdhcmUAbWF0cGxvdGxpYiB2ZXJzaW9uMy4xLjEsIGh0dHA6Ly9tYXRwbG90bGliLm9yZy8QZhcZAAAgAElEQVR4nOzde3zP9f//8dvONpoN23ykIsqpz4SPtiGxVhkbNjLkUB/Wpxzy8flMJpLW8nVMMX0ckopIMWbEfBgp51BDlHLIyJxp58P7/ftjv97f9h055Dnjfb9eLu/L5X14ve6v5/uV2GOP5/P1crBarVZERERERMSuON7qAYiIiIiISNlTISAiIiIiYodUCIiIiIiI2CEVAiIiIiIidkiFgIiIiIiIHVIhICIiIiJih1QI3CZ69+7Ntm3bbvUwREREROQOoUJARERERMQOOd/qAUhpVquVSZMmsXbtWpycnIiKirJ9VlhYyJgxYzh48CBnzpyhXr16vPXWWxQWFvKvf/2LM2fOADBw4EAef/xx5s6dy9KlS3F0dMTf35+4uLhb9bVEREREpBxRIVAOrV69ml27dpGcnExBQQE9e/YkLy8PgN27d+Pi4sKiRYuwWCz07duXL774guzsbO6++25mzZrF/v37Wb58OW3atGHmzJl8+eWXODk5MXLkSDIyMvDz87vF31BEREREbjUVAuXQjh07CA0NxdXVFVdXV5KSkujduzcAzZs3x8vLi48//phDhw5x5MgRsrOzadKkCW+99RYZGRm0adOGgQMH4uTkRJMmTejatSuPP/44zz333HUVAQ5P1DT1FXl/2qvGsn/+9aSxbIDGPvWNZT9Rs72x7K0ZXxrLBvj2zD5j2d0fiLr6Rjeo/UeDjWVviV5gLBtgS8ZGY9mNvP2NZRdaC4xlA+QX5RvLPpVj7u8Xi9ViLBugrmMzY9nvp083lh16X4ix7Lsr3mMsG2B62kxj2UcvnjGW7VuxkrFsgP8JGms0/1qY/Bnncqz/TS/T410rrREoh5ydnXFwcLC9Tk9PJzs7G4B169YRExNDhQoViIyMpHnz5litVmrVqsWqVasIDw/n66+/pmvXrlgsFt59913GjBmD1Wqlf//+bN++/VZ9LREREREpR1QIlEPNmzdnzZo1FBQUkJOTQ//+/cnIyABgy5YthIaG0qVLFzw9Pdm2bRtFRUXMnz+fadOmERoaymuvvca5c+e4cOEC7du358EHH2TIkCG0bNmS77///hZ/OxEREREpDzQ1qBx64okn2Lt3L5GRkVgsFvr06cOqVasAePrpp4mJiWHlypW4uLjQtGlT0tPTiY6O5l//+hfh4eE4OTkxbNgwqlSpQlRUFF27dsXd3Z3atWvTpUuXW/ztRERERG6x3828sGcqBMqpoUOHMnToUNvrnj172p4nJydfdp9Zs2aVeu/ZZ5/l2WefvenjExEREZHbmwoBEREREbEvmhwP6DSIiIiIiNgldQRERERExL5ojQCgjoCIiIiIiF1SR0BERERE7IsaAoA6AiIiIiIidkkdARERERGxL1ojAICD1Wq13upBSPk098BMY9l/H/yGsezl771jLNs0i9ViMLvIWDbAqZyzxrIru1Yylp1TmGssu5LBcQNczLtkLLuCs5ux7EouFY1ly5W1rNjeWPbS0/OMZT/gVcdY9oW888ayAdydPYxlp2ceN5bt6+FjLBug431djeZfC4cO95Xp8awrj5bp8a6VOgIiIiIiYl80OR7QaRARERERsUvqCIiIiIiIfdEaAUAdARERERERu6RCQERERETEDmlqkIiIiIjYF80MAtQREBERERGxS+oIiIiIiIh9cVRLANQRKJcSExOJjY291cMQERERkTuYOgIiIiIiYl/UEABUCFwXq9XKpEmTWLt2LU5OTkRFRdGgQQOmTJlCbm4uly5dYsSIEYSEhBAbG4ubmxt79uwhKyuLF198kc6dO5fKnDt3LkuXLsXR0RF/f3/i4uIAOHr0KL179+bEiRMEBQURHx9PYWEhY8aM4eDBg5w5c4Z69erx1ltvcebMGV588UXuv/9+fvzxR2rUqMHEiRPx8vJi48aNTJ06lcLCQmrWrMkbb7yBt7d3WZ86ERERESlnVAhch9WrV7Nr1y6Sk5MpKCigZ8+eeHt7Ex8fT506ddiyZQtjx44lJCQEgGPHjrFo0SLOnj1LZGQkLVu2xMfHx5ZXVFTEzJkz+fLLL3FycmLkyJFkZGQA8Msvv7Bs2TI8PDwICQnh4MGDXLhwARcXFxYtWoTFYqFv37588cUXNGrUiB9++IFRo0YREBDAuHHjSEhIYMCAAUyePJmPPvqIypUr88knnzBp0iTefPPNW3L+RERERMoF3VAMUCFwXXbs2EFoaCiurq64urqSlJREXl4e69evZ/Xq1Xz77bdkZWXZto+MjMTFxYXq1avTtGlTdu7cSbt27WyfOzk50aRJE7p27crjjz/Oc889h5+fHwB/+9vf8PLyAuDee+/l/PnzPPLII3h5efHxxx9z6NAhjhw5QnZ2NgC1atUiICAAgM6dOxMTE0PLli355Zdf6NOnDwAWi4XKlSuXybkSERERkfJNhcB1cHZ2xuF3FWR6ejpDhgwhICCAgIAAgoKCiImJsX3u5ORke26xWHB2diY6OppTp04BMGvWLN59912++eYbNm7cSP/+/Zk0aZLtWL9xcHDAarWybt06pk6dSp8+fYiMjOT8+fNYrdZS21utVpycnCgqKqJp06bMmDEDgLy8vBKFioiIiIhdUkMA0FWDrkvz5s1Zs2YNBQUF5OTk0K9fPw4ePMiQIUNo3bo169ato6ioyLb9qlWrsFqtHD9+nLS0NJo1a8bs2bNJSkoiKSkJFxcX2rdvz4MPPsiQIUNo2bIl33///RWPv2XLFkJDQ+nSpQuenp5s27bNdrzDhw+zf/9+AJYsWULr1q1p3Lgx33zzDYcPHwbg3XffZcKECQbPkIiIiIjcLtQRuA5PPPEEe/fuJTIy0jZH/+jRo3To0AFnZ2cCAwPJzc21TdfJzc2lS5cu5OfnExcXV2qRbpUqVYiKiqJr1664u7tTu3ZtunTpwurVqy97/KeffpqYmBhWrlyJi4sLTZs2JT09HYDKlSszdepUfv75Z+rVq0d8fDweHh6MHTuWf/7zn1gsFvz8/Jg4caLZkyQiIiJS3uk+AgA4WH+bWyI3VWxsLI888giRkZHGj5Wenk6fPn1ITU29qblzD8y8qXm/9/fBbxjLXv7eO8ayTbNYLQazi66+0Z9wKuessezKrpWMZecU5hrLrmRw3AAX8y4Zy67g7GYsu5JLRWPZcmUtK7Y3lr309Dxj2Q941TGWfSHvvLFsAHdnD2PZ6ZnHjWX7evhcfaM/oeN9XY3mXwuHbub+XF2O9dOfyvR410odARERERGxL2oIACoEjBk3blyZHatmzZo3vRsgIiIiInc2LRYWEREREfvi4FC2j+uQnJxM+/btefLJJ/n4449Lff7FF18QHh5OeHg4//73v//UFSFVCIiIiIiIlAMZGRlMmTKFBQsWsGzZMhYtWsSPP/5o+/zSpUvExsYyZcoUkpOTqV+/PlOmTLnh46kQEBEREREx6NKlS6Snp5d6XLpU8qIPmzdvJjAwEC8vLzw8PHjqqadKXE3yyJEj1KhRg7p16wLQtm1b1q5de8Pj0hoBEREREbEvZXz50A8//JCEhIRS7w8aNIjBgwfbXp86dQofn/+9apOvry9paWm217Vq1eLkyZMcOHCA+vXrs2rVKs6cOXPD41IhICIiIiJiUN++fYmIiCj1vqenZ4nXFosFh9+tKbBarSVee3p6Mn78eF599VUsFgvdunXDxcXlhselQkCu6OdfTxrLNnmt/479hxjLBlg8y9xN2c7mmLumtZuzq7FsgOoevsayG1V5yFj2+/vmG8vuXLedsWyAnzlmLNvP4H/PPWe+M5YNUGjwnhkezhWMZRtn8PYNVd29r77RDTJ5rX8vN3PjBlh1eL2x7Ma+9Yxl7zlzwFg2QMf7jMZfmzK+fKinp2epH/ovp3r16nz99de216dPn8bX93//Pi4qKqJ69ep89tlnAKSlpXHPPffc8Li0RkBEREREpBxo0aIFW7Zs4dy5c+Tk5LBmzRpat25t+9zBwYG///3vZGRkYLVa+eCDD2jf/sZvFqhCQERERETsSzm9fKifnx9Dhw6lT58+dO7cmbCwMPz9/YmOjmbPnj04OjoSFxdH//79adeuHZ6envTr1++GT4OmBomIiIiIlBO/3SPg92bPnm173qZNG9q0aXNTjqVCQERERETsSxmvESivNDVIRERERMQOqSMgIiIiIvaljO8jUF6pIyAiIiIiYofUERARERER+6KGAKCOwG0hMzOTyMhIwsLCOHz48K0ejoiIiIjcAdQRuA3s378fV1dXEhMTb/VQRERERG5/13Ft/zuZCoHLsFqtTJo0ibVr1+Lk5ERUVBQNGjRgypQp5ObmcunSJUaMGEFISAixsbG4ubmxZ88esrKyePHFF+ncuXOpzLlz57J06VIcHR3x9/cnLi6OxMREtm/fzrhx4wDo3bs3gwYNAmDixIlYLBaqVKnC0aNHOXPmDC+88AKTJk3ilVdeISMjg1OnThEUFMSbb74JUGrMffv25ejRo4wZM4YLFy5QoUIFXn31VRo2bFh2J1NEREREyiUVApexevVqdu3aRXJyMgUFBfTs2RNvb2/i4+OpU6cOW7ZsYezYsYSEhABw7NgxFi1axNmzZ4mMjKRly5b4+PjY8oqKipg5cyZffvklTk5OjBw5koyMjD8cw5EjR1i/fj133XUX27ZtIyEhgRkzZrBixQoaNGjA1KlTyc/Pp0OHDuzbt49jx46VGnP79u0ZPnw4o0ePpmHDhvz4448MHDiQlJQUo+dPREREpFzT5HhAhcBl7dixg9DQUFxdXXF1dSUpKYm8vDzWr1/P6tWr+fbbb8nKyrJtHxkZiYuLC9WrV6dp06bs3LmTdu3a2T53cnKiSZMmdO3alccff5znnnsOPz+/PxxD7dq1ueuuu0q9HxYWRlpaGh988AGHDh3iwoULZGdnX3bMWVlZ7N27lxEjRtj2z87O5vz583h7e9+EMyUiIiIitysVApfh7OyMw+/mjqWnpzNkyBACAgIICAggKCiImJgY2+dOTk625xaLBWdnZ6Kjozl16hQAs2bN4t133+Wbb75h48aN9O/fn0mTJuHg4IDVarXtW1BQYHteoUKFy45t3rx5pKSk0K1bN1q0aMEPP/yA1Wq97JgrV65sKwp+c/LkSby8vP7E2RERERGRO4EaI5fRvHlz1qxZQ0FBATk5OfTr14+DBw8yZMgQWrduzbp16ygqKrJtv2rVKqxWK8ePHyctLY1mzZoxe/ZskpKSSEpKwsXFhfbt2/Pggw8yZMgQWrZsyffff4+3tzc//fQTVquVY8eO8f333191bJs2bSIqKoqOHTuSl5fHgQMHsFgspcbcv39/zpw5Q61atWyFwKZNm3jmmWeMnTcRERGR24KDQ9k+yil1BC7jiSeeYO/evURGRmKxWGyLbjt06ICzszOBgYHk5uaSnZ0NQG5uLl26dCE/P5+4uLhS026qVKlCVFQUXbt2xd3dndq1a9OlSxecnZ1ZsmQJ7dq1o3bt2jRr1uyqY+vbty9jxoxh1qxZVKpUiSZNmpCens7TTz9dYsx9+vShdu3aTJw4kTFjxvDee+/h4uLClClTSnQORERERMQ+OVh/PzdFrltsbCyPPPIIkZGRt3ooN93rO143lt3U9yFj2R37DzGWDbB41kRj2WdzzhvLdnN2NZYN4OVa2Vh2oyrm/ry8v2++sezOddtdfaM/4edfjxnL9vPwNZa958x3xrIBCq1FV9/oBnk4X37a5u2gU7VexrI3Zq4wlu1o8M5PXm5m18utOrzeWHZj33rGso9cOm4sG2Bks1FG86+FQ3SDMj2edfb+Mj3etdLUIBERERERO6SpQX/Sb/cAEBEREZHbhKZJA+oIiIiIiIjYJXUERERERMS+6FfhgE6DiIiIiIhdUkdAREREROyL1ggAKgTkDzT2qX+rh3BDTF7eE6Dr88OMZS+aYW7xeZu7g41lA6z6+XNj2Ut+Srr6Rjcoom6oseydp3Ybywbo8UBPY9mDN7xmLLt7/ceNZQMUWS3GsnMKc4xlW7l9r+adXZBtLLuCwUu2bv5lh7FsgBf8nzOWnZH9i7Fsi8H/h6R8USEgIiIiIvZFDQFAawREREREROySOgIiIiIiYl8c1RIAdQREREREROySOgIiIiIiYl901SBAHQEREREREbukQkBERERExA5papCIiIiI2BfNDALUEbgjpKenExxs9mZRIiIiInJnUUdAREREROyKgxYLAyoEbgqr1cqkSZNYu3YtTk5OREVF0aBBA6ZMmUJubi6XLl1ixIgRhISEEBsbi5ubG3v27CErK4sXX3yRzp07l8rcv38/o0ePJjc3l8qVKzNp0iSqV6/OjBkzWL58OU5OTrRs2ZJhw4aV2O/MmTOMHDmSEydO4OzszNChQ2ndujXTpk3jm2++4ZdffqFXr1707NmzrE6PiIiIiJRDKgRugtWrV7Nr1y6Sk5MpKCigZ8+eeHt7Ex8fT506ddiyZQtjx44lJCQEgGPHjrFo0SLOnj1LZGQkLVu2xMfHp0RmTEwMMTExtG3blgULFvDhhx8SGBhIamoqS5YswcXFhcGDB/PJJ5/w2GOP2fZ74403CAwM5LnnnuPYsWP06NGDZcuWAZCfn8/nn39edidGREREpBxSR6CYCoGbYMeOHYSGhuLq6oqrqytJSUnk5eWxfv16Vq9ezbfffktWVpZt+8jISFxcXKhevTpNmzZl586dtGvXzvb5uXPnOH36NG3btgWw/fZ+/PjxdOjQAXd3dwC6dOnCsmXLShQCW7duJT4+HoB77rmHxo0b8+233wLg7+9v9kSIiIiIyG1Di4VvAmdn5xKVZXp6Oj179iQtLY2HHnqIF154ocT2Tk5OtucWiwVnZ2eio6Pp1KkTnTp1Iicnp0ReXl4ex44dw2KxlDp2YWFhiddWq7XU66KiIgAqVKhw419SRERE5A7h4FC2j/JKhcBN0Lx5c9asWUNBQQE5OTn069ePgwcPMmTIEFq3bs26detsP4wDrFq1CqvVyvHjx0lLS6NZs2bMnj2bpKQkkpKSuPvuu/Hz8+Orr74CICkpiXfeeYfAwEBWrlxJbm4uhYWFLFmyhMDAwBJjCQwMZPHixUDxFKRdu3bx8MMPl93JEBEREZHbgqYG3QRPPPEEe/fuJTIyEovFQt++fTl69CgdOnTA2dmZwMBAcnNzyc7OBiA3N5cuXbqQn59PXFwc3t7epTInTpzImDFjmDhxIt7e3kyYMAFfX1/2799Ply5dKCwspFWrVvTq1YuTJ0/a9hs5ciSjR48mMTERgPj4eHx9fcvmRIiIiIjcBhzL86/py5AKgZtk6NChDB06tMR7I0aMsD0fM2aM7Xm7du2IjIz8w7x69eqxcOHCUu8PGDCAAQMGlHivZs2apKamAuDn58fMmTNL7Td48OCrfgcRERERsR8qBERERETEruiqQcVUCJSxcePG3eohiIiIiIioEBARERER+6KOQDFdNUhERERExA6pIyAiIiIidkUdgWLqCIiIiIiI2CEVAiIiIiIidkhTg+SKnqjZ3lj22vTVxrLP5pw3lg2waIa5Kz9FvRBrLHvlnGnGsgFOZZ01lt2t7h/fd+PP8HD2MJb9/NLJxrIBiqwWY9lV3d2NZY/98lNj2WC25f9M4yBj2Rar1Vg2AJ7mos8Y/HvXy+0uY9nvJJv7twig+7+7GsvefTrNWHYdr9rGsssLzQwqpo6AiIiIiIgdUkdAREREROyKFgsXU0dARERERMQOqSMgIiIiInZFHYFi6giIiIiIiNghdQRERERExK44oI4AqCMgIiIiImKX1BEQEREREbuiNQLF1BEoQ9u2baN37943tG9GRgbR0dE3eUQiIiIiYq/UEbhN+Pn5MXv27Fs9DBEREZHbnhoCxdQRKGPnz5+nX79+hIeHM3LkSPLz8wkMDKR///506tSJTZs2legaxMbGkpiYSHp6OsHBwQAkJyfTqVMnIiMjeemll8jLywNg1qxZRERE0LFjRyZMmIDVaiUzM5Pnn3+eyMhIIiMjWbdu3S353iIiIiJSvqgjUMbS09NJSEjgvvvuY+jQoSxcuJDz588THR1NQEAA27Ztu2rG22+/zaeffkrVqlUZP348hw4d4vTp0+zdu5fFixfj4ODAsGHDWL58ORaLhbvvvptZs2axf/9+li9fzuOPP14G31RERESkfHJUSwBQIVDm/va3v1GrVi0AwsPDSUxMBKBx48bXnNG2bVt69OhBSEgITz31FA0aNGD58uWkpaURGRkJQG5uLjVq1KBLly689dZbZGRk0KZNGwYOHHjTv5OIiIiI3H5UCJQxZ+f/PeVWq9X2ukKFCkDxKnar1WrbpqCgoFTGqFGjOHDgAF988QXDhg1j0KBBFBUV0bdvX5577jkALl26hJOTExUrVmTVqlV8+eWXrF+/nvfff5/PP/8cR0fNChMRERH7pKsGFdNPg2Vs586dnDhxAovFwrJly2jRokWJz729vTl27Bh5eXlcuHCBnTt3lvi8sLCQJ598Em9vb/7xj3/QqVMn9u/fT2BgIElJSWRlZVFYWMjAgQNJSUlh/vz5TJs2jdDQUF577TXOnTtHZmZmWX5lERERESmH1BEoY3Xr1uWVV17h9OnTBAYG0rVrV0aPHm37/IEHHuCxxx6jQ4cO3H333TRr1qzE/s7Ozrz00kv8/e9/x83NjapVqzJu3DiqVq3KgQMH6NatG0VFRTz66KNERESQlZXFv/71L8LDw3FycmLYsGF4enqW9dcWERERKTfUESimQqAMBQQEsHDhwlLvf//99yVex8XFXXb/1NRUAMLCwggLCyv1+YABAxgwYECJ9ypVqsSsWbNudMgiIiIicofS1CARERERETukjoCIiIiI2BXNDCqmjoCIiIiIiB1SR0BERERE7IoWCxdTR0BERERExA6pIyAiIiIidkUdgWLqCIiIiIiI2CF1BOSKtmZ8aSzbYi0ylu3m7GosG6DN3cHGslfOmWYsu0O/wcaywezY16WvM5b95bF9xrKndRxkLBsgdt17xrIT2g01ln2v50Zj2QCebpWMZR//9ZSxbMfb+DeU9bzrGMs+eOGwsezN/5ptLBugT9IYY9nDH+1qLDu7IMtYdnmhjkAxdQREREREROyQOgIiIiIiYlfUESimjoCIiIiIiB1SR0BERERE7IoaAsXUERARERERsUPqCIiIiIiIXdEagWLqCIiIiIiI2CF1BERERETErqgjUEwdgTvAtGnTmDbN3M2cREREROTOo0JARERERMQOaWrQbWDGjBksX74cJycnWrZsybBhw5g7dy6ffvop3t7eeHp64u/vD8D69et5++23sVgs3HPPPcTFxVGtWjWCg4Px9/dn//79LFiwgKpVq97ibyUiIiJyazhqahCgjkC598UXX5CamsqSJUtYunQpR48e5T//+Y/t9dy5czl58iQAZ8+eZfTo0UyfPp3k5GSaNm1KXFycLat169akpKSoCBARERERFQLl3datW+nQoQPu7u44OzvTpUsXEhISeOyxx6hYsSIeHh60a9cOgLS0NPz9/alZsyYAUVFRbN261ZbVuHHjW/IdRERERMoTB4eyfZRXKgTKOYvFUuo9d3d3rFar7bWzs/Nlt7VarRQWFtpeu7m5GRqliIiIiNxuVAiUc4GBgaxcuZLc3FwKCwtZsmQJQ4YMYf369fz666/k5eXx3//+Fyj+jf+3335Leno6AIsWLSIgIOBWDl9ERESk3HFwcCjTR3mlxcLlXNu2bdm/fz9dunShsLCQVq1a0atXL1xcXOjatSuenp7UqFEDgGrVqhEXF8egQYMoKCigRo0avPnmm7f4G4iIiIhIeaRC4DYwYMAABgwYUOK9Z555hmeeeabUtsHBwQQHB5d6PzU11dj4RERERG4nDpTf39KXJU0NEhERERGxQ+oIiIiIiIhdKc/z9suSOgIiIiIiInZIHQERERERsSvqCBRTR0BERERExA6pIyAiIiIidkUNgWIO1t/folbkd976dqKx7IouHsayAap7+BrLvpB/0Vj2qayzxrIbVX3QWDZAh36DjWXPfOcVY9m5RXnGsgGa+PzVWPa6n78ylu3uUsFYdjNfc+cEwMXRxVj23rP7jWWb1s3v78ayff/Z1Fj29BHm/m4BaOLjbyw7IyfDWPbeMz8Yy36omtl/LzrXijKafy3qTHyiTI/307D/lunxrpU6AnLHMVkEiFwPk0WAiPx5JosAKd+0RqCY1giIiIiIiNghFQIiIiIiIuVEcnIy7du358knn+Tjjz8u9fmhQ4fo3bs3HTt2pF+/fly8eONTllUIiIiIiIhdcXBwKNPHtcrIyGDKlCksWLCAZcuWsWjRIn788Ufb51arlRdffJHo6GiWL19OgwYNmDVr1g2fBxUCIiIiIiLlwObNmwkMDMTLywsPDw+eeuopVq9ebft83759eHh40Lp1awBeeOEFnnnmmRs+nhYLi4iIiIhdKevFwpcuXeLSpUul3vf09MTT09P2+tSpU/j4+Nhe+/r6kpaWZnv9888/U61aNV555RX279/P/fffz6uvvnrD41JHQERERETEoA8//JDHH3+81OPDDz8ssZ3FYilRpFit1hKvCwsL2b59Oz169GDp0qXcc889jBs37obHpY6AiIiIiNiVsr56aN++fYmIiCj1/u+7AQDVq1fn66+/tr0+ffo0vr7/e1l0Hx8f7rvvPv761+LLU4eFhfHSSy/d8LjsqiOQkZFBdHQ0ALGxsSQmJpKenk5wcPB15Xz66aesWLECgPXr1zN37twbGk9wcDDp6ek3tO/1+vXXXxk4cGCZHEtERERE/penpyc1a9Ys9fi/hUCLFi3YsmUL586dIycnhzVr1tjWAwA0adKEc+fOceDAAQBSU1Np1KjRDY/LrjoCfn5+zJ49+0/n7D8JrAMAACAASURBVNq1i0ceeQSAvXv3/um8snDx4kX2779974gpIiIicrOU1xuK+fn5MXToUPr06UNBQQFdu3bF39+f6OhoXnrpJf76178yffp0Ro0aRU5ODtWrV2fChAk3fLw7uhCYPHkyKSkpeHt74+PjQ3BwMAkJCaSmpl7T/qtWrWLu3Lnk5uaSn5/P2LFjyc3NJTU1la1bt/Lrr7/yySefAFCjRg1atWrFK6+8wq+//sqpU6eIiIhgyJAh5OXl8frrr7Nz505cXFwYMGAA7du3B2D69Ons37+fnJwcJkyYQOPGjenduzcNGzZk586d5OXlERMTw0cffcRPP/3Es88+y7PPPktWVhZxcXEcPHiQoqIioqOjCQsLIzExkS+//JKLFy9y7NgxWrZsyZgxY4iPj+fUqVMMHDiQ6dOnGzvnIiIiInLjwsPDCQ8PL/He73+R3bhxYxYvXnxTjnXHFgKpqans3LmTFStWkJOTQ0RExHVNAbJYLHzyySfMmDGDKlWqsHjxYmbNmsWMGTMIDg7mkUceITIy0rYCvEuXLsyZM4ewsDAiIiL49ddfeeyxx+jduzeJiYlkZ2ezatUqzp49y7PPPktISAgAdevW5X/+53+YP38+c+bMYerUqUDx4pDFixeTkJBAfHw8y5cv59y5c3Tu3Jlnn32W//znPzRq1Ijx48eTmZlJ9+7dady4MQC7d+9mxYoVODk50a5dO3r06MGoUaPo06ePigARERGxe+W1I1DW7thCYPPmzYSGhuLq6oqrq6vtB+9r5ejoyPTp00lNTeXw4cNs374dR8c/XlLRr18/tm7dypw5czh48CAFBQXk5OSwY8cOunXrhqOjIz4+PqxcudK2z+8LgpSUFNv7v80Hq1GjBo0bN8bd3Z27777bVnhs3ryZ3NxclixZAkB2djYHDx4EiuePVapUCYB77rmHixcvUrFixev6/iIiIiJyZ7tjCwFHR0csFst17dOpUyfb8wULFtC1a1c6duxI8+bNqVev3mVv8/x748aN49ixY4SFhRESEsLmzZuxWq04OzuXqDyPHj3KX/7yFwCcnJyA0pWpi4uL7bmzc+n/TBaLhYkTJ9oWiJw5c4bKlSuTnJyMm5ubbTsHBwesVuu1ngIRERGRO546AsXu2KsGtWjRgjVr1pCfn09mZiYbNmzgxIkTf7hPUlKS7XHkyBEcHBx44YUXCAgI4L///S9FRUVA8Q/vv39eWFgIwKZNm+jXrx+hoaEcPnyYjIwMLBYLzZs35/PPP8dqtXL27Fl69epFfn7+n/p+gYGBLFy4ECi++UTHjh355Zdfrri9s7OzbZwiIiIiIndsR6BNmzbs3r2biIgIKleujK+vb4nflF9N/fr1adCgAaGhoTg4ONCqVSt27twJFBcZb731FnfddRfNmzdn+PDhVKtWjX/84x+8/PLLVKhQgerVq/PQQw+Rnp5Oz549iY+Pp2PHjgC8+uqrtqk7N2rQoEGMGTOGsLAwioqKGDZsGPfee2+Ja8/+XtWqValRowa9e/dm3rx5f+rYIiIiIrczNQSKOVjv0Hkju3fv5siRI0RERFBQUEBUVBRjx46lfv36t3pot423vp1oLLuii4ex7Ooevlff6E+4kH/RWPaprLPGshtVfdBYNkCHfoONZc985xVj2blFecaym/j81Vg2wLqfvzKW7e5SwVh2M1+z58XF0eXqG92gvWdv38swd/P7u7Fs3382NZY9fYS5v1ua+PgbywbIyMkwlr33zA/Gsh+qZvbfi861oozmX4tG0zqU6fH2DV559Y1ugTu2I1C7dm0SEhKYO3cuVquVzp07qwgQEREREa0R+P/u2ELAy8uLOXPm3OphiIiIiIiUS3fsYmEREREREbmyO7YjICIiIiJyOZoaVEwdARERERERO6SOgIiIiIjYFXUEiqkjICIiIiJih9QRkCvq/oC56/xuPLHeWHajKg8ZywZY8lOSsexudSONZa9LX2csG8xe6/8fQ8Yay0790NzVxb45vddYNsBfKvkYy153ZI+x7Hb3PW4sG8ABc7/p23v6iLFsVycnY9kA+JmLnjlyqLHs788dMZYd9JcAY9kAF/LM3Xfm303+ZSw77exOY9nlhRoCxdQREBERERGxQ+oIiIiIiIhd0RqBYuoIiIiIiIjYIXUERERERMS+qCMAqCMgIiIiImKX1BEQEREREbuiNQLF1BEQEREREbFD6giIiIiIiF1RQ6CYOgLXKSMjg+joaABiY2NJTEwkPT2d4ODgMh/LyJEj2bPH3E1/REREROTOpY7AdfLz82P27Nm3ehgAvPnmm7d6CCIiIiK3Ha0RKKZC4ComT55MSkoK3t7e+Pj4EBwcTEJCAqmpqde0//jx49m0aROOjo6EhIQwaNAgpk2bxokTJ/jpp584f/48UVFR9O/fn8zMTF555RUyMjI4deoUQUFBth/2J02axNq1a3FyciIqKoq+ffvSu3dvBg0aBMDMmTOpUKECP/30E/Xq1WPSpEm4urry0UcfMX/+fO666y7uv/9+7r33XgYPHmzsfImIiIjI7UGFwB9ITU1l586drFixgpycHCIiIq5rCtDx48fZuHEjK1euJCcnhxEjRpCXlwfA3r17+eSTT7BYLERGRhIUFMThw4dp0KABU6dOJT8/nw4dOrBv3z6OHTvGrl27SE5OpqCggJ49e9K+ffsSx9q9ezerVq3C19eXbt268dVXX1GjRg0+/vhjEhMTcXFxoXfv3tx777039RyJiIiIyO1JhcAf2Lx5M6Ghobi6uuLq6kpISMh17e/n54ebmxvdu3enbdu2xMTE4ObmBkBYWBgVK1YEIDg4mK1bt9KvXz/S0tL44IMPOHToEBcuXCA7O5sdO3aUGEdSUlKpYz3wwANUr14dgDp16nDx4kWOHj1K27ZtqVSpEgAdOnTg0qVLf+aUiIiIiNz2NDWomAqBP+Do6IjFYrmufTp16mR7npSUxGeffcb27dvZuHEj3bt3Z968eQA4OTnZtrNYLDg5OTFv3jxSUlLo1q0bLVq04IcffsBqteLs7FziD2x6ejpVqlQpcdzfCgwo/sNttVpvaPwiIiIiYh901aA/0KJFC9asWUN+fj6ZmZls2LCBEydO/OE+SUlJtsd3331Hr169aN68OcOHD6dOnTocPnwYgLVr15Kfn8/FixdZv349rVq1YtOmTURFRdGxY0fy8vI4cOAAFouF5s2bs2bNGgoKCsjJyaF///5kZGRcdfxBQUF88cUXZGZmkp+fz5o1a1QBi4iIiN1zcHAo00d5pY7AH2jTpg27d+8mIiKCypUr4+vrW+I371fTsGFDHn74YcLCwnB3d6dp06a0bt2affv24ebmRs+ePcnMzOQf//gHdevWpW/fvowZM4ZZs2ZRqVIlmjRpQnp6Ok8//TR79+4lMjISi8VCnz59qF279lWP/+CDD9KnTx+ioqLw8PDA29v7usYvIiIiIncuFQJ/YPfu3dSqVYuVK1dSUFBAVFQUjz76qO0+AuPGjbNte6WrCA0fPpzhw4eXev9vf/tbqav3BAUFkZKSctmcoUOHMnTo0BLv/TbNCCAgIMD2/LdxHT58mIKCAlauXAnAiy++SJ06da74fUVERETsQTn+JX2ZUiHwB2rXrk1CQgJz587FarXSuXNn6tevf6uHdc3uvvtu9uzZQ1hYGA4ODrRq1Yq2bdve6mGJiIiISDmgQuAPeHl5MWfOnJueW1bX8Xd1dWXy5MllciwRERGR20V5nrdflrRYWERERETEDqkjICIiIiJ2RR2BYuoIiIiIiIjYIXUERERERMSuqCNQTB0BERERERE7pI6AXFH7j8xd3WhIm/bGst/fN99YNkBE3VBj2R7OHsayvzy2z1g2QLO/mLtHReqHN//qXb8J7tvPWHbWqgPGsgHe2DHWWPbbbUYYy075ebWxbAB35wrGsgssFmPZt7O8onxj2T3qdTKWff9dDxjLBugyZ5Sx7JMhZ41lF1mLjGUDBPi2Npp/LdQRKKaOgIiIiIiIHVJHQERERETsihoCxdQREBERERGxQyoERERERETskKYGiYiIiIhd0WLhYuoIiIiIiIjYIXUERERERMSuqCNQTB0BERERERE7pELgFsnIyCA6OhqA2NhYEhMTSU9PJzg4+JozFi5cyMKFC00NUUREROSO5ODgUKaP8kpTg24RPz8/Zs+e/acyevTocZNGIyIiIiL2RoVAGZk8eTIpKSl4e3vj4+NDcHAwCQkJpKamXtP+48ePZ9OmTTg6OhISEsKgQYOYNm0aAC1btuT111+3bfvDDz8wZcoUHn30UeLi4jh48CBFRUVER0cTFhZm5PuJiIiI3C7K8S/py5QKgTKQmprKzp07WbFiBTk5OURERFzXFKDjx4+zceNGVq5cSU5ODiNGjCAvL8/2edOmTUlKSgLggw8+YOvWrTz11FNMnjyZRo0aMX78eDIzM+nevTuNGzfmnnvuuenfUURERERuLyoEysDmzZsJDQ3F1dUVV1dXQkJCrmt/Pz8/3Nzc6N69O23btiUmJgY3N7dS223atIlPP/2URYsW4eDgwObNm8nNzWXJkiUAZGdnc/DgQRUCIiIiYtfK87z9sqRCoAw4OjpisViua59OnTrZniclJfHZZ5+xfft2Nm7cSPfu3Zk3b16J7Y8cOcKoUaN47733uOuuuwCwWCxMnDiRRo0aAXDmzBkqV678J7+NiIiIiNwJdNWgMtCiRQvWrFlDfn4+mZmZbNiwgRMnTvzhPklJSbbHd999R69evWjevDnDhw+nTp06HD582LZtZmYmAwcOZOTIkdSpU8f2fmBgoO2qQqdOnaJjx4788ssvZr6kiIiIyO3CwaFsH+WUOgJloE2bNuzevZuIiAgqV66Mr6/vZaf2XEnDhg15+OGHCQsLw93dnaZNm9K6dWv27dsHwPz58zlx4gT/+c9/bAuIIyIiGDRoEGPGjCEsLIyioiKGDRvGvffea+Q7ioiIiMjtRYVAGdi9eze1atVi5cqVFBQUEBUVxaOPPmq7j8C4ceNs217pKkLDhw9n+PDhJd4bPHiw7fkLL7xw2f0mTZr0Z4cvIiIickfRGoFiKgTKQO3atUlISGDu3LlYrVY6d+5M/fr1b/WwRERERMSOqRAoA15eXsyZM+dWD0NEREREAEc1BAAtFhYRERERsUsqBERERERE7JCmBomIiIiIXdFi4WLqCIiIiIiI2CF1BERERETErjiqIwCoEJA/sCV6gbHsFUeXGcvuXLedsWyAnad2G8t+fulkY9nTOg4ylg1gxWos+5vTe41lZ606YCy7YqjZywTvWLDIWPaIryYay65e6S5j2QA5BfnGsiMfaGMs28nx9v0nuWGVB41lb8v42lj20++/Ziwb4Ot/fmws+6tfNhrLvu+u+4xlS/ly+/6tIyIiIiJyA7RGoJjWCIiIiIiI2CF1BERERETErug34cV0HkRERERE7JA6AiIiIiJiV3TVoGLqCIiIiIiI2CF1BERERETEruiqQcXUERARERERsUMqBMpIRkYG0dHRAMTGxpKYmEh6ejrBwcF/Onvbtm307t37T+eIiIiI2ANHB4cyfZRXKgTKiJ+fH7Nnz77VwxARERERAbRGwJjJkyeTkpKCt7c3Pj4+BAcHk5CQQGpq6jXtv3nzZsaNG4fVaqVGjRpMnjwZDw8Pxo4dy5YtW3BwcKBjx448//zzJfY7fPgwo0eP5sKFC3h4eDBy5Ej8/f2JjY3lwoULHD16lGHDht2UToSIiIjI7UhrBIqpEDAgNTWVnTt3smLFCnJycoiIiLiuH7zz8/OJiYlhzpw5NGjQgMmTJ7N06VIcHR355ZdfWL58Ofn5+fTu3ZsHH3wQd3d3277Dhg3j+eef58knn+Sbb75hyJAhpKSkAODl5cWMGTNu+vcVERERkduPpgYZsHnzZkJDQ3F1daVy5cqEhIRc1/7ff/89fn5+NGjQAIB///vf9O7dm23bthEREYGTkxPu7u6Eh4ezZcsW235ZWVn8/PPPPPnkkwA8/PDDVK5cmUOHDgHg7+9/k76hiIiIiNzu1BEwwNHREYvFcl37dOrUyfZ8/PjxJVpWv/76K1lZWaUyrVYrRUVFJV7/X7/fpkKFCtc1JhEREZE7kX4TXkznwYAWLVqwZs0a8vPzyczMZMOGDZw4ceIP90lKSrI9ateuzdmzZ/nxxx8BeO+991i4cCGBgYEsW7aMoqIicnJySE5OJiAgwJZRqVIlatasyZo1awD45ptvOHPmDA888IC5LysiIiIityV1BAxo06YNu3fvJiIigsqVK+Pr64ubm9s17+/m5sbEiRN5+eWXKSgo4N5772XChAm4urpy5MgROnXqREFBAeHh4TzxxBNs27bNtu/EiRMZM2YM06ZNw8XFhWnTpuHq6mria4qIiIjclsrzJT3LkgoBA3bv3k2tWrVYuXIlBQUFREVF8eijj9ruIzBu3Djbtle6itAjjzxCYmJiqfdHjRpV6r2AgABbZ6BOnTrMmzev1Da/P6aIiIiIiAoBA2rXrk1CQgJz587FarXSuXNn6tevf6uHJSIiIiLo8qG/USFggJeXF3PmzLnVwxARERERuSIVAiIiIiJiV7RGoJiuGiQiIiIiYofUERARERERu6J+QDF1BERERERE7JA6AnJFWzI2Gsu+mHfJWPbPHDOWDdDjgZ7Gsous13dH6usRu+49Y9kAIQ/UM5b9l0o+xrLf2DHWWPaOBYuMZQM07xllLHvbgoXGsg9dPGQsG8Dd2cNY9hfp241lm/z/H6Dpg22MZW89uctYdo8HnzaWHTqgnbFsgNe3TjCW3bBaLXPZ3g2NZZcXWiNQTB0BERERERE7pI6AiIiIiNgVdQSKqSMgIiIiImKH1BEQEREREbuiOwsXU0dARERERMQOqRAQEREREbFDmhokIiIiInZFi4WLqSMgIiIiImKHVAhch6lTp/L111//4TaxsbEkJiaSnp5OcHDwDR1n2rRpTJs27Yb2FREREZE/5lDGj/JKhcB12LFjB0VFRbd6GCIiIiJyh0pOTqZ9+/Y8+eSTfPzxx6U+/+9//0t4eDgdOnQgNjaW/Pz8Gz6W1ghcwcmTJ4mJiSE7OxtHR0fatGnD3r17GTVqFAkJCVy8eJEpU6aQm5vLpUuXGDFiBCEhIZfNSklJYfr06XzwwQdUqVKlxGfjx49n06ZNODo6EhISwqBBgwBIS0uje/fuZGRkEBkZyeDBg8nMzOSVV14hIyODU6dOERQUxJtvvsn27dt59913cXZ2Jj09HX9/f958801cXV1ZtmwZH374IRaLhUaNGvHaa6/h5uZm/PyJiIiIlFfldY1ARkYGU6ZMITExEVdXV7p3705AQAB169YFIDs7m7i4OJYuXUq1atUYOnQoS5cuJSoq6oaOp47AFSxevJg2bdqQmJjISy+9hLu7Ow899BDx8fHUq1eP+fPnEx8fz9KlS4mPj+edd965bM5XX33F9OnTef/990sVAcePH2fjxo0sX76chQsX8uOPP5KXlwfA2bNn+eijj1iyZAlz5swhMzOTDRs20KBBAxYtWkRKSgo7duxg3759AOzevZuRI0eyevVq8vLy+Pjjjzl48CCffvopn3zyCUlJSVStWpU5c+aYPXEiIiIickM2b95MYGAgXl5eeHh48NRTT7F69Wrb5x4eHqSmplKtWjVycnI4e/Ysnp6eN3w8dQSuICgoiMGDB7N//34ee+wxevXqxYYNG2yfT5w4kfXr17N69Wq+/fZbsrKySmWcP3+ewYMHM3jwYKpVq1bqcz8/P9zc3OjevTtt27YlJibG9tv6Rx99FFdXV6pUqYK3tzcXL14kLCyMtLQ0PvjgAw4dOsSFCxfIzs4GoHnz5tx///0AdOrUiU8//RQXFxeOHj1Kt27dACgoKKBhw4Y3+1SJiIiI3FbKuiNw6dIlLl26VOp9T0/PEj/Inzp1Ch8fH9trX19f0tLSSuzj4uLCF198wcsvv4yvry+tWrW64XGpELiCZs2asXLlSjZs2MDnn3/O0qVLS3zes2dPAgICCAgIICgoiJiYmFIZDg4OTJ8+nZiYGDp06ICfnx+dOnWyfZ6UlMRnn33G9u3b2bhxI927d2fevHkAODs7l8ixWq3MmzePlJQUunXrRosWLfjhhx+wWq0AODk52ba3Wq04OTlRVFREaGgoo0aNAiArK0trHERERETK2IcffkhCQkKp9wcNGsTgwYNtry0WS4m7Hlut1sveBfmxxx5j27ZtvPXWW4wZM4bJkyff0LhUCFzBhAkT8PPzo2/fvgQEBBAREUGDBg0oKiriwoULHDlyhAULFuDq6sqkSZMu+wO2l5cXQUFB9OjRg/j4eKZNm0ZSUpLt8++++4433niDefPmERQUxHfffcfhw4evOKZNmzYRFRVFeHg4e/bs4cCBA1gsFhwdHdm5cycZGRn4+PiwbNkyWrduzcMPP8z777/Piy++SJUqVRgzZgz33ntviT9wIiIiIvbmcj9cm9S3b18iIiJKvf9/p/VUr169xBUqT58+ja+vr+31hQsX2Lt3r60LEB4eztChQ294XFojcAW9e/cmJSWFTp06MWjQIMaPH8+jjz7Ka6+9xqFDh+jatSsdOnQgNDSUrKwscnNzbdN0/q/nn3+egwcPsnbt2hLvN2zYkIcffpiwsDAiIiKoW7curVu3vuKY+vbtS0JCAuHh4YwdO5YmTZqQnp4OFLeOXn75Zdq3b4+fnx9PP/009evXZ9CgQfTt25cOHTpgsVh4/vnnb95JEhEREZGr8vT0pGbNmqUe/7cQaNGiBVu2bOHcuXPk5OSwZs2aEj8bWq1Whg0bxokTJwBYvXo1TZs2veFxOVh/m1sit61t27aRkJBgm1Z0s6SeWHVT837v0MUjxrK93CobywZ4ouZTxrLn/zDfWPbCb7caywYIeaCesey/VPK5+kY36MjF48ayu9TtYCwboHnPG7tKxLXYtmChsexDFw8ZywZwd/Ywlr35xC5j2UVWi7FsgOEPjjKWPevny18w42bo8eDTxrJNe3vXLGPZDavVMpb9eM0buw/StXqgciOj+dfi+dR/lunxZgW/fc3bJicnM3PmTAoKCujatSvR0dFER0fz0ksv8de//pW1a9fyzjvv4ODgQN26dXn99de56667bmhcmhokIiIiIlJOhIeHEx4eXuK92bNn256HhIRc8ZL110uFwB3gt0XLIiIiInJ15fMuAmVPawREREREROyQOgIiIiIiYlfK652Fy5o6AiIiIiIidkiFgIiIiIiIHdLUIBERERGxK5oaVEyFgFxRI29/Y9knsn4xlu3n4Xv1jf6EwRteM5Zd1d3dWHZCuxu/8+C1SPk51Vj2uiN7jGW/3WaEsewRX000lg1mr/Uf0LOHseylsycbywY4nmnu7xcvtxu7Vve1sGD2PgImORqcYJBXlGsse97+T41lA0xo9Yax7JM55u6BsuPUdmPZUD7uIyDFVAiIiIiIiF1xUEcA0BoBERERERG7pI6AiIiIiNgV/Sa8mM6DiIiIiIgdUkdAREREROyK1ggUU0dARERERMQOqSMgIiIiInZF9xEopo6AiIiIiIgdUiFgyNSpU/n666//cJvY2FgSExNJT08nODi4XIxJRERE5E7n6OBQpo/ySoWAITt27KCoqOhWD6OE8jgmEREREbk1tEbgJjh58iQxMTFkZ2fj6OhImzZt2Lt3L6NGjSIhIYGLFy8yZcoUcnNzuXTpEiNGjCAkJOSyWSkpKUyfPp0PPviAKlWqlPgsODgYf39/9u/fz4IFC9iwYQNz587FwcGBRo0a8eqrr1KxYkXWr1/P22+/jcVi4Z577iEuLo6vvvqqxJjq1atXFqdGREREpNzRVYOKqSNwEyxevJg2bdqQmJjISy+9hLu7Ow899BDx8fHUq1eP+fPnEx8fz9KlS4mPj+edd965bM5XX33F9OnTef/990sVAb9p3bo1KSkpnDlzhhkzZjBv3jySk5Nxd3cnISGBs2fPMnr0aKZPn05ycjJNmzYlLi6Ozp07lxiTiIiIiNg3FQI3QVBQEO+//z7//ve/uXDhAr169Srx+cSJEzl48CDTp09n7ty5ZGVllco4f/48gwcPpnPnzlSrVu2Kx2rcuDFQPM2nbdu2eHt7AxAVFcXWrVtJS0vD39+fmjVrlnhfRERERIo54lCmj/JKhcBN0KxZM1auXEmrVq34/PPPeeGFF0p83rNnT9LS0njooYdKffYbBwcH3n33XebMmUNGRgYAnTp1sj1+4+bmBoDFYimxv9VqpbCw8Irvi4iIiIj8ngqBm2DChAksX76ciIgIRo8ezXfffYeTkxNFRUVcuHCBI0eOMGTIEFq3bs26desuu2DXy8uLoKAgevw/9u48rqpq///4Cw5zDqAmpVhpX3PI1Ooq0HVA0xxQCDNvlFyzuvgtReqKiolT4YBk5sC1m5qZGV1TRidMvV5vDjj0TTLNKTGxxBFREMRzzu8PHp5fBA4ZG4fzfvo4jwfn7L3fa20QPet81to7NJTY2FgAUlNTbY/fatu2LevXrycvLw+AJUuW4OvrS6tWrdi1axc5OTkA/Otf/8LX1xfA1icRERERe+bg4FClj9uVBgKVICwsjIyMDIKDgxkyZAhxcXG0b9+ecePG8eOPP9K3b18CAwPp0aMHBQUFFBUVUVhYWGFWeHg4Bw4cYO3atddss2nTpgwaNIiwsDC6d+9Ofn4+b775JnXq1OGdd95hyJAhBAYGsm3bNiZMmABg69M333xT6d8DEREREbmz6KpBleD+++/n888/L/NaQEAAr776KgBPPPEEo0aNsm0bP348AFOmTLG9tn79egBcXFxYvXp1he1c2eeK559/nueff77cfp07d67wvgSvvvqqrU8iIiIiYt80EBARERERx+34fwAAIABJREFUu3I73+SrKmlqkIiIiIiIHVJFQERERETsisNtfEnPqqSKgIiIiIiIHVJFQERERETsyu18Sc+qpIqAiIiIiIgdUkVAREREROyKrhpUSgMBuarL1hLDsqs532NY9nen9hiWDfBC06cNy5703yWGZT9QY6Nh2QBP1n3MsOzuDxr3Pc/4qeL7dlSG+6pVNywb4MdzPxqWnTx3mmHZIX8bZlg2QMfXAgzL7tWkpWHZZqvFsGyjtbmvlWHZXx1df/2dbtKu3F8MywaYu+cjw7JdTM6GZTeoVs+wbLm9aCAgIiIiInbFQbPjAa0REBERERGxS6oIiIiIiIhd0RqBUqoIiIiIiIjYIVUERERERMSu6D4CpVQREBERERGxQ6oIiIiIiIhdcUAVAVBFQERERETELv3ugcDMmTPZsWPHNfeJjo4mKSmJnJwcOnfufNOduxE///wz3bp1Izg4mAsXLhja1m917tyZnJycKm3zinXr1jFjxoxb0raIiIiI3Pl+99Sg7du34+vra0Rfbsq2bdto0aIF06YZdxfM29HTTz/N008bd7dVERERkbuVLh9a6poDgePHjxMVFUVhYSGOjo4EBASwe/duYmJimD17NufOnWP69OkUFRWRn5/PqFGj6NKlS4VZGRkZJCQk8Mknn1CrVq0y2+Li4ti0aROOjo506dKFIUOGMGvWLAAiIiKA0k/fP/30U7Zt20ZycjJ5eXncd999HDhwgMLCQsaOHcvgwYN5++23OX/+PCdOnCAkJITIyEiKi4uZMGECO3fuxNnZmTfeeIOePXuSlZXF5MmTKSoqwsvLiwkTJtCgQYNyff/ss89ITU3l4sWLODs7M23aNBo1agTA7Nmz+eGHH3B1dWXChAk0bdqUU6dOMXr0aH7++WecnJx46623eOqppwgICCAlJYU6deqQl5dHr169+Pe//82WLVuYOXMmly9fxsfHh3fffRcvL68yfcjJyeG1117Dy8sLNzc3evfuzbZt25gyZQqdO3cmKCiIr7/+mosXLxIXF0eLFi3Yv38/0dHRmM1m/vSnP7Fx40a++uqrG/yrISIiIiJ3s2tODVq6dCkBAQEkJSUxdOhQ3N3dadGiBbGxsTRp0oTPPvuM2NhYkpOTiY2NvepUla+//pqEhAQ+/vjjcoOAY8eOsXHjRtLS0khMTOTgwYMUFxdfs9O5ubkkJyczd+5chg4dSufOnXnnnXdYvnw5vXr1YsmSJaSnp7Nw4ULOnDnDokWLKCwsZNWqVSxYsICEhAQuXbpETEwM06ZNIzk5mYEDBzJmzJhybV24cIG1a9eyaNEili9fTkBAAIsXL7Ztf/DBB0lJSeGNN94gOjoagHfffRc/Pz/S09OZOXMmb7/9Nnl5eXTv3p3Vq1cDsGbNGrp27cr58+eZNm0a8+fPJyUlhXbt2vHee+9VeN6HDx8mPj6eBQsWlNvm6enJ0qVLeeGFF/jnP/8JlE7RioyMJDU1lQYNGmA2m6/5fRURERGxBw4ODlX6uF1dsyLg7+9PREQEe/fupWPHjvTv358NGzbYtsfHx/Pvf/+b1atXs2vXLgoKCsplnD17loiICCIiIqhTp0657d7e3ri6uvLCCy/QqVMnoqKicHV1vWanmzdvjpNT+a6/+uqrbN26lfnz53PgwAFKSkq4ePEi27dvp1+/fjg6OnLvvfeyYsUK9u/fz9GjR3n99ddtx1e0xqBatWpMmzaNFStWkJ2dzX//+1+aNWtm2/78888D0LFjR4YPH05+fj5bt24lNjYWgAYNGtCqVSt27dpFUFAQkydPpn///ixfvpy33nqLXbt28csvv/DXv/4VAIvFQs2aNSs879q1a+Pj41Phtvbt2wPQuHFj1qxZQ15eHseOHaNjx44APPfcc3z66afX/L6KiIiIiP245kDgySefZMWKFWzYsIGVK1eSnJxcZvuLL76Ir68vvr6++Pv7ExUVVS7DwcGBhIQEoqKiCAwMxNvbm+DgYNv21NRUvvzyS7Zt28bGjRt54YUXWLRoEQ4ODlgsFtt+JSUltq/d3Nwq7O+UKVM4evQovXr1okuXLmzevBmr1YqTk1OZ0diRI0ewWCz4+PiQmpoKgNls5tSpU+Tm5hIeHg5A3bp1eeeddwgLC6N///506NCBOnXqsHfvXluWyWSyfX2lLavVWqZfVqsVs9lMy5YtOXfuHFlZWeTm5vL444+zdu1annjiCT788EMAiouLKSgo4LvvviMmJgaAFi1a8Prrr1/1vAHb4OnKeZpMpnL9EBERERFw1IUzgetMDZo6dSppaWmEhIQwduxY9uzZg8lkwmw2k5eXR3Z2NpGRkXTo0IF169ZVOPXE09MTf39/QkNDbZ+Sp6am2h579uyhf//+tGnThpEjR/Lwww9z+PBhvLy8OHjwIABZWVmcPHnyuiezadMmXn31VXr06MHhw4fJzc3FYrHQpk0bVq5cidVq5fTp0/Tv35/69etz7tw52xWQli1bRlRUFN7e3ra+zZ07l++++44HH3yQl19+mccee4y1a9eWOc/09HQAvvrqKx5++GE8PDzw8/Nj6dKlABw9epRvvvmG1q1bA9C7d2/GjRtHYGAgAK1ateLbb7/l8OHDAPzjH/9g6tSpPPbYY7Z+TJw48brn/lvVq1enQYMG/Oc//ynTTxERERERuE5FICwsjGHDhpGUlITJZCIuLo5Dhw4xbtw44uLi6Nu3L4GBgTg5OeHn50dRURGFhYUVZoWHhxMUFMTatWvLLChu3rw5rVu3plevXri7u/PEE0/QoUMHzp8/T0ZGBj179uTRRx+lefPm1z2ZQYMGMWLECNzc3Ljvvvto0aIFOTk5vPjii8TGxhIUFATAmDFjqF69OjNmzGDixIkUFxdTrVo14uLiymX++c9/JjExkZ49e2K1WmnTpg0HDhywbc/OziY4OJh77rmHKVOmADB69GjGjh1LUlISALGxsdStWxeAoKAgZsyYwfTp0wG49957mTRpEm+++SYWiwVvb2/i4+Ove643YurUqbz99tt88MEHNGnS5JoVBRERERF7cTvP269KDlbNH7lrzZ49m379+lG3bl3WrFlDenq67WpMN+JYYbZhfdt+ItOw7J8v5BqWDfBQjfJXlqosk/67xLDs51o8aVg2wGN1ml1/p5t0r3tdw7K/OfGNYdk/nMk2LBvg8bpNDct2czLug4OQvw0zLBug42sBhmX3atLSsGyz1XL9nf6AV3wGG5a969JGw7L3nNlvWHbGoe8Mywbo/rBxf19cTM6GZTeoVs+wbICeD4QYmn8jpnwzuUrbi35iVJW2d6N+930E5M5Rr149XnnlFZycnKhRo8ZNTTESERERuduoIlBKA4G7WJ8+fejTp8+t7oaIiIiI3IY0EBARERERu+KIKgJwnasGiYiIiIjI3UkVARERERGxK1ojUEoVARERERERO6SKgFzVJfOlW92Fm3LZWv7GdpXJyEv8GfkJRQ3XaoZlAzg7GncpOwcD53K6G3iZzIslxv4OuTt5GJZ97MIvhmUbeXlPgP/M22BYdp/3jb0M753KyH8Xa7pWNyzbYvAV1IsN/H+0uotxv/9G/z96O3BURQBQRUBERERExC5pICAiIiIiYoc0NUhERERE7IqRU07vJKoIiIiIiIjYIVUERERERMSuODros3BQRUBERERExC6pIiAiIiIidkU3FCulioCIiIiIiB266YHAzJkz2bFjxzX3iY6OJikpiZycHDp37nyzTd2Qn3/+mW7duhEcHMyFCxcMaaNJkya/a/8r52+UxMREEhMTDcsXERERuRs5VPGf29VNTw3avn07vr6+ldmXP2Tbtm20aNGCadOm3equVJnQ0NBb3QURERERuUPd0EDg+PHjREVFUVhYiKOjIwEBAezevZuYmBhmz57NuXPnmD59OkVFReTn5zNq1Ci6dOlSYVZGRgYJCQl88skn1KpVq8y2uLg4Nm3ahKOjI126dGHIkCHMmjULgIiICAA6d+7Mp59+yrZt20hOTiYvL4/77ruPAwcOUFhYyNixYxk8eDBvv/0258+f58SJE4SEhBAZGUlxcTETJkxg586dODs788Ybb9CzZ0+ysrKYPHkyRUVFeHl5MWHCBBo0aFBh/8eMGUNWVhZeXl5MmjSJevXqceTIEcaPH09eXh5ubm6MGTOG5s2blzlu2bJlLFiwAAcHBx599FHGjBnD+++/z8MPP8yLL77Iv/71Lz755BNWrVpFSUkJXbp0Ye3atTg7O9syMjMziY+Px2Kx0LhxY3x8fGzfm3bt2tGtWzd27tyJyWTigw8+oEGDBmRmZhIbG4vJZKJ169YcOnSIRYsW3ciPXUREROSu5Kg1AsANTg1aunQpAQEBJCUlMXToUNzd3WnRogWxsbE0adKEzz77jNjYWJKTk4mNjWXGjBkV5nz99dckJCTw8ccflxsEHDt2jI0bN5KWlkZiYiIHDx6kuLj4mv3Kzc0lOTmZuXPnMnToUDp37sw777zD8uXL6dWrF0uWLCE9PZ2FCxdy5swZFi1aRGFhIatWrWLBggUkJCRw6dIlYmJimDZtGsnJyQwcOJAxY8Zctc02bdqQmppK165dmThxIgAjR45k+PDhJCcn8+677/LWW2+VOWbfvn18+OGHLFq0iPT0dNzd3Zk9ezYdO3Zk69atAGzdupVz585x6tQpdu7cyeOPP15mEHBFdnY2CxcuJC4urszrJ0+exN/fn5SUFNq0acPixYspKSlhxIgRxMfHk5KSgpOT1oaLiIiISKkbemfo7+9PREQEe/fupWPHjvTv358NGzbYtsfHx/Pvf/+b1atXs2vXLgoKCsplnD17loiICCIiIqhTp0657d7e3ri6uvLCCy/QqVMnoqKicHV1vWa/mjdvXuGb21dffZWtW7cyf/58Dhw4QElJCRcvXmT79u3069cPR0dH7r33XlasWMH+/fs5evQor7/+uu34q60xcHNzIygoCIDg4GA++OADCgoK2L17N6NGjbLtV1hYyNmzZ23Pt2/fTqdOnfDy8gLgL3/5C6NGjeLNN99kzJgxmM1mfvzxR3r27Mn27dv57rvvCAgIqLAPDRs2pHr16hVua9++PQCNGzdmx44d7N+/n9q1a9O0aVMA+vbtaxu8iIiIiNir23neflW6oYHAk08+yYoVK9iwYQMrV64kOTm5zPYXX3wRX19ffH198ff3JyoqqlyGg4MDCQkJREVFERgYiLe3N8HBwbbtqampfPnll2zbto2NGzfywgsvsGjRIhwcHLBYLLb9SkpKbF+7ublV2N8pU6Zw9OhRevXqRZcuXdi8eTNWqxUnJ6cyl4s6cuQIFosFHx8fUlNTATCbzZw6dYrc3FzCw8MBqFu3LnPnzsXR8f8XUK7kWSwWXFxcbMdD6VQqT09P2/Nf9//KsZcvX8bV1ZVmzZqRnp5Oo0aN8PX1ZcuWLezcuZPXXnuNdevWMXPmTKB0SpSfn99VzxmwDZwcHBywWq2YTKZybYuIiIiIwA1ODZo6dSppaWmEhIQwduxY9uzZg8lkwmw2k5eXR3Z2NpGRkXTo0IF169ZhNpvLZXh6euLv709oaCixsbFA6Zv/K489e/bQv39/2rRpw8iRI3n44Yc5fPgwXl5eHDx4EICsrCxOnjx53f5u2rSJV199lR49enD48GFyc3OxWCy0adOGlStXYrVaOX36NP3796d+/fqcO3fOdgWkZcuWERUVhbe3t61vc+fOBUo/6V+3bp1tv6eeeorq1avz0EMP2QYCmzZt4qWXXirTn7Zt27J+/Xry8vIAWLJkiW2hdceOHUlISKBt27a0bduWdevW4eHhQa1atXj66adtfYiMjLyRH1UZjRo1Ij8/n3379gGQnp7+uzNERERE7jaODg5V+rhd3VBFICwsjGHDhpGUlITJZCIuLo5Dhw4xbtw44uLi6Nu3L4GBgTg5OeHn50dRURGFhYUVZoWHhxMUFMTatWvLLChu3rw5rVu3plevXri7u/PEE0/QoUMHzp8/T0ZGBj179uTRRx8ttwi3IoMGDWLEiBG4ublx33330aJFC3JycnjxxReJjY21Te8ZM2YM1atXZ8aMGUycOJHi4mKqVatWbv79FTVq1GDt2rXMmDEDb29vJk+eDJROjRo/fjzz5s3D2dmZ6dOnl6k8NG3alEGDBhEWFkZJSQmPPvooEyZMACAgIIDx48fTtm1batasSe3ata86Lej3cnFxYerUqYwcORJHR0caNmx4zYqCiIiIiNgPB6vVar3VnRBjWCwW3nvvPYYMGYKHhwcLFiwgNzeX6OjoGzr+8Pn9hvVt1+n/Myz7p/M/G5YN0LDGA4ZlT920zLDsl5/oYFg2wP/UbGRYtpdrrevvdJP2nPnesOzNx7IMywZ4+kE/w7KPXfjFsOwl328zLBvgP/M2GJY94/1hhmUbLfS+1wzL/qZ4g2HZxwtzDcv+4vtNhmUDPN2wmWHZddw9r7/TTarlZty/uQBBD/Y1NP9G/HNPQpW2N6j54Cpt70bpMjJ3MUdHRzw9Penbty/Ozs7Ur19fi4VFREREBNBA4K4XHh5uW/QsIiIiInKFBgIiIiIiYld0+dBSN3TVIBERERERubuoIiAiIiIiduV2vqRnVVJFQERERETEDqkiICIiIiJ2xUEVAUADAbmGExeP3+ou3BQPJ2Nvmnbx8kXDsl9q5W9Y9rHzJwzLBii6XGxY9u6T2YZll1gshmX3aRxgWDbAf3KMux6/p2t1w7J7NWlpWDZAn/efNCw78u/TDMtu+5Jxv/8AoYHG3Ufg6Pkcw7IvWy4blv3GE70MywZYfdi4+xT0fOgZw7K3n9hhWLbcXjQQEBERERG74qirBgFaIyAiIiIiYpdUERARERERu6I1AqVUERARERERsUOqCIiIiIiIXXFw0GfhoIqAiIiIiIhdUkVAREREROyKrhpUShUBERERERE7VCUDgZkzZ7Jjx7VvThEdHU1SUhI5OTl07ty5UtvPzMwkLCysUjOvaNKkiSG5NyIxMZHExMRb1r6IiIjIncjBwaFKH7erKpkatH37dnx9fauiKbsSGhp6q7sgIiIiIneoSh8IHD9+nKioKAoLC3F0dCQgIIDdu3cTExPD7NmzOXfuHNOnT6eoqIj8/HxGjRpFly5dKszKyMggISGBTz75hFq1apXZtnnzZqZMmYLVaqVevXpMmzYNDw8PJk2axJYtW3BwcCAoKIjw8PAyxx0+fJixY8eSl5eHh4cHo0ePpmXLlkRHR5OXl8eRI0cYPnx4uarE9OnT2bJlC+fOnaNu3bpMnz6dOnXqADBmzBiysrLw8vJi0qRJ1KtXr8J2GjRoQK9evdiwYQPOzs7s37+fqKgo0tLSSElJYeHChVgsFh599FHGjRuHq6trmT5kZmYSHx+PxWKhcePG+Pj4ABAREUG7du3o1q0bO3fuxGQy8cEHH9CgQQMyMzOJjY3FZDLRunVrDh06xKJFi/7Qz1hERERE7nyVPjVo6dKlBAQEkJSUxNChQ3F3d6dFixbExsbSpEkTPvvsM2JjY0lOTiY2NpYZM2ZUmPP111+TkJDAxx9/XG4QcOnSJaKiooiLiyM9PZ1HHnmE5ORkEhMT+eWXX0hLS+PLL79kzZo1bNiwocyxw4cPJywsjPT0dEaNGkVkZCSXLl0CwNPTk1WrVpUbBBw5coQff/yRL774goyMDO6//37S0tJs29u0aUNqaipdu3Zl4sSJV23nnnvuoWXLlnz99dcArFixgqCgIA4cOMCSJUv44osvSE1NpXbt2syfP7/C70t2djYLFy4kLi6uzOsnT57E39+flJQU2rRpw+LFiykpKWHEiBHEx8eTkpKCk5PWhouIiIg4VPGf21WlDwT8/f35+OOPGTZsGHl5efTv37/M9vj4eA4cOEBCQgILFiygoKCgXMbZs2eJiIjg2WeftX3q/mv79u3D29ubZs2aATBs2DDCwsLIzMwkJCQEk8mEu7s7vXv3ZsuWLbbjCgoK+Omnn3jmmWcAaN26NTVr1uTHH38EoGXLlhWe04MPPsjIkSP58ssvmTJlCt9++y2FhYUAuLm5ERQUBEBwcDDbtm27ZjtBQUGsWLECgFWrVtG7d28yMzM5cuQI/fr1Izg4mHXr1tn69FsNGzakevXqFW5r3749AI0bN+bcuXPs37+f2rVr07RpUwD69u1b4XEiIiIiYn8q/SPiJ598khUrVrBhwwZWrlxJcnJyme0vvvgivr6++Pr64u/vT1RUVLkMBwcHEhISiIqKIjAwEG9vb4KDg23b4+Liyiy8OH/+PAUFBVgsljI5VqsVs9lc5vlv/XofNzc3AL777jtiYmIAaNGiBaGhoQwbNoyXX36Zbt264ejoaMtydHQsk+Xk5HTNdp5++mmmTJnC9u3buf/++/H29sZsNtOjRw9bmwUFBZjNZtatW8fMmTMB6Ny5M35+frY+VuTKVCIHBwesVismk6nc90RERETE3t3OC3irUqVXBKZOnUpaWhohISGMHTuWPXv2YDKZMJvN5OXlkZ2dTWRkJB06dGDdunVl3qhf4enpib+/P6GhocTGxgKQmppqezRs2JDTp09z8OBBAObNm0diYiJ+fn6kpKRgNpu5ePEi6enpZRYpV6tWDR8fH9asWQPAt99+y6lTp2jcuHGZ9h977DFbWxMnTmT79u20bduW0NBQHnroITZs2GDrd2FhIevWrQNg2bJlPPXUU9dsx8XFhfbt2zNp0iRbJcHX15evvvqK06dPY7VaGT9+PAsXLuTpp5+29SMyMvJ3/ywaNWpEfn4++/btAyA9Pf13Z4iIiIjI3anSKwJhYWEMGzaMpKQkTCYTcXFxHDp0iHHjxhEXF0ffvn0JDAzEyckJPz8/ioqKbNNsfis8PJygoCDWrl1bZkGxq6sr8fHxjBgxgpKSEh544AGmTp2Ki4sL2dnZBAcHU1JSQu/evenatSuZmZm2Y+Pj4xk/fjyzZs3C2dmZWbNm4eLics1z6tmzJ0OGDKF3795AaZUgJycHgBo1arB27VpmzJiBt7c3kydPvm47wcHBpKWl0a1bNwCaNm3KkCFDGDBgABaLhWbNmpVb5HwzXFxcmDp1KiNHjsTR0ZGGDRtes6IgIiIiYg90Q7FSDtaK5rHIXcFisfDee+8xZMgQPDw8WLBgAbm5uURHR9/Q8ZknNhrWt18KfzEs+9TFM4ZlA9RwqXiNRmU4U3TWsOwThcZlA9R2r2lY9u6T2YZllxg4fa5P4wDDsgH+k7PNsGxPV+P+njubjL1wgYvJ2bDsyL9PMyy77Uv+hmUDLA/82LDs1FOfGZZ92XLZsOz61eoZlg2w+vAmw7IHt/6rYdnbT1z73k9/1IBHXjM0/0Z8cXBhlbb3wv8MuOF909PTmTNnDpcvX2bAgAG89NJLZbbv3buX0aNHU1BQwJ/+9CcmTJhw0xeE0Z2F72KOjo54enrSt29fgoOD2b59O4MGDbrV3RIRERG5pRwcHKv0caNyc3OZPn06n3/+OSkpKfzrX/+yTYW/Yvjw4YwdO5aMjAysVitLliy56e+DBgJ3ufDwcFauXElqair/+Mc/8PLyutVdEhEREZEKbN68GT8/Pzw9PfHw8KBbt26sXr3atv3YsWMUFRXRunVrAPr06VNm+++lC8uLiIiIiF2p6mv75+fnk5+fX+71GjVqUKNGDdvzEydOcO+999qe161bl6ysrKtuv/fee8nNzb3pfmkgICIiIiJioIULFzJ79uxyrw8ZMoSIiAjbc4vFUubSplartczz623/vTQQEBERERG7UtX3ERgwYAAhISHlXv91NQDgvvvuY8eO/79Y++TJk9StW7fM9pMnT9qenzp1qsz230trBEREREREDFSjRg18fHzKPX47EHjqqafYsmULZ86c4eLFi6xZs4YOHTrYttevXx9XV1d27twJlN5n69fbfy8NBERERETErjhU8Z8b5e3tzVtvvcVf//pXnn32WXr16kXLli3529/+xnfffQfAe++9x+TJk+nevTuFhYX89a83fylZTQ2Sq7JYjbu++p3MinG33rAYeFsPxzv4duouJtOt7sJNMTka+0+s2cDfUQvGZRvZb6MZea3/bYu3GJYNQKCx8UYx8t9Fo/+fc3LU563y+/Xu3dt2E9sr5s6da/u6adOmLF26tFLa0kBAREREROxKVa8RuF1pqCoiIiIiYoc0EBARERERsUOaGiQiIiIidsWxim8odrtSRUBERERExA6pIiAiIiIidkWLhUupIiAiIiIiYodUERARERERu+Kgz8KBKqwIzJw5kx07dlxzn+joaJKSksjJyaFz586V2n5mZiZhYWE3ffzN9CksLIzMzMybbvN6ZsyYwbp16wzLFxEREZG7V5VVBLZv346vr29VNWcXIiMjb3UXRERERO44WiNQypCBwPHjx4mKiqKwsBBHR0cCAgLYvXs3MTExzJ49m3PnzjF9+nSKiorIz89n1KhRdOnSpcKsjIwMEhIS+OSTT6hVq1aZbZs3b2bKlClYrVbq1avHtGnT8PDwYNKkSWzZsgUHBweCgoIIDw8vc9zhw4cZO3YseXl5eHh4MHr0aFq2bEl0dDR5eXkcOXKE4cOHl6sAFBcXExkZyeHDh3nggQeYOHEiNWvWJCsri8mTJ1NUVISXlxcTJkygQYMGZY798MMPSUtLw2Qy8ec//5nhw4czePBgQkND6dixI++//z579uxh3rx5nDhxgldeeYXly5eXyUhKSiI5OZm8vDw6derEiRMnaNu2LW3btmXIkCE0btyYvXv3Urt2bWbMmIGnpycrV65k5syZeHh40KxZM8xmM1OmTLnZH62IiIiI3CUMmRq0dOlSAgICSEpKYujQobi7u9OiRQtiY2Np0qQJn332GbGxsSQnJxMbG8uMGTMqzPn6669JSEjg449iEe0BAAAgAElEQVQ/LjcIuHTpElFRUcTFxZGens4jjzxCcnIyiYmJ/PLLL6SlpfHll1+yZs0aNmzYUObY4cOHExYWRnp6OqNGjSIyMpJLly4B4OnpyapVqyqcBnT69GnCwsJIS0ujQYMGJCQkcOnSJWJiYpg2bRrJyckMHDiQMWPGlDnuP//5D+vXr2fZsmUkJydz5MgRvvjiCzp27MjWrVsB2LFjBz/++CNms5n//ve/dOzYscLvSW5uLsnJyfz9738v8/oPP/zAwIEDWb58OTVq1CA9PZ0zZ84wadIkFi5cyNKlSzl37tzVf2giIiIidsKhiv/crgwZCPj7+/Pxxx8zbNgw8vLy6N+/f5nt8fHxHDhwgISEBBYsWEBBQUG5jLNnzxIREcGzzz5LnTp1ym3ft28f3t7eNGvWDIBhw4bZ5uSHhIRgMplwd3end+/ebNmyxXZcQUEBP/30E8888wwArVu3pmbNmvz4448AtGzZ8qrn1bBhQ/70pz8BEBwczLZt28jOzubo0aO8/vrrBAcH895773H06NEyx23dupXAwEDc3d1xcnLiueeeY8uWLQQEBLBlyxYuXLgAQJMmTfj+++/ZuHEjnTp1qrAPzZs3x8mpfCGndu3aNG/eHIDGjRtz7tw5duzYweOPP463tzeOjo48++yzVz03EREREbEvhkwNevLJJ1mxYgUbNmxg5cqVJCcnl9n+4osv4uvri6+vL/7+/kRFRZXLcHBwICEhgaioKAIDA/H29iY4ONi2PS4ursz8rvPnz1NQUIDFYimTY7VaMZvNZZ7/1q/3cXNzA+C7774jJiYGgBYtWvD666+XeQNutVpxcnLCYrHg4+NDamoqAGazmVOnTpXJ/22fAC5fvsz999+PxWJhzZo1PPHEE9SpU4etW7fy/fff8/jjj5OYmMgXX3wBwAsvvICrq6utf7/l6upa5ntntVpxdHSssG0RERERe+aoNQKAQRWBqVOnkpaWRkhICGPHjmXPnj2YTCbMZjN5eXlkZ2cTGRlJhw4dWLduXZk36ld4enri7+9PaGgosbGxAKSmptoeDRs25PTp0xw8eBCAefPmkZiYiJ+fHykpKZjNZi5evEh6enqZRcrVqlXDx8eHNWvWAPDtt99y6tQpGjduXKb9xx57zNbWxIkTATh06BB79uwBYNmyZTz11FM0atTI9un7ldd/O7Dx8/NjxYoVFBUVcfnyZZYtW4afnx8AHTp0YM6cObRt2xY/Pz8WLVpEq1atMJlMhIaG2voQGhr6u38OTzzxBN999x0nTpzAarWycuVKLY4REREREcCgikBYWBjDhg0jKSkJk8lEXFwchw4dYty4ccTFxdG3b18CAwNxcnLCz8+PoqIiCgsLK8wKDw8nKCiItWvXlllQ7OrqSnx8PCNGjKCkpIQHHniAqVOn4uLiQnZ2NsHBwZSUlNC7d2+6du1a5jKe8fHxjB8/nlmzZuHs7MysWbNwcXG57nk98MADJCQk8NNPP/HII4/w1ltv4eLiwowZM5g4cSLFxcVUq1aNuLi4Msd16tSJvXv38txzz3H58mXatWtnmy4VEBDAggULePLJJ/Hw8KCkpOSq04J+r1q1ahETE8Mrr7yCi4sLPj4+1KhRo1KyRURERO5Ut/O8/arkYK1orozcFc6ePcuiRYsYMmQIjo6OxMbG8uCDD97w/RS25G4wrG+5F3MNyz518Yxh2QDVXaoZln364lnDss8UGbtY3MvNuEHm/jNHr7/TTbpUQUWysjzbuHLvh/JbXx352rBsL7fqhmU7ORp75Wp3J9fr73STFu/cbFj2tsVbrr/TH3Di872GZaee+syw7EvmEsOy61e737BsgPU/GXcvoUEt+19/p5u0/cS17/v0Rw145DVD82/Eyp+Sr79TJer5QEiVtnejdGfhu5inpyf5+fn06tULk8nEo48+Sr9+/W51t0RERERuKU2VLqWBwF3MwcHBtuBZREREROTXDFksLCIiIiIitzdVBERERETErjjos3BAFQEREREREbukioCIiIiI2BUtFi6lioCIiIiIiB1SRUBERERE7IqjbigG6IZicg0nT56/1V0QERGRu8y99xp3w8Ib9VXO8iptr6tPrypt70apIiAiIiIidkVrBEppjYCIiIiIiB1SRUBERERE7IqD1ggAqgiIiIiIiNglVQRERERExK5ojUApVQREREREROyQKgIiIiIiYlcc9Fk4oIrALTdjxgzWrVtHTk4OnTt3rnCfmTNnsmPHjirumYiIiIjczVQRuMUiIyMByMnJueo+27dvx9fXt6q6JCIiInJXc9QaAUAVAUMMGTKEjIwM2/M+ffqQlZXFwIEDCQkJITQ0lD179gAQHR1NUlLSVbNSUlLYvXs3MTEx7Nu3j4CAACwWCwCZmZm89tprZGZmMmDAAF599VW6devG8OHDuXTpku34kJAQgoODefvttykuLjbwzEVERETkTqGBgAGCg4NZsWIFANnZ2RQXFzNp0iSGDx9OcnIy7777Lm+99dYNZT377LO0aNGC2NhYmjRpgo+PD5mZmUDpm/w+ffoA8H//93+MHj2a1atXU1xczOLFizlw4ABLlizhiy++IDU1ldq1azN//nxjTlpERERE7iiaGmSAjh078s4773DhwgWWL19Oz549mTNnDqNGjbLtU1hYyNmzZ3939nPPPUdaWhqtW7dm69atjB8/nm+//ZY2bdrQqFEjoHQgsmTJEpydnTly5Aj9+vUDoKSkhObNm1fOSYqIiIjcoXRDsVIaCBjAxcWFTp06sX79elavXs0///lP5s+fT2pqqm2f48eP4+npWeHxwcHBtq9/fQxA9+7dmT59OhkZGXTo0AFXV1cATCaTbR+r1YrJZMJsNtOjRw9iYmIAKCgowGw2V9p5ioiIiMidS1ODDBIcHMyCBQvw9PSkfv36PPTQQ7Y39Zs2beKll1666rGpqam2B2B7Uw/g7u5Ohw4deP/9923TggB27txJbm4uFouFlJQUOnTogK+vL1999RWnT5/GarUyfvx4Fi5caOBZi4iIiNz+HBwcqvRxu9JAwCBPPvkk58+fJygoCID4+HiWLl1K7969mTZtGtOnT7/hvxjt27dn3LhxfPPNNwAEBgZSrVo1WrVqZdunbt26jBgxgp49e+Lt7c3zzz9P06ZNGTJkCAMGDCAwMBCLxUJ4eHjln6yIiIiI3HEcrFar9VZ3Qm6c2Wxm+vTp1K5dm4EDBwKlVw+aPXs2ixYtqtS2Tp48X6l5IiIiIvfeW/1Wd4Gvj6+r0vba3fd0lbZ3o7RG4A7z3HPP4eXlxZw5c251V0RERETkDqaKgFyVKgIiIiJS2W6HisCm3PVV2t6fvTtXaXs3SmsERERERETskKYGiYiIiIhdcdRn4YAqAiIiIiIidkkVARERERGxK7fztf2rkgYCclUf5yQYlu3lWsOw7NruXoZlAxSWFBqWferiWcOym3g9bFg2QOCoEYZl/3P0W4ZlF5svGZbdvNYjhmUDbD3+jWHZRpbN29zX6vo7/QFmq8Ww7KPncwzLNlpwnf6GZdd9sZlh2Z8mTDAs+39qGvvvYk7BMcOyj57/2bDs//FsaFg2QBB9Dc2XG6eBgIiIiIjYFQdUEQCtERARERERsUuqCIiIiIiIXdEagVKqCIiIiIiI2CENBERERERE7JCmBomIiIiIXdFi4VKqCIiIiIiI2CFVBERERETErqgiUEoVgVtgxowZrFu3jpycHDp37vyH8zIzMwkLC6uEnomIiIiIvVBF4BaIjIwEICfnzr1DpYiIiMgdS5cPBVQRqDRDhgwhIyPD9rxPnz5kZWUxcOBAQkJCCA0NZc+ePQBER0eTlJR0zbzNmzcTFBRE7969GTRoEBcuXMBisRAbG0tgYCC9evXio48+Knfc4cOHCQsLo3fv3vzlL38hKyvL1ub//u//0qNHD9avX1+JZy4iIiIidyJVBCpJcHAw6enpdOvWjezsbIqLi5k0aRJjx46lefPmHDx4kMGDB5cZLFzNpUuXiIqKYv78+TRr1oxp06aRnJyMo6Mjv/zyC2lpaVy6dImwsDAeeeQR3N3dbccOHz6c8PBwnnnmGb799lsiIyNtbXp6evLhhx8a9j0QERERuRNojUApDQQqSceOHXnnnXe4cOECy5cvp2fPnsyZM4dRo0bZ9iksLOTs2bPXzdq3bx/e3t40a9YMgGHDhgEwdOhQQkJCMJlMuLu707t3b7Zs2WJbZ1BQUMBPP/3EM888A0Dr1q2pWbMmP/74IwAtW7as1HMWERERkTuXBgKVxMXFhU6dOrF+/XpWr17NP//5T+bPn09qaqptn+PHj+Pp6Vnh8cHBwbav4+Liytz6+vz58xQUFGCxWMocY7VaMZvNZZ7/1q/3cXNzu7mTExEREbmLOGiNAKA1ApUqODiYBQsW4OnpSf369XnooYdsA4FNmzbx0ksvXfXY1NRU26Nhw4acPn2agwcPAjBv3jwSExPx8/MjJSUFs9nMxYsXSU9Px9fX15ZRrVo1fHx8WLNmDQDffvstp06donHjxgaetYiIiIjciVQRqERPPvkk58+fJzQ0FID4+HjGjx/PvHnzcHZ2Zvr06Tc0AnV1dSU+Pp4RI0ZQUlLCAw88wNSpU3FxcSE7O5vg4GBKSkro3bs3Xbt2JTMz03bslTZnzZqFs7Mzs2bNwsXFxbBzFhEREbnTaI1AKQ0EKtnatWttXz/88MMsWrSo3D5TpkyxfX21K/i0bdu2wisLxcTElHvN19fXVhm4kTZFRERERDQQEBERERG7oopAKa0REBERERGxQ6oIiIiIiIhd0VWDSqkiICIiIiJihzQQEBERERGxQ5oaJCIiIiJ2RYuFS6kiICIiIiJihxysVqv1VndCbk9ZZ3YYln266LRh2XnFZw3LBrhsNRuWfeHSBcOy8y8VGJYN4OxoXIHxUF6OYdmhTYINy87MNe53CKDHg90Nyy42FxmW/dXRiu+fUllqulY3LPtiyUXDsi0G/3f8vPdAw7JXn11iWPZfB48zLHverPL35qlMaw/vMix7jP8gw7I//j7RsGyA9/4cZ2j+jfjuzM4qbe+xWk9WaXs3ShUBERERERE7pDUCIiIiImJXdPnQUqoIiIiIiIjYIVUERERERMSu6KpBpVQREBERERGxQ6oIiIiIiIhd0RqBUqoIiIiIiIjYIVUERERERMSuaI1AKVUEriIxMZHERGNvqPFHzJo1i1mzZt3qboiIiIjIHUoVgasIDQ291V0QEREREQOoIlBKA4FfyczMJD4+HovFQuPGjfHx8SEiIoJ27drRrVs3du7ciclk4oMPPqBBgwZkZmYSGxuLyWSidevWHDp0iEWLFpXLvdrxnTt35tNPP8XHx4fMzExmz57NokWLCAsLo3nz5uzcuZPi4mKioqL49NNPOXToEC+//DIvv/wyAFlZWTz//PMUFhbSr18/BgwYAMBHH33EqlWrMJvNtGvXjuHDh3Ps2DFee+01vLy8cHNzY8GCBVX5rRURERGR24ymBv1GdnY2CxcuxMfHx/bayZMn8ff3JyUlhTZt2rB48WJKSkoYMWIE8fHxpKSk4OR09TFVRcdfj9VqZenSpXTr1o3Y2Fhmz57N4sWLSUhIKJO7cOFC/vWvf7F48WL27t3Lxo0b2b17N0uXLiUlJYXc3FzS0tIAOHz4MPHx8RoEiIiIiF1zcHCo0sftSgOB32jYsCHVq1cv93r79u0BaNy4MefOnWP//v3Url2bpk2bAtC3b99r5v72+Ovp0KEDAPXq1aNVq1a4u7tTv3598vPzbfv07NkTDw8PqlWrRqdOndi2bRtbtmwhKyuLPn36EBISwu7duzl48CAAtWvXLjPAERERERH7palBv+Hm5lbh666urkDpCNJqtWIymbBYLOX2y83NJTw8HIC6desyd+7cCo+/4srXly9fLpPj7Oxs+/pq1YZfv26xWHBycsJsNjNgwAAGDhwIQH5+PiaTibNnz1713ERERETsidYIlFJF4CY1atSI/Px89u3bB0B6ejoA3t7epKamkpqaahsEXI2Xl5ft0/p169b97j5kZGRw6dIlzp07x4YNG/Dz88PPz4/U1FQKCgq4fPkygwcPJiMj43dni4iIiMjdTRWBm+Ti4sLUqVMZOXIkjo6ONGzY8Hd/4j506FDeffddZs+eTbt27X53H+rVq8cLL7xAcXExgwYN4uGHH+bhhx/mhx9+oF+/fpjNZtq3b09ISAjHjh373fkiIiIicvdysP56norcMIvFwnvvvceQIUPw8PBgwYIF5ObmEh0dfau7VmmyzuwwLPt00WnDsvOKzxqWDXDZajYs+8KlC4Zl518qMCwbwNnRuM8VDuXlGJYd2iTYsOzMXON+hwB6PNjdsOxic5Fh2V8dXW9YNkBN1/LrvCrLxZKLhmVbDP7v+HnvgYZlrz67xLDsvw4eZ1j2vFkxhmUDrD28y7DsMf6DDMv++Htj76P03p/jDM2/EQfOfV+l7TWu+WiVtnejVBG4SY6Ojnh6etK3b1+cnZ2pX78+EydOvNXdEhERERG5IRoI/AHh4eG2hcEiIiIicme4nS/pWZW0WFhERERExA6pIiAiIiIidkYVAVBFQERERETELqkiICIiIiJ2RWsESqkiICIiIiJyG/v555956aWX6N69O6+//joFBeUvCX7ixAlefvllgoKCeP7559m7d+91c3UfAbmq08W5hmVv/PnfhmV7unoZlg2w+ZfthmXPSF9tWPbmv1/7Ttd/1MmLxv19cXNyNyy7UfXGhmW3nt7PsGyAdW8kGJY9b/enhmXvyv3FsGww9nr8bzzRy7Bsi9ViWDbAU/cYd9+Jg5adhmXvOfuDYdmvRcQalg2Qv9K4a9VP3jHVsOy/NHnWsGyAVrXaGJp/I348v69K22tUvckfOn7QoEEEBQURGBhIQkIChYWFDB8+vMw+o0aNomXLloSGhrJx40b+8Y9/8MUXX1wzVxUBEREREZHbVElJCdu3b6dbt24A9OnTh9Wry39wOHHiRP7yl78AkJOTQ40aNa6brTUCIiIiImJXHKr4qkH5+fnk5+eXe71GjRrXfcN+9uxZqlWrhpNT6dv2e++9l9zc8lV4R8fSz/e7d+/OsWPH+Mc//nHdfmkgICIiIiJioIULFzJ79uxyrw8ZMoSIiAjb81WrVjF58uQy+zz44IPlFjdfa7Hz6tWr2bt3L6+88gqrVq3C09PzqvtqICAiIiIidqWqrxo0YMAAQkJCyr3+22pAjx496NGjR5nXSkpK8PX1xWw2YzKZOHnyJHXr1i2XtWHDBtq0acM999xDs2bNqFevHkePHtVAQERERETkVrmRKUBX4+zszJ/+9CdWrlxJ7969SUlJoUOHDuX2S05O5vDhwwwcOJCDBw9y6tQpGjVqdM1sDQRERERExK5U9RqBP2rcuHFER0czZ84c7r//ft5//30AEhMTOXHiBJGRkbz99tu8/fbbJCcn4+rqyrRp07jnnnuumauBgIiIiIjIbax+/fosWrSo3OuhoaG2r729vZk/f/7vytXlQ0VERERE7JAGAgZJTEwkMTGxUrJGjRrFsWPHKiVLRERExN45VPGf25UGAgYJDQ0tU675IzIzM9ENoEVERESkMmmNQCXKzMwkPj4ei8VC48aN8fHxISIignbt2tGtWzd27tyJyWTigw8+oEGDBmRmZhIbG4vJZKJ169YcOnSo3Pyvjz76iBMnThAeHk5kZCQLFiyw3S46KSmJXbt20apVKzZs2MDp06c5efIknTp1Ijo6GgcHBz766CNWrVqF2WymXbt2DB8+vMovmSUiIiJyO9F7oVKqCFSy7OxsFi5ciI+Pj+21kydP4u/vT0pKCm3atGHx4sWUlJQwYsQI4uPjSUlJsd0t7rfCw8OpW7cuH330Ec888wwnT57kp59+AiAlJYU+ffoAsHPnTmbMmMHy5cvZtWsXX331FRs3bmT37t0sXbqUlJQUcnNzSUtLM/6bICIiIiK3PQ0EKlnDhg2pXr16udfbt28PQOPGjTl37hz79++ndu3aNG3aFIC+ffteN9vBwYGQkBDS0tL4+eefOX36NK1atQLg6aefpk6dOri4uNCzZ0+2bt3Kli1byMrKok+fPoSEhLB7924OHjxYiWcrIiIicufRGoFSmhpUydzc3Cp83dXVFSh9M2+1WjGZTFgslnL75ebmEh4eDkDdunWZO3dume0hISG89tpruLi4EBwcbHvdZDLZvrZYLJhMJsxmMwMGDGDgwIEA5Ofnl9lPREREROyXKgK3SKNGjcjPz2ffvn0ApKenA6XXgE1NTSU1NdU2CLjyph5KryN733338cUXX5QZCPz3v//l/PnzFBcXs2LFCjp06ICfnx+pqakUFBRw+fJlBg8eTEZGRhWfqYiIiMjtxcHBoUoftytVBG4RFxcXpk6dysiRI3F0dKRhw4ZXrSYEBAQQHh7OvHnzaNCgAT179mTNmjV4e3vb9qlVqxZ/+9vfOHv2LEFBQbapSD/88AP9+vXDbDbTvn17QkJCquT8REREROT2poFAJfL19cXX1xeAiIgI2+tXPvUH6NOnD3369MFisbB+/Xo+//xzPDw8WLBgAbm5uRXmjh49mtGjRwNw+fJltmzZwvPPP19mn0aNGjFlypRyx77xxhu88cYbf/jcRERERO4Wt/O8/aqkgcAt4ujoiKenJ3379sXZ2Zn69eszceLEax5jtVpp3749Tz31FF26dKminoqIiIjI3UgDgVsoPDzctjD4Rjg4OLBly5Zyr1+pMoiIiIjIjVBFALRYWERERETELqkiICIiIiJ2RfWAUqoIiIiIiIjYIVUERERERMSu3M7X9q9KGgjIVSVk/dOw7Lb3tTYse9XhfxuWDfC/LQcalv3CsL6GZf81dbxh2QDD2xl3j4q84nOGZT83P8aw7B1vLjYsG2DC1qmGZU9t965h2XP3fGRYNkCx+ZJh2asPbzIs28nR2CL9U826G5adU3DMsOy1h3cZlp2/8nvDsgFq9HzUsOyNiz4xLDv54ArDsgFatW1jaL7cOE0NEhERERGxQ6oIiIiIiIid0dQgUEVARERERMQuqSIgIiIiInZF9YBSqgiIiIiIiNghVQRERERExM6oJgCqCIiIiIiI2CVVBERERETEruiGYqVUETBAbm4uf/vb3665T1ZWFvHx8ZXSXpMmTSolR0RERETshwYCBvD29mbu3LnX3OfgwYOcPn26inokIiIiIlLWHTk16Pjx40RFRVFYWIijoyMxMTH8/e9/p3v37mzevBmASZMm0bx5cw4fPszYsWPJy8vDw8OD0aNH07JlS6Kjo8nLy+PIkSMMHz6cOnXqMHnyZIqKivDy8mLChAk0aNCgXNv+/v507dqV//u//+Oee+7hvffew8fHh86dO9OyZUv27t1LfHw8b775JuvXryc6Oppq1arx/fffk5uby+DBg+natSszZ86ksLCQOXPm8Prrr5dp49ixY4waNYozZ87g5uZGbGwsTZs2ZdmyZSxYsAAHBwceffRRxowZwz333GM77uLFi8TExLBv3z4cHBx49dVXefbZZ0lKSiI5OZm8vDw6derE3//+d2N/QCIiIiJy27sjKwJLly4lICCApKQkhg4dys6dOwHw8PAgJSWFoUOHMnLkSACGDx9OWFgY6enpjBo1isjISC5dugSAp6cnq1atol27dsTExDBt2jSSk5MZOHAgY8aMqbDtM2fO8Pjjj5Oenk5gYCCxsbG2bR06dCAjI4NatWqVOeb48eN8/vnnzJkzh6lTp1KjRg2GDh1K586dyw0CACZMmEC3bt1Yvnw5ERERzJkzh3379vHhhx+yaNEi0tPTcXd3Z/bs2WWOmzVrFl5eXixfvpyFCxcya9YsfvjhB6B0ulJycrIGASIi8v/Yu/O4qKr3D+CfgRHBKEUTct+TQsUFFcNQ0NBEdgVNQMVEzA1TwwWVBEqBFgW1tNxNEWVzww23REFJXAHJDXFjE1xYZ+79/cFvboxifeOeixDPu1evlwz4mQteZu655znPIaTek9Xwf7VVnRwIDBgwABs2bMCcOXNQUFAAV1dXAICzszMAwNLSEo8fP8ajR4+QmZkJKysrAEDPnj3RuHFj3Lp1CwDQo0cPAMCdO3dw7949TJ06FXZ2dggJCcG9e/eqfO6GDRvC3t4eAODg4IDExEThc8bGxlX+HTMzM8hkMrz//vsoKCj4x+/v/PnzsLOzAwAMGjQIK1euxPnz52FhYQE9PT0AgIuLC86dO6f2986dO4dRo0YBAJo2bYohQ4YgKSkJAPDhhx9CLq+TE0CEEEIIIUQCdfLKsE+fPti/fz9OnDiBAwcOICoqCgDULnQ5joNSqXzl7/I8Lzyura0tfG3r1q0RExMDAFAqlcjNzcXjx4/h6ekJANDX18f69euhoaEhrDTnOA6amppCdsOGDas8XtXjr1uhvmjRIly9ehUAEBAQoPZ98DyPmzdvguO4V74PhULxymP/9L0SQgghhNR3tfkufU2qkzMCQUFBiI2NhYODA5YsWYLr168DAPbv3w8AOHLkCDp16oRWrVqhdevWOHz4MAAgJSUFubm56NKli1pex44dUVhYiAsXLgAA9uzZg7lz58LAwAAxMTGIiYkRFv8WFxcjPj4eABAZGQlzc/NqfQ+amprChXxgYKDwPN27d4eJiYnwvSQkJGDx4sXo168f4uPjhRmFXbt2oX///mqZpqam2L17N4CKEqZjx46hX79+1To+QgghhBDy31YnZwTc3NwwZ84cREZGQlNTEytWrMCyZcvwxx9/YPfu3dDR0cHy5csBAMHBwfDz80NoaCgaNGiA0NBQaGlpqeVpaWlh5cqVCAwMRGlpKXR1dbFixYrXPn9cXBx++OEH6Ovr/+3X/Z0ePXogLCwMISEhmE7esDMAACAASURBVDt3rtrnlixZAl9fX/z222/Q0dFBQEAAOnfujClTpsDNzQ3l5eUwMjLC119/rfb3pk2bBj8/P9jY2ECpVMLLywtGRkZIT0+v1jESQgghhJD/Lhn/cj1JHWVpaYktW7agdevWkj5P165d682F9bLzyyTL7vdeT8my4zMTJMsGAK8eEyXL5iHdr6N7jJ9k2QAwb6CDZNkFpYWSZS+LiZAs+/ysbZJlA8DX54Ikyw4a6C9Z9vrr6yTLBoBSZZlk2bcLHkmWLdeQdpLe94OlkmWfeBYrWXZk+u+SZa8bulyybAB4Z4SRZNmntm6SLPtYpnQ/cwDw6+cnaf7/IrdEut/lqryr/V6NPt//qk6WBhFCCCGEEELEqZOlQVVR1e1Lrb7MBhBCCCGE/Fe9roFLfUMzAoQQQgghhNRDNBAghBBCCCGkHqKBACGEEEIIIfXQf2aNACGEEEIIIf8L2lCsAs0IEEIIIYQQUg/RjAB5rbuFuZJlt9S9L1m2sX5XybIB4HHRQ8myL+Zclizb5+NRkmUDwOWcVMmy5/T6UrLsR0PzJMv+/eEpybIB4MN320uW/ahYut9RLc0GkmUDwNtajSTLHtHeSrJsyZVLF33v2QPJshcPmCJZ9rcXpNuLA5C217+52wTJss//Fi5Zdu1BMwIAzQgQQgghhBBSL9GMACGEEEIIqVdoPqACzQgQQgghhBBSD9GMACGEEEIIqVdoZ+EKNCNACCGEEEJIPUQzAoQQQgghpJ6hGQGAZgQIIYQQQgipl2hGgBBCCCGE1Cs0H1CBZgRqGTc3NyQmJv7j16jY2dlJfUiEEEIIIeQ/iAYCdVBSUpLw55iYmDd4JIQQQgghpK6i0qB/KTExEWvWrIFcLkdWVhZ69OiBwMBA7N27Fxs3boRMJoORkREWL16Mt956CwMGDMAnn3yCixcv4q233kJISAhat24NS0tLbNmyBa1bt0ZiYiLCwsKwdetW4XkUCgX8/PyQkZGB3NxcdO3aFd9//z1CQkIAAKNHj0ZERAS6du2K9PR0FBcXw9fXF+np6ZDJZJg0aRLs7e0RGRmJ06dPo7CwEPfu3YOZmRn8/Pze0E+PEEIIIaQ2oOIggGYEquXixYtYtGgR4uLiUFpainXr1uGnn37C1q1bsXfvXujo6CAsLAwAkJ+fj169emHv3r2wtrZGQEDA//wcDRo0QHh4OI4cOYJnz57h5MmT8PX1BQBERESofX1oaCj09PSwb98+bN68GaGhoUhLSxOyVq1ahdjYWBw/fhzp6ekMfxqEEEIIIaQuooFANfTt2xcdO3aETCaDnZ0d1qxZAwsLC+jp6QEAXFxccO7cOQBAw4YNYW9vDwBwcHD4x/r/ys/x2WefYfv27QgMDMSdO3dQVFT02q8/d+4cRo0aBQBo2rQphgwZIpQQ9erVC7q6utDR0UGbNm1QWFhY7e+dEEIIIaSuk8lkNfp/bUUDgWrQ1NQU/szzPDiOU/s8z/NQKBQAAA0NDeEE4Djulb8LQPjayo4dO4a5c+dCW1sbjo6O6Nu3r/D1VXn5czzPQ6lUAqgYjKjIZLK/zSGEEEIIIfUDDQSqITk5GY8fPwbHcYiOjsaCBQsQHx+PgoICAMCuXbvQv39/AEBxcTHi4+MBAJGRkTA3NwcA6Onp4c8//wRQcdH/srNnz+LTTz+Fk5MT3nnnHSQmJgoX9pqamq8MHkxNTbF7924AFeVIx44dQ79+/ST47gkhhBBCyH8BDQSqQV9fH1999RVGjBgBAwMDuLq6YsqUKXBzc8Pw4cPx9OlTeHt7C18fFxcHGxsbnD59GgsXLgQAzJw5E4GBgXBycsLbb7/9ynOMHj0a+/fvh42NDWbNmoXevXsjKysLADBkyBDY2dmhtLRU+Ppp06ahoKAANjY2cHV1hZeXF4yMjCT+SRBCCCGEkLqKugZVw7vvvovNmzerPTZ69GiMHj26yq8PCgp65bFBgwZh0KBBrzxeuXPQ3r17q8wLDQ0V/qxa+Kurqyt0FKrM0dERjo6OVeYTQgghhNRHMuoaBIBmBAghhBBCCKmXaEbgX+rfv79Q//+/oFadhBBCCCG1Dc0IADQjQAghhBBCSL1EMwKEEEIIIaReofmACjQjQAghhBBCSD1EMwKEEEIIIaReqc27/dYkmhEghBBCCCGkHqIZAfJa+m/pSpfdqLlk2Vdy0yTLBgCO5yTL7tSkg2TZReUvJMsGgG7vvi9Z9uW8ZMmylbxSsux2b7eTLBsAPtT7ULLs89lJkmW30W0pWTYAKCT8Nz2ffUGybKmN0OskWXZnCV+7NlzbIVm22wejJMsGgKg/90uWff63cMmy+37mIlk2APBHsiTN/9/QjABAMwKEEEIIIYTUSzQQIIQQQgghpB6i0iBCCCGEEFKvUGFQBZoRIIQQQgghpB6iGQFCCCGEEFLP0JwAQDMChBBCCCGE1Es0I0AIIYQQQuoV2lCsAs0IEEIIIYQQUg/RQOANSExMhJub2//89V27dq3y8UWLFuHKlSt49uwZpk2b9o85CxYswP379//n5yWEEEIIIf9dNBCowwIDA9G9e3cUFhYiNTX1H78+MTERPM/XwJERQgghhJDajgYCb0h+fj4mT56MYcOGwcvLC2VlZfjhhx/g7OyMYcOGwc3NDbm5ucLXL168GHZ2dpgwYQIePHgAAHBzc0NiYiICAgKQnZ0tzApUlbNu3TpkZ2fD09MTT548eSPfMyGEEEJIbSCr4f9qKxoIvCEPHjzAkiVLcPDgQeTm5mLHjh24desWdu7ciUOHDqFFixaIjY0Vvr5v376IiYnBJ598gsDAQLUsX19f6OvrY/Xq1bh7926VOZ6entDX18e6deugp6dX098uIYQQQgipZahr0BtiaGiINm3aAAA6deqEd955Bz4+PoiIiMDt27eRkpKCtm3bAgC0tbVha2sLALCzs8OPP/742tx27dq9Nuff+nbAN9X6e2+abbs3fQSkLumvb/6mD6FW6tLY6E0fAqlDbDFKuux20mVLzbhf3zd9CNXCH8l604cgOW3NRm/6EGoFmhF4Q+Tyv8ZgMpkMT548waRJk8BxHIYNG4ahQ4cK9fwaGn/9M/E8r/Z3X3b16tXX5hBCCCGEEKJCA4FaQiaToV+/fhg7dizat2+PEydOQKlUAgCKiopw7NgxAMCePXvw0Ucfqf1duVwOhUIBADh//vxrczQ1NYU/E0IIIYSQ+o0GArVESUkJ0tLSYGNjA3d3d3Tr1g1ZWRVTc++88w6OHj0KW1tbnDlzBgsWLFD7u82aNUPLli3h5uaGESNGvDZn8ODB8PT0xL1792r8+yOEEEIIIbWLjKe6EUIIIYQQQuodmhEghBBCCCGkHqKBACGEEEIIIfUQDQQIIYQQQgiph2ggQAghhBBCSD1EAwFCCCGEEELqIRoIEEIE+fn5b/oQCCGEEFJDaCBARMnOzgYAXLhwAdu3b0dJSckbPqJ/p7CwkHnmzp07mWf+nefPnzPLGjduHLOsl82YMeOVx8aPHy/Z87GWlZUlbNDHci+OEydOMMuqSRkZGa88lpKS8gaOhNQFUp/nkyZNkjR/7969+OGHH1BcXIzo6GhmuT/88AOzrNfJyMjAhQsXcP78eeF/Fqp6/7x//z6TbFJz5G/6AEjdtXTpUpSXl8PDwwNz5syBmZkZLl68iJCQECb5hYWFCA4ORmZmJlatWoUVK1Zg/vz5aNy4sejs1NRUzJ49GyUlJQgPD4erqyt+/PFHGBkZic7etm0bxowZIzrndY4fP44LFy7giy++wKhRo5Cfnw8fHx84OjqKzjY0NER0dDR69OgBbW1t4fGWLVtWO3P69OlITU1FdnY2hgwZIjyuVCrx3nvviTpelbCwMLWPZTIZtLW10alTJwwePFh0/oEDB7B27VoUFxcjPDwcY8aMwVdffQU7OzvR2cHBwUyOsSplZWX49ddfcfv2bSxZsgSbNm2Cp6cntLS0qp2ZnJwMjuPg6+uLwMBAqLaiUSgU8PPzw6FDh5gcu5WVldpO6Kp/044dO8LHxwetWrWqdrabmxtkMlmV2V5eXqJeY6TMBvDKhpKVz/XRo0eL+reV4nxRkfI8B4Di4mI8fPgQLVq0YJ4dEhKCR48e4dq1a5g8eTL27NmDtLQ0zJ8/X3T28ePH4e3trXbOsPT111/j+PHjaNOmjfCYTCbDli1bqp358OFD8DwPT09PrF+/XngNUCqVmDx5MuLi4kQfN6k5NBAg1XblyhXs2bMHYWFhGDVqFGbMmAEnJydm+YsXL4aZmRkuX76MRo0aQV9fH/PmzcO6detEZwcEBGD16tWYM2cODAwM4Ofnh6VLl2L37t2is9977z24u7vD2NgYDRs2FB6fPn266Gyg4qI3MDAQBw4cQI8ePbBkyRK4ubkxGQhcunQJly5dUntMJpPh2LFj1c5cvnw5CgoKEBgYCF9fX+FxuVyOZs2aVTu3sszMTNy9exfW1tYAgMOHD0NXVxfJyclISkrCV199JSp//fr12LFjB1xdXdGsWTNERUVh4sSJTAYCbdq0wYIFC2BsbKw2+LK3txedvWzZMjRt2hTXr1+HpqYmMjMzsXDhQlGD9YSEBCQlJSE7OxsrV64UHpfL5XBxcRF9zCrm5uZo3bo1Ro0aBQCIjY3FlStXYGlpiUWLFmHTpk3Vzu7cuTPkcrnwerVv3z48evQIBgYGWLRo0SsDy9qSDQCampooLCwUzo8DBw7gxYsX0NDQwNKlS/Htt99WO1uK80VFyvMcAJ48eQJLS0s0a9YMDRs2BM/zol+7VH7//XdERUXBwcEBurq62LhxI2xtbZkMBJo0aYLhw4fDyMhI7f1CzL9jZWfOnEFcXJzaz1ysVatWITExEdnZ2WqzyHK5XNLBHpEGDQRItSmVSnAch2PHjuHrr79GcXExiouLmeVnZWXBxcUFO3bsgJaWFmbPng1bW1sm2cXFxejUqZPwsZmZGVasWMEku2fPnkxy/o6hoSFCQ0Nha2uLt956C+Xl5Uxy4+PjmeRUpqurC11dXaxduxYZGRkoLCwU7iBlZmaib9++op/j9u3b2L59u3DncsyYMXBzc0N4eDhsbW1FDwQ0NDSgq6srfKyvrw8NDTaVlXp6egDwygCMxQXStWvXEBUVhVOnTkFHRwcrVqyAjY2NqExViVd0dDSzi7iqJCcnqw0cP/vsMzg6OuLbb7/FmjVrRGVfunQJkZGRwseGhoZwcnJCSEiI6LIPKbOBitnMPXv2CB9bWlpi9OjRWLlypejXRynOFxUpz3MA+OWXX5jkVEX1u666a19WVsbs99/BwYFJzuu0adNGeL1lRTVIWbduHTw9PZlmk5pHAwFSbfb29hg4cCB69+4NY2NjjBgxgukdQU1NTTx79kx48b1z5w6zF98mTZogLS1NyI6NjWVScgRU3PnPz8/HpUuXoFQq0bNnT7z77rtMsgHg3Xffhb+/P65evYrg4GAsX75cVOlOZfn5+Vi2bBnOnj0LpVIJU1NT+Pn5MTn+ZcuWIT4+nukUtcrTp0+hUCiEgUB5eTmKiooAgMmbYJcuXbBt2zYoFAqkpqbit99+g6GhoehcoOJNtby8HLdv34ZSqUSXLl0gl7N5aZbJZCgrKxPO8ydPnjArQfj444/h7e0tybkCVFx8nT59Gh9//DEA4PTp09DS0kJubi4UCoWo7PLycmRkZKBLly4AKmqoOY5DSUmJ6EG1lNkAUFRUhJycHDRv3hwAkJeXh9LSUgBQK6WqDinPFynPcwBo1aoV9u7diz///BNeXl44dOgQs0HG8OHD4e3tjcLCQmzatAmxsbEYOXIkk2wHBwfcuHEDSUlJUCgU6N+/Pz744AMm2QDQuHFjWFtbo1evXmolXixmHJycnLBp0ya8ePECPM+D4zhkZWUhKChIdDapOTKe9VCR1CscxwkX50+ePBHu+rBw+vRpfPfdd3j48CH69OmDlJQUfPPNN0ymHjMzM+Hj44MrV65AW1sb7dq1Q3BwMDp27MjkuBcuXIiePXuC4zhcvHgRgYGBsLCwEJ0NVCwOPnr0KHr37o22bdti+/btsLOzU7tjXV3Tp09Hr1694OLiAo7jEB4ejgsXLuDnn38WnW1lZYXY2FimU9QqW7ZswY4dOzB48GBwHIdTp07B1dUV5eXluHLlCr777jtR+UVFRVi7di0SEhLAcRxMTU0xffp0vPXWW6KP/erVq5g5cyaaNGkCjuOQm5uL1atXw9jYWHR2dHQ0IiIicPfuXXz66ac4evQopk2bJpTbiCHluQIAN27cwPz584XFh23btsXy5csRFxeHli1birqTmpiYCB8fHzRr1gwcx+Hp06cICgpCfHw8GjduLOoup5TZQEUp0LfffotevXqB4zhcvXoVixYtQlpaGp4+fYpFixZVO1vK80XK8xxQr+OPiIjA1KlTYWRkxKR8B6h4XU9ISADP8+jfvz+z1/Po6GiEhYVh6NChwgz71KlTmfzMASAqKqrKx1nMRLi7u6NFixZISUnB0KFDceLECXTv3h3Lly8XnU1qEE9INcXHx/NBQUH88+fP+eHDh/P9+vXj9+zZw/Q58vLy+OPHj/PHjh3jc3JymGbn5OTwL1684J89e8bfuXOHWa6DgwOfmZkpfJyZmcnb2toyy+d5no+JieG///57vqioiI+KimKWW9Vxjhw5kkm2h4cHX1RUxCSrKmlpafzGjRv5zZs38zdu3OB5nudv377Nl5aWis4+dOjQK49t2rRJdC7P87yLiwufkpIifHzx4kXeycmJSTbP83xGRga/bds2fsuWLXxqaiqzXCnPlcoKCgr4Z8+eMc8tLy/nr127xqempvJlZWU8z/M8x3G1PpvnK14XDx8+zB89epTPy8vjeZ7nnzx5wiRbqvNF6vPczs6O5ziOt7Oz43m+4t/g008/ZZZ/5MgRftmyZfw333zD//7778xybW1t+fz8fOHjvLw83tramlk+z/N8eno6v3XrVn7jxo389evXmeUOGzaM53meX758OZ+SksLn5+fzNjY2zPJJzaDSIFJtUi5aBSrKPdauXYtz585BLpfD3NwcU6dOZXJHecuWLYiKikJUVBTu378PLy8vTJgwgUlpk0KhUCt/adOmDTiOE52rImUHC5lMptZ548GDB8ym76WcolYoFHj48CGaNGkCoKLW+dq1a8xKA7y9vTF48GAEBwcLswDR0dFM2p8WFRWp3RXt2bOnUOohVnl5OX7//Xfhd6hhw4bo2rUrk3IPKc8VALh+/Tp++ukntTUlAJiUkt2/fx/btm17JZvFuShlNlDxunjw4EEUFBSA53mkpqYCYNOMQMrzRcrzHJC2jn/58uVISUmBtbU1OI7DypUrceXKFXh5eYnO5jhObSa9adOmTDsIvTzjMH36dGYzDqpy2g4dOiAtLY3Z7A6pWTQQIKJItWgVAObNm4eOHTsiJCQEPM9jz549WLRokegyDwDYtWsXdu3aBaCitjQyMhLOzs5MBgItW7bEpk2bhBfa3bt3i2p1+DIpO1jMmjULLi4uMDY2Bs/zuHTpEvz9/RkcdUVNuarem7U5c+bgwYMH6NSpk9qbKKuBwPvvv49+/frBxcUFoaGh6NChA7MFeI0bN8bRo0cxdOhQAMDRo0eFAY1Yvr6+KCkpgbOzMziOQ0xMDDIyMkSVj6hIea4AgI+PD1xcXNClSxfmrRW9vb1hYmICExOTOpUNVPzc3377bUl+LlKeL1Ke54C0dfzHjx/H/v37hYHumDFjYG9vz2Qg0LVrVwQGBqq9X7BafwQAGzduREREhDDY8PLygru7O5OBgKmpKWbOnAkfHx94eHjg2rVrkpR+Eom9uckIUtd5enryy5Yt483NzfkXL17w3377Le/p6cksv6rpUVZTplZWVnx5ebnwcXl5ObOyhtzcXH7WrFl8//79+X79+vEzZ87kHz9+zCSb5ytKjziO4+3t7Xme5/kXL14wnUquXI6Vm5vLLJfnef7evXv88ePH+fLycrXyKbGGDRvGtPTiZaqf9e+//85bWFjwx44d40eNGsUk+9atW/yoUaP4fv368f369eOdnJz4mzdvMslWTd2rKJVKpuUSqnMlPj6e+bnC6udbFdW/Z13L5nlpyq9UpDxfpDzPVU6dOsUvX76c//bbb/n4+HhmuePGjRNKsHie5589e8aPHTuWSXZxcTG/YsUK3tHRkXdwcOCXL1/OtBSuqvOF5Tl09+5dnud5/sqVK/zGjRuZvteRmkEzAqTavvvuOxw9ehTu7u5o1KgR2rRpU+XusdXVuXNnXLhwASYmJgCAtLQ0tGvXjkn20KFDMX78eHz66aeQyWQ4dOgQLC0tmWQ3a9YMP/74I5Osqrx85ysmJkb0na/X9Ta/fv06ADZlB6pNuUpKSrBz506mm3J16tQJOTk50NfXF51VFf7/7/6bmZlhw4YNmD59Oh4+fMgku0OHDoiIiEBRURE4jmOy6FuldevWuHv3rvB7k5ubCwMDAybZxcXF+PXXX9W6Bs2aNQuNGjVikj9w4EBs3boVAwcOVOuvzqJDVp8+fRAfH4+BAwcy2SyrprIB4IMPPkBaWhrTu8YqUp4vUp7nKs2bN0eLFi3QoEEDZu8VQEW5jq2tLYYMGQK5XI7Tp0+jadOmwuZuYsq+tLW1Rbc3/jtSzjjMmDEDoaGhAIBu3bqhW7duGD9+PDZv3swkn9QM6hpEqq2srAwnT57EixcvAFS0rsvKysKsWbOY5Nva2uLGjRvo0KEDNDU1cfv2bTRu3Bja2tpMNoqJi4vD+fPnIZfL0bdvX2HKurosLS3/dqqexcY2KqoOFhzHYcCAAaI7KakGApcvX8ajR48wfPhwyOVyHDlyBK1atWIysHFwcMDWrVvh6uqK6OhoZGdnY+LEidi/f7/o7EmTJuHixYt4//331S6+WNSTA8DFixfRq1cv4ePnz59j+/btmDJlSrUzX96B9mUsjn3ChAlISUmBiYkJNDU1kZycDH19faHFp5jnWLBgAXR0dODs7Aygotzu2bNnCA4OFn3cAKocmLPaIGrgwIHIzc19JVtVb19bs4GK36O0tDRJNs6qfL7I5XIkJyejefPmos6XmjjPVTnbt2+HpaUllEolTp48CS8vLybdcV7XeUelOs9haGhY5c9F9e/J6nwpKSkRNgDj/7/j0bRp00QNxFS7xT9+/FhtoKjaLX7nzp0sDp3UEBoIkGqbPn06CgsLkZmZCRMTEyQmJqJ3795YtWoVk3xV28DXEVt3f/36dRQVFYHneWEQI6ZuUurjVSkrK8OtW7dgaGiI2NhYpKamYvLkyWjatKno7DFjxmDjxo3Q0dEBAJSWlsLd3R3h4eGis52cnLBnzx7Y29sLGyvZ2Nhg7969orOTkpKqfLxfv36icsPDw+Hi4vLaGRMxMyWvO2YVsccu9XPY2toiNjZW7bERI0bgwIED1c4k/+x1rzMsXl+kOF9q4jwHKl5LduzYIVzgFhYWwtXVlcnri5+fHxwdHdGjRw/RWf8Fz58//9vd4lk2DSDSo38tUm3p6ek4fPgwAgMD4eTkBG9vb3h7ezPLb968uWQzDr6+vkhKSkJhYSE6duyItLQ09O7dW9RAQPVGzPM8duzYgXPnzkGhUMDU1BSurq6ij1ll3rx5aN26NcrKyrB69WrY2tpiwYIFTPq3v7yBUHl5OQoKCkTnAtJsynXt2jUYGRlJsigTYLMZ2etUvgA6efKkcL70799f9OxU5edgPeBV4XkeT58+xTvvvAOgopuNpqam6NzQ0FDMmDFDKLt4mZgyDCkHdlJmAxULVi0sLHD+/PkqP89iILB+/Xo4OjpiyJAhzMqaauI8BwAdHR00aNBA7WNW34OxsTG+++475Ofnw87ODnZ2dsKGbmIVFxcjLCyMeYmdg4MDoqKiXpl5YDHjcPfuXRgZGWHixIl48OCB2udY7RZPag4NBEi1NWvWDDKZDB06dEB6ejrs7e2Zdg368ssvq5xxYCEhIQGHDh2Cv78/3N3dUVxczGwTlKCgINy9exdOTk7geR6RkZG4d+8ek84bAJCVlYWVK1ciODgYTk5O8PT0hJOTE5Ps0aNHw8nJCebm5gCA+Ph4uLu7M8lesmQJ1q5di4YNG2LhwoUwNTWFj4+PqMydO3fC39+/ylkoFrsWjxkzBkDFRVxZWRm0tLRw9+5d3L59W/gZibV+/XocPnwYNjY24HkeP/30EzIyMjB16lTR2VIMeFUmTJiA0aNHCxsrxcfHi94sCwCMjIwAsLtTXJmUAzupJ9evXLkCCwsLJCYmVvl5Fh2yJk+ejOjoaAQHB2PQoEFwcHBgdhdcqvNcNfBq0qQJxo4dixEjRkAulyMuLg7t27dncOQVF9UODg54+PAh9u3bhzFjxqBz584YPXq06MHMsmXLoKOjg2+++QZARYnd0qVLRZfYqcqZ0tLSXvlcWVmZqOwdO3YgICBAWB9QGavd4kkNquHFyeQ/xNfXl1+2bBmfkZHB29nZ8T///DPTbgRDhw7lOY7j/f39+evXr/OZmZm8o6Mjk2wXFxee5ys2hdq3bx/P8zyzjVBsbGx4pVIpfFxeXs4PHz6cSTbPV2yck5eXx1tZWfHp6el8dnY2s65BSqWSDw0N5Q0NDfnevXvzmzZtUvteajNV15qioiKmG8TxPM+HhYXxs2fP5u/fv8+bmZnxEyZM4AMCAphkjxw5ki8uLhY+LioqYna+WFhY8GVlZfzixYv5jIwM/vLly/xnn33GJDsvL49PT08XNp9KS0tjkqvi4eHBNK+y+fPn18lsnuf577//XtJ8nq/oZBMVFcWbm5vz1tbW/MaNG0VvzCfVeR4aGvq3/7OSmZnJh4WF8Z9++ik/ceJEPiIigv/yyy/5efPmicqt6n2HZWcvZ2dntY+VSqWknadI3UMzAqTa/Pz8QBzh1AAAIABJREFUcPHiRXTu3BkzZ85EQkICkx7/KlLOOBgYGODnn3/GgAEDhDsvYu+SqCiVSigUCmFaWqlUMimZUJk0aRKcnZ1haWmJ999/H8OGDWO2QDs4OBiZmZkICwsTZjOysrKYzGZs2rQJa9aswbNnzwCwXRS3detWREZGIioqCvn5+Uw3iAMqFnr/9ttv2LJlC2xtbfHVV18x2ziP53m13tsNGzZkVmOrr6+PBg0aoFOnTkhPT4e1tbXw8xdr3LhxOHjwIN5//30meS8rKSlR27CMpRs3buDFixfC5nB1JRuoKBHy9vaWrBwuMTERMTExOHPmDMzNzTFixAgkJCRg6tSp+PXXX6udK9V5zqKj2T8ZO3YscnNzYW9vj19++UXoXGVvby96ZpCXqMTO3d1dWJ9RuQRTLpcz65D36NEjBAQECE03BgwYgIULFzJZr0ZqDg0EyL/2co3q+fPn8fbbb2PYsGEoLCxk9jxdunSBv78/xo4di7lz5yI7O1v09LuqNV5gYCBOnjyJHj16wMrKCvv27YOfnx+T47axsYG7uzusra0BAPv372e2sY0q38bGRvj4wIEDzAYaZ86cQXR0tLAj5+DBg9WeS4wtW7YgOjqaSfvHl4WHh0u2QRxQsfuntra2cBHGcRyKi4uZZJuammLGjBlC55GoqCj079+fSbaUA15DQ0NER0ejR48eahd4rP598/PzYWlpKUl3HA0NDVhYWKBDhw5qrUlZlDRImQ1UlMAMHz4cRkZGavksdi62sLBA69at4eTkhCVLlgj/rv379xddfijleQ4AmzdvxurVqyW50TBx4kRYWVmpPXb//n20atUKCQkJorInTJiAUaNGCRfnrErsVOdbQECA2oJelhYuXIghQ4YIZbW7d+9mtl6N1BzqGkT+NTc3N+HPeXl5aNasGYqLi5GdnY327dsze8NTKpW4ePEiTExMEB8fj4SEBDg7O4u6A6nqUvPFF19gzZo1TI6zKqdOncLZs2fB8zwGDBiAQYMGic6cMmUKfv7559e2KWVxgWRtbY2oqChhNqO0tBROTk7Yt2+f6OzPP/8ca9askaS3+rBhw9R2/lQoFHBwcGDSMQQAVqxYgdOnT0NbWxu7du2Cq6srevXqhXnz5onO5istLud5HqampnBxcWFyt/T58+c4efIkrK2tsXXrViQkJGD8+PEwNTUVnS1le0/gzXTHkbJTE6s1D69rZcmiTeaNGzdeeX1NSUlBz549RWdLeZ4DFefjtm3bmN5oePjwIXieh6enJ9avXy/ciFIqlZg8eTLi4uKYPM+NGzdw/vx5cByH/v37M51lKy0txalTpyRpulG5A5yKnZ0dYmJiRGeTmkMzAuRf27p1K4CKOw6RkZHYunUrsrKyMHnyZIwYMYLZ82hqakJPTw8XLlxgNuPQoEEDjB07Funp6VUugmUxiHn8+DESExPh4+ODe/fuITQ0FEZGRkIv7ury9/cH8NfPXwpSzma4u7vDxsYGxsbGajMYLO5kSrlBHAD4+PjAzc0NBgYG0NDQwOLFi/HBBx8wyVZ19Fm1ahUeP36MnTt3ory8nMkFkq6uLiwsLPDw4UMMGTIEQ4YMYXDEFeLj45llVaXyBf/ixYuF85+Fyhflqi5FdSEbUL/gV3UqEis5ORkcx8HX1xeBgYHCBa9CoYCfnx8OHTok+jmkPM8BoGPHjqJfY1+m6r+fnZ2NcePGCY83aNCAyc0doKL73k8//YQffvgBN2/exJIlS+Dv74+OHTsyyZ8zZ45kTTd69OiB/fv3C+8Xx48fR7du3Zhkk5pDMwKk2kaOHImIiAih53xxcTGcnZ2Z3YVdvHgxTp06hbZt2wqPie1I8Pz5c6SmpmLRokUICAh45fMs7tq5ubnB2toaY8aMQVlZGaKjoxEXF4cNGzaIzgbwyh0YFRZdQwD12QxTU1PRm5Wp2NnZ4ZNPPnnlji6LO5kA+w3iXkfVlo8VLy8vdO3aFbNnz8bz58+xfv163Lp1q8qOHP9WWFgYfv31V+jp6UEmkzEtr6mM9c+kJvPrajbL/NDQUCQlJeHq1atqF3JyuRwff/wxPDw8RD+HlOc5UPG6FRgYKMmNhnXr1jEp16mKs7Mzpk+fLqw1OHPmDMLCwrBjxw4m+Z988olam29dXV14e3tjz5491c5UtSRVXT7q6OhAJpOhqKgIjRs3fm1nK1I70YwAqbby8nK1vs2V/8zC2bNnceTIEaalJLq6uujbty/at28vSXtCoGIjG1XbSS0tLTg7OzN7UQeg9iJbXl6O5ORkmJiYMBsImJubM2uNWZmWlpakC/vatm2Ld999V+iXv3v3biZtMl/G+t7JgwcP8NNPPwGoOD9nz54NOzs7JtmRkZGIj4+Hnp4ek7zXkfp+kpT5dTWbZb5q1iI6OprZ68jLpDzPAeC7776DjY0Ns40bK6s8CFCVaLJSXFys9nprZmbGbHduQJqmG1W1JCV1Fw0ESLVVVY7BsvSgRYsWKC0tlaSmPC8vT7LOHtra2jh58qQwdZyQkCDMmrDw8h2ugoICzJ49m1m+VPr06YPly5fD3NxcbdDIYvMZKfvlS00mkyE9PR1du3YFANy8eZNp16C3336bSdabVNXsnRiVO3nNnDmTaXZlUmYDf+1zwUrlQQDr2Qwpz3NA+hsNKtnZ2UzzmjZtih07dsDW1hZARfOHZs2aMcuXoumGSn5+PmJjY/HixQvwPA+O45CVlYWgoCAm+aRmUGkQEUWKcgzVjqJ3797Fo0ePYGJiwnyqd/To0bh7964knT3S0tIwd+5c5OTkAKgY0AQHB6NLly6is6tSVlaGkSNH4vDhw5Lks1J5kbkKq81nLC0tq9wgbvv27aKzpZaQkIB58+bBwMAAQMXuzsHBwTAxMal2pmqTpcuXLyMvLw/m5uZqv0MsLpiePHnyykxDfHw8s7UZhYWFQjvblStXIigoCPPnz0fjxo1FZw8ePBi9e/fG4MGDYW5ujiZNmjA44gplZWX49ddfcfv2bSxevBibN2+Gp6cnsxsaNjY2GDx4sPA9SNVGtKqFoGJIcZ5XpupcI8WNhspY/1wePHiAr7/+GklJSdDS0oKJiQkWL16M9957j0m+FE03VNzd3dGiRQukpKRg6NChOHHiBLp3785sc05SM2ggQGqdf7oLxaKmXOrOHkDFG11xcTHzdplubm7Cmz/P88jKysKgQYOYtT+ti8aMGYOdO3di8+bNePfdd2FtbQ1bW1vExsaKyn1dhybWtfZlZWW4ceMG5HI5OnbsKPqiUTUQeB0WAwF7e3ts2LABTZs2RU5ODvz9/fHnn3/iwIEDorOBirvpZmZm2L59O3bv3o3Vq1cjNTUV69atE52tUCiQnJyMU6dOISEhAY0aNcLgwYMxefJk0dm+vr5o2rQp4uPjERERgaVLl4LjOISEhIjOBoCcnBycPn0ap06dwvXr12FsbAwLCwumjRoA9he8APvzvDIpbzRUlpOTg+bNmzPNVHl5jYYYL7f5fhmLAdLw4cMRFxeHFStWYPjw4Wjbti3Gjx8v+nWX1CwqDSK1TuUL/ezsbOjr6+PChQtIT08X3ctaRaq7aJXp6enBw8OD+WLBqVOnClPqMpkMenp66Ny5M9PnkMLly5exYcMGPHnyRG1qmsUbtVT98qXs0FSZlpYWunXrxqwco/KFfllZGbS0tHD37l3cvn2b2fqPqVOnwsPDQ9hkaezYsUw3FMzKyoKLiwt27NgBLS0tzJ49WyifEEsul6NLly548uQJSkpKcOzYMcTFxTEZCFy7dg1RUVE4deoUdHR0sGLFCmZ7cQBA8+bN4eDggC5duuDs2bPYtm0bzpw5w3wgwHoQALA/zyuT8ne18s0XoOJ1V1tbGx07doSXlxeTWSqgokEGq5/LqlWrXvs5VgMk1ffdoUMHpKWlwdjYWPJ1MYQ9GgiQWmvp0qUoLy+Hh4cH5syZAzMzM1y8eJHJnbXKL5IKhQLp6ekwMTFhPo0sxYticHCwpJ1IpOLj4wNXV1d07tyZ+UCs8gZxw4YNY7ZB3D/dVWO9MJH1+bJ69WrcvHkTc+fOxbhx49ClSxecOXOGyU7Rw4YNg66uLmbMmIG1a9cy3RwKqGgf/OzZM+FcuXPnjrDRnVgjRozA06dPMWLECAwYMACzZs0SdnYVSyaToaysTDjuJ0+eMD3fJ0+ejFu3bsHQ0BD9+vXDunXr1HaOrY6amvmqnMvayxfrKiwueDt37gy5XC7ciNq3bx8ePXoEAwMDLFq06B9n4P5XLH8uNXETw9TUFDNnzoSPjw88PDxw7do1NGrUSPLnJWzRQIDUWleuXMGePXsQFhaGUaNGYcaMGcxmBF5+kbx37x6TtQcv09fXZ5757rvv4sKFC+jRo4ckC6mloq2trdaLmyVdXV107NgRGzduhKamJubOnYtOnTqJzv2nNnhSdVhh5dixY/jtt9+wZcsW2Nra4quvvoKjo6OozMoXjTzPg+d5TJs2Tbg7yOqiccaMGXBzc8PDhw/xxRdfICUlBd988w2T7PHjx+PcuXNISkpCXl4e8vLy0L9/f7Rv3150tru7OyZOnIicnBwEBgbi6NGjmDZtmviD/n8ffPABioqKUFBQgLy8POTm5qKkpERtd+d/q6ZmvqRUeb8GhUKBY8eOMRvcXbp0CZGRkcLHhoaGcHJyQkhICNOZEyl68Es5QJo2bRp27tyJ8+fPY8yYMZDJZJJ0bSLSooEAqbWUSiU4jsOxY8fw9ddfo7i4GMXFxZI8V5s2bXDr1i1meXl5eUhOToaLiwsKCwuZTR0DFQOkquphU1NTmT0HSw8ePABQcQGzadMmDBkyRG3hKos1FL/++ivCw8NhaWkJjuMwdepUTJkyRfTAUYrB4d9hXY7BcRy0tbVx/PhxeHt7g+M40b9DNXXRaGZmhm7duuHy5ctQKpVYtmwZsw2jXFxc4OLiAo7jEBsbizVr1sDPz4/J75C9vT26deuGxMREKJVKrF27VvQd+8q+/PJLAMCLFy9w+PBhLFu2DA8ePMDVq1ernXnjxg1YWFi89vxjfXEnRdnRy+u7PvroI4wePZrJDrrl5eXIyMgQGj5kZGSA4ziUlJSIbsX5888/Y8qUKQD+6o71/fffC//OYkk5QPL29kZOTg46depUI+W2RBo0ECC1lr29PQYOHIjevXvD2NgYI0aMYLKLJvBXZyKVmzdvMtvWPSYmBkFBQejTpw+USiX8/PwQEBDAbCfKU6dOYefOnUhKSoJcLoeZmRmzmRIpuLq6CpvPnDt3Tu1OFKuyg127diEyMhK6uroAKu5UjR07VvTPRdUz/HWlE2KOvSbKMQYMGICRI0dCW1sbffv2haurq+iuPjVVLjV48GBYWVnB1tYWxsbGTDJVdu7ciYSEBFy5cgWGhobw8PBgunGenZ0dRo4cKcmM4OnTp3H27FmcPXsWHMdh2LBhol9brly5AgsLi9fOgImZ+aqpsiPVDQdV9p9//omCggIm2b6+vpg8eTKaNWsGjuPw9OlTBAUFITQ0tNp7IYSEhCAvLw/x8fG4c+eO8LhCocDly5eZDQSkHCDdunULcXFxonPIm0Vdg0itxnEcNDQ0kJOTA01NTTRt2pRJbuUae9WC2wEDBjAptRk+fDg2b94stMm7f/8+vLy8mO64/OLFC4wcORIcxyEmJgbvvfcek7pvqak2oSsvL0dZWRmzfRxcXFywefNmoTyirKwM48aNQ0REhKhc1WL1l9dk3L9/H9ra2jA3N6/2APL+/ft/+3lWF9QPHjyAgYEBNDU1kZqaig8++EBU3suD6JexmkUpLCzE4cOHsW/fPjx+/BgjR46Era2t2k7j1RUQEIDBgwejX79+zMvrMjIysG/fPsTFxaFly5awtbWFlZUVs3Pdy8sLFhYWGDx4sPAawxrLWcyaOs8rD3BlMhmaNm2K6dOnM7sBo1AocOPGDWhoaKBTp05o0KCBMJipjsuXL+PmzZtYtWqV2n4Tmpqa6NGjB5MyNaDqAVJAQACOHDkiOtvT0xN+fn7MO+ORmkUDAVInSNFloqqORGLqbFWcnJwQERGhtrDR0dFRrcZUDBsbG7VBBcdxsLOzYzbQkMrBgwexZs0a7N27F5mZmXBzc8PixYuZ7T1x/fp1WFtbQy6X48iRI9DW1kafPn0AiG+XOWPGDKSmpmLo0KHgeR4nTpyAvr4+ioqKYGNjgwkTJvzrzH8qj2C9/kCK36GXia1Vf50rV65g6dKlSEtLw/Xr10XnFRUVISwsDOfOnYNSqUT//v3h7e3NfKHjhQsX8M033+DWrVtISUlhkslxHHbs2IHExEQoFAqYmprC1dWVyULqtLQ0eHt7o6SkBOHh4XB1dcWPP/4IIyOjamceP378b8uOavs6G6BiMLNt2zYUFhaqLehlMeh99uyZpJv+STFAUq07yM/Px8OHD2FoaKhW7sm6ZSuRFpUGkTqB9XhVyo5E3bt3x+TJk+Hk5ARNTU0cPHgQ+vr6whuh2Dc+AwMD3Lt3D23atAFQMaCRqq81S2vWrMHGjRsBAG3btkVkZCQ8PDyYDARatWqFVq1aoaysDGVlZTAzMxOdWVlOTg4iIyOF2toZM2bAy8sL4eHhcHR0rNZAoKYXIrP+HYqPj8ePP/6IoqIiYVfRkpISnD17lkl+fn4+Dh48iAMHDqCwsBAjR45k1p3F398fOjo6wuLjXbt2YenSpULrWTGUSiV+//137N+/H0lJSfj444+xcOFC0bkqwcHBuHv3LpycnMDzPCIjI3Hv3j0mM4L+/v5YvXo15syZAwMDA/j5+WHp0qXYvXt3tTOlLDuqTMqLdW9vb5iYmMDExIR5LfzRo0exfPlyPH36FMBfJVOs1nzFx8czyams8roDUvfRQIDUCaxrbaXsSFRaWgp9fX2cPn0aAKCjowMdHR3hjbC6b3yquzBPnjyBra0t+vbtC01NTSQnJ0u2azFL5eXlaos9mzVrxuzidPr06VX2y2fVbvLJkydqpR0NGzZEYWEh5HJ5tS8ManohMmvffvst/P39sXHjRnh5eeHo0aNMF/Pb2dnh008/xfz589G9e3dmuUBFr//Kmx4tWbKEWR/+QYMGwdjYGDY2NggICGBeenTmzBlER0cL5/bgwYOZ7VNQXFys1m3LzMwMK1asEJWpKntRne+smyeoSHmxrlAo4OPjwzRTZfXq1di6dSuzNWove/DgAQICAnDu3DnI5XKYm5tj4cKFospsWW68Sd48GgiQWk2q7jtSdiSq6gKPRcnE6+7CTJw4UVRuTenTpw++/PJL2NjYQCaT4cCBA+jZsyeTbCn75QOAlZUVxo8fj08//RQcx+Hw4cMYMmQIoqOjqz0bI+VCZJUnT55AT08PwF+lSPHx8aIXDAPA22+/DVNTU/zxxx949uwZ5s2bx3RTqxMnTqCwsBCXLl3C0aNH0bNnT2Zdg3iex9OnT4UZnqdPn6qVNoixb98+vPXWW7h9+zZu3ryJLl26CBsAsqBUKqFQKIQBhlKpZHbsTZo0QVpamnA+xsbGMnvNlaLsqDIpL9b79OmD+Ph4DBw4kPnATl9fX7JBAADMnTsXI0aMQFBQEDiOQ2RkJHx8fLB+/XrJnpPULTQQILWWlN13pOxIVFXJRHFxMc6dOycqt67fhVm6dCm2bt2K8PBwyOVymJiY4LPPPmOSLUW//MrmzJmD48eP48yZM9DU1MTnn3+OQYMGISUlpdq76fr7+wN4dYCnWoh848YN0RcIEydOxIYNG9C0aVPk5OTA398ff/75J5OBgLa2Nm7fvo1OnTohKSkJpqamolspVnb27FksWLAAPXv2BMdxWLJkCQIDA2FhYSE6e8KECRg1ahQsLS3B8zyOHz8OT09PBkddsSPyzJkz0aRJE3Ach9zcXKxevZpZ5yMbGxu4u7vD2toaALB//37hz2LNnj0by5YtQ0ZGBkxMTNCuXTsm5VKANGVHlUl5sR4XF4dt27apPcaqfMfIyAgzZ86EmZkZGjZsKDzOqmTq+fPncHV1FT6eMGECs/Vq5L+BFguTWkvq7jtSdST65JNPqiyZWLJkCZP8uqygoADFxcXgeR5KpRJZWVkYMGCA6Fx7e3tER0dj7Nix8Pb2Rt++fWFtbY2DBw8yOGppSbEQWeXQoUNYu3Yt7O3t8csvv2Ds2LHw9PREgwYNRB93UlIStm/fjuDgYIwdOxaZmZkYNWoUs7uyjo6OWLlypbAW5t69e5g+fTpiYmKY5N+4cQPnz58Hx3Ho168funbtyiR3zJgxWLBggXDhn5KSgoCAAGYXvEBFC+GzZ8+C53mYmpoya33q6OiIsrIyWFtbw97eHi1atGCSq8qOjIwUflcBwNbWVq1ES4yBAwciNzdXaFUMsLtYl9LrunCxKh1cunQpevfuLbQ5PXHiBOLi4rB8+XIm+aTuoxkBUmu99dZbamUXrVq1YnIBo6KqsfX09GTaTUXqkom6atWqVdi8eTMUCgX09PTw+PFjdOvWTXSLT0Cafvk1RYqFyCrDhg2Drq4uZsyYgbVr16J///6MjhrQ09PDypUrAQB79uxBYWEhbt++zSxfoVAIgwCgYtM/juNEZb7cuUa17iM1NRWpqalM7sIWFRWp3f3v2bMnSktLRedW3r9BR0dH7fw+f/48+vbtK/o5IiMjcffuXezbtw+enp5o0qQJ7OzsMGrUKNHZUpYdAcDvv//OLEslPDwcLi4ur12kLrYbGSD9WqEjR44gPDwcS5YsgYaGhlACGx0dXScGSkR6NBAgtZbU3XdUWE+KSV0yUVdFR0fj5MmTCAwMxNSpU3Hr1i389ttvTLJ9fHzg5uYGAwMDaGhoYPHixaL75dcUKRYiV153wPM8eJ7HtGnThAsvMesPkpOTwXEcfH19ERgYKPz+KBQK+Pn54dChQ9XOrqxly5bYtGmTcBG6e/du0T3na6JTU+PGjXH06FGhG9bRo0fRpEkT0bmrVq167edkMhmzlo3t2rXDxIkT0bZtW2zcuBHr1q1jMhCQsuzoZar1N2Kpzu2srCy0bt1adF5lNbFGCAASEhKY5JD/LioNIrVWTW1c5OnpiXXr1jHJAiruzq1duxY//fQTPvvsM/z5558YO3asZAvZ6ooxY8Zg586d2LBhA1q3bg0rK6tX9kRgoSb65bP03Xff4eLFi2oLkfv06YP27dtj3759+OWXX/51ppSbOIWGhiIpKQlXr15F9+7dhXaHcrkcAwcOhIeHR7WzK8vLy4O/vz/OnTsnlMAsWrSIaQcxKTrY3LlzB/PmzUNmZiaAipmM4OBgdOjQgenzSOHIkSPYu3cvLl26BAsLC9ja2qJ3795MsqUsO3oZ69cAJycnbN68Wdi5nAXVPjaXL19Gs2bNXvk8q43WiouLERYWhrNnz0KpVMLU1BSzZs1ivmcGqbtoRoDUWlJ131GRqiNRamoq8vPzoaWlhR9//BGTJk1Cu3btmGTXZbq6uoiOjoaRkRG2bdsGfX19lJSUMH+eunZvQ4qFyJXLSKoi5iJDtbh59erVaNSoEcaNGwcvLy9cu3YN48ePr3buy5o1a4Yff/wRz549g1wuh46ODrNsKTvYtG/fHhERESgqKgLHcUwvHoGKQZ6vry/u37+P7du3Y86cOfjmm2+Y3LGOjY2FnZ0dvvvuO6ZlmIC0ZUcvY/0aoKGhAUtLS3To0EFtQa+YWRjVgNbHx0fStUzLli2TbM8M8t9AMwKk1pKq+w7wakeiy5cvM+tINHLkSERERAgXLsXFxXB2dq71O/9K7fHjx9i/fz88PDywfPlyJCQkwMvLi/n6icqLEeurmphNc3Z2xsyZM1FQUIADBw5g8eLFmD59Ovbs2SM6GwDS09Mxf/58PHjwAADQsWNHrFixAm3bthWdPW7cOCxbtgxz5sxBdHQ0zpw5gx9++IHJgt5Hjx4hICAA58+fh1wux4ABA0T3ba9s0qRJmDhxIkJCQhAVFYWIiAjExMRg+/btTPKlVlRUhGPHjmHjxo14/vw5Dh8+zPw5cnJymG6ymJSUVOXjLDq5zZ49G4MGDUKPHj3UbnK1bNlSdDZQ9YLsESNG4MCBA0zySd1HMwKk1pJyw6K1a9ciMjLylY5ELAYC5eXlanfTWN9Zq6sSEhKEspH58+cDgCQXL/V9EAD8/YU+q1kYjuMwcOBAzJkzB1ZWVmjRogWUSiWTbKCi24m3t7fwO3nkyBEsXLjwlTaO1SHFxlkqCxcuxJAhQ4SuLLt378aCBQuY1KwDFWtKBg4ciJCQEMhkMjg7O9eJQcDLZUe+vr7Myo6AvzZcVJHJZNDW1kbHjh3h5eUlasZXytbNly5dwqVLl9Qek8lkzNYISLlnBvlvoIEAqbWk7L4jZUeioUOHCptPyWQyHDp0CEOGDGGSXRdt2rQJz58/x86dO9Vq15VKJfbu3Ytx48ZVO/t1C+1Udeus3kzrqqpm1UpKSnD27FnR2To6OtiwYQMSExOxZMkSbNmyRW3Rs1ilpaVqA/NPPvkEq1evZpItZQeb/Px8tXN6woQJTOvVtbW18ejRI+HYL1y4wLxvvhSkLDsCgM6dO0Mulws7xO/btw+PHj2CgYEBFi1a9NrOP29afHy8pPkTJkzA6NGjhT0z4uPjme2ZQf4baCBAai0pu+9I2ZFo3rx5iIuLE0oD3N3dhQ4i9VH79u1x9erVVx7X0tIS3ct669atov7+f52Us2ohISGIiIjAqlWr0LhxYzx+/LjaaxoqU5UCGRoaCh1rNDU1sXfvXpiYmIjOBwA/Pz/4+PggIyNDWJgdEhLCJLtHjx5qm3wdP34c3bp1Y5INVJR9TZkyBZmZmbCzs0NhYaHQxrU2Cw0NlTT/0qVLahtlGRoawsnJCSEhIbV6lvDBgwcICAjAuXPnIJfLYW5uzrSUzMbGBg8fPsTatWvB8zwWLFggDJYIAWiNAKk6ARGtAAAY7ElEQVTFpOy+U1MdichftmzZAnd3d7XHDh8+DCsrq2pn/tMbPKsWs3WVahOnNWvWoFu3bjA3N6/19cGqWZ6q3ppYz/KwXNBraGiodtw6OjqQyWQoKipC48aN/7F16b9RXl6OO3fugOM4dOjQoU7MCEjNxsYG33//Pbp06QIAyMjIwFdffYUdO3bAyckJ+/fvf8NHWLXPPvsMI0aMgL29PTiOQ2RkJM6cOYP169czyffx8UFpaSlsbW3BcRxiYmLw3nvvYdGiRUzySd1HMwKk1pKy+47UHYnIXw4cOICysjJs2rRJqFMFKvrO//zzz6IGAjXRF74uq4t7WkhdKgFIs6A3LS2N4RG+3rNnz7B69WokJSVBLpfjo48+wpQpU5h2VaqLfH19MXnyZDRr1gwcx+Hp06cICgpCaGiosKtubfT8+XO4uroKH0+YMEFtZkOsS5cuIS4uTvjY0tISI0eOZJZP6j6aESC1lpTdd6TsSETURURE4I8//kB8fLzabqiampr46KOPaNdlCSUlJWH79u0IDg7G2LFjkZmZiVGjRtWJPS3u3LmDbdu2qf2OZmVlMVkY6+HhgSFDhggXiLt378bZs2eZLOjNz89HbGwsXrx4oXbcQUFBorMBYObMmWjdujXs7OzA8zz27NmDJ0+eMCttqssUCgVu3LgBDQ0NdOrUCQ0aNBDWC9VWS5cuRe/evYVz8cSJE4iLixNdNqny+eefY/HixcJNtOzsbPj4+GDjxo1M8kndRzMCpNaSsvuOlLXTRN3o0aMxevRonD17FgMGDGCaXVO7c9ZVenp6Qv34nj17UFhYiNu3b7/ho/rffPnllxg8eDCSk5Ph4OCAI0eOCGUfYkm5oNfb2xstWrRASkoKhg4dihMnTqB79+5MsgHg7t27arsML1q0CDY2Nszy66r79+9j27ZtKCwsVCsrq+1lnkeOHEF4eDiWLl0KmUwmvA9FR0dDJpMhNTVVVL5CoYCdnR1MTEwgl8uRnJyM5s2bC2WarHakJnUXDQRIrSVl9x0pOxKRquno6GDq1Klqd3gfPHggqhTE398fwF+bXKncv38f2trauHHjBt5//31Rx10XJScng+M4+Pr6IjAwULgwUigU8PPzw6FDh97wEf6z8vJyzJw5EwqFAh9++CGcnZ2ZLXKUckFvdnY2tmzZghUrVsDKygqff/45043WOnTogD/++ENovZmWlob27dszy6+rvL29YWJiAhMTk1o9A/CyhIQESfO/+OILtY9Z7fxN/jtoIEBqLSm779TF2um6buHChZg0aRKioqLg5uaGw4cP48MPPxSVqdqdMz4+HqmpqRg6dCh4nseJEyegr6+PgwcPwsbGBhMmTGDwHdQdCQkJSEpKQnZ2NlatWiWUR8jlcri4uLzpw/uf6OjooKysDO3bt8e1a9eYdAyqvKB3165d8PX1VVvQGxgYKPo5VG1IO3TogLS0NBgbG4vOBP5aRF1aWopDhw6hY8eO0NDQwK1bt2jnclQMcutCydvfUc1wsiTlHgjkv4EGAqRWGz58OIYPH848d/bs2fD398dPP/2E9evXY9u2bRg7dizz5yF/0dLSgpOTE+7fv4933nkHQUFBzEoacnJyEBkZKSxGnjFjBry8vBAeHg5HR8d6NxBQzZCsXr0ajRo1wrhx4+Dl5YVr164xvTstJVtbW3h5eSEkJAQuLi44ffq0sAFgddXEgl5TU1PMnDkTPj4+8PDwwLVr15g0IaBWuX+vT58+iI+Px8CBA+tsF6Xs7Ow3fQikHtJ40wdAyJvwckciAwMDuqsmsYYNG6KgoAAdOnTApUuXoPl/7d1/VI73/wfwZ0rdFZ+EIZljdRrGaA4TOsiPlvIj2cIqEYfsyHJSFmmOtDbVWHQyLBRmQjfG1BIdI2U55nDYzKIjdmPSsd2lH/f9+cPp/spa+36639d9X7f7+TjHOd33dc7rfnOcu+frut4/LC2FnURbVVXV7DArGxsbVFdXw8rKyqSmCYhWVFQENzc35OfnQ6FQQKlUNptfLmfBwcFIS0tD586dkZ2djZkzZ0pyKNSiRYuE1lu2bBmWL18OZ2dnfP7553BxcRGyh76zs/Pf/mzZskX3s7k7ceIEPvjgAwwaNAj9+vVDv3790L9/f2MP63/CvVvIGPhEgMzS/v37kZOTAwDo1asXlEolAgMDMWvWLCOP7OU1d+5cLFu2DJs2bcJ7772Ho0ePCpuX7e3trVtPotFokJ+fj/Hjx0OpVDY7QdrcaDQaeHp6IioqCt7e3nBychLWfBlC0/7+H3/8sfApE02kuAvbu3dvAMC+fft061ik0NJBfebqhx9+MPYQ9LZ161ZjD4HMEBsBMktS7khELZs0aRJ8fHxgYWGBgwcP4tatW+jXr5+Q2lFRUTh16hTOnj0LS0tLLFiwAGPGjMGlS5eEnHZrqmxtbZGZmYmSkhLEx8cjKyur2ZMTUyHllAkp78JKHdR5Bxn45ptvWn1atGTJEgOP6H9TWVmJuLg4VFZWYs+ePZgzZw4++eQT9OrVy9hDIzPBqUFklpp2JNq9ezf27Nmj21ecpNU0TScoKAhvvPEG2rUT9xXk5eWFuLg4xMbGYsyYMQAAd3d33eJNc5SSkgK1Wo20tDQ4ODhApVKZZGMkZeCV8i6sFOM+ffq07ud169YJr29qmv6N79y5Y+SRtE18fDzmz58Pe3t7dO3aFZMnTzb5Rc9kWnigGJmt53ckGjZsmLAdiejf+fv7Q6lUGnsYZCLu37+v2yFKhBfvwkZFRQm7C3v69GmMHTsWwLMnAqKmvzXx8/PDsWPHhNZ8GcyYMQO7du3STSczFQEBATh06FCz78Rp06bh8OHDRh4ZmQtODSKzJdWORESkPymnTDTdhU1NTW12F1bEqcXJycm6RkB0EwAAr776KmJjYzF48OBmuxH5+/sL/yxT0q5dO4wbNw6vvfYabGxsdO/L/cAshUKB33//Xfe09McffzTZXY/INLERICKD49MA+jdShvWqqip4enoiJSUFFhYWCAwMFFIXkD6oOzo6AgB++umnZu+beyMQHR1t7CG0SWxsLBYtWoSKigpMmzYN1dXVutPAiQyBjQARSarpIKQXNR1ydfLkSSOMiuROyrAu5V1YqYN6UlIS6uvrUV5ejsbGRri5ucHKir/KTfXgrD/++AMHDhzArVu30NjYCBcXFz4RIIPitwcRSYoHIVFbSBnWP/roI8nuwkod1K9cuYKlS5eiU6dO0Gg0ePjwIdLT04WdYEyG1TSVzM3NzdhDITPFxcJEJKl/mwZk7lMaqGWXL1/G6tWrUVFRgd69e+vCuqjAW19fr7sL26tXL2GLTKUO6rNmzdJNPQKAS5cuYd26dThw4ICQ+mRY4eHhcHR05JoPMho+ESAiSZWUlLR6nb/wqCWDBg1qNmVCZFg/fvw4MjIycPToUVRUVMDPzw+rV68WsnPYunXrsGHDhmZBPSEhQVhQV6vVzZoKd3d3PH36VEhtMjyu+SBjYyNARJJKSkoy9hDIBEkZ1jMyMrBjxw4Az04BPnToEMLCwoTUljqoOzg4oKCgQDfWgoICdOrUSVh9Miyu+SBj4/82IpLUokWL8OWXX/7jomEuFqaWSBnW6+vr0bVrV93rLl26CDv8S+qgvnbtWsTExGDVqlUAnu1StH79emH1ybC45oOMjWsEiEhSTYdB5ebmNnu/srISCoUCo0ePxuuvv26k0ZFc+fj44MSJE83emzp1Ko4cOaJ37VWrVqGmpgZTpkyBhYUFjh8/DoVCgbVr1+pdu7y8HDExMaioqADwf0HdxcVF79rPU6vV0Gg0JneAFjXHNR9kbGwEiMggIiIicO3aNUyYMAFarRanT59Gt27doFarMWXKFMydO9fYQyQZkTKs19XVITs7W3ey+NChQ/H+++8L3bZRdFAPCQlp8YlaE7kfnEUta6m5nTJlCo4ePWqkEZG5YSNARAYxa9YsbN26Ff/5z38AAH/++SfCw8Oxc+dOBAQECLnTSy8PqcP648ePUVNTA61Wi8bGRty5cwcjRoxocz2pg3ppaWmr1011H31zFxISgtDQ0GZTyXbt2sVtl8lguEaAiAyiqqoK9vb2utc2Njaorq6GlZVVqwGKzJO1tTVmzJgBX19fXVgvKyvTK6w3SUtLw65du9DQ0ABHR0eoVCoMHDgQOTk5ba4ZERGh97ha83zQLyoqwvnz59HQ0IDhw4cLWTdBxpGQkIDo6Giu+SCjYSNARAbh7e2N0NBQTJo0CRqNBvn5+Rg/fjyUSiVeeeUVYw+PZEaKsN5EqVSiqKgIiYmJWLx4MX777Tfs3btXr5qGCurbtm1Dfn4+pkyZAq1Wiy1btuDGjRtYvHixsM8gw+nTpw9ycnKgUqmg0Wjg5ORk7CGRmWln7AEQkXmIiorC/PnzUV5ejjt37mDBggWIjIxEnz59kJqaauzhkcw0hXVfX19kZWUhIyNDt+e6vrp164YOHTrAzc0N169fx9ixY3Hv3j0htbdt24bNmzfDyckJvXr1wpYtW5CRkSGkNgAcOXIE2dnZmDNnDkJDQ5Gdnc1pdSbs+vXrmDp1KqZOnYpp06Zh1qxZuH37trGHRWaETwSIyGC8vLzg5eXV7D13d3cjjYbk7MWw7u3tLaxh7NChA5RKJQYMGIDdu3ejW7duqK2tFVL7yJEjyMnJ0Z0SGxgYiICAAGF37LVabbMTaG1sbLjvvAlbuXIlli1bpvte/P777xEbG6v3Eyqi/y8+ESAiItl5PqwfPXoUly5d0jusq9VqAEBiYiIePXqE4cOHw9nZGfHx8YiMjBQxbMmDuoeHByIiIlBYWIjCwkJ8+OGHGD58uLD6ZFharbbZzZGJEyfq/p8SGQJ3DSIiItlQq9Wws7ODSqXCsWPHEBYWhk8//RTnzp3DokWL4Ofn1+ba06dPR25uLtasWYM1a9aIG/Rz1q1bB5VKhenTpwMAcnNz0b17d8TFxQmpr9Vq8fXXX+P8+fPQarXw8PDAzJkz+VTARCUnJ8POzg4zZ86EpaUljh8/josXLyIqKgoA0LNnTyOPkF52bASIiEg2pAzrPj4+GDhwIM6cOYNx48b97XpSUpLenyF1UP/rr7+gVCoRFBQElUqFffv2YeHChbC1tRVSnwyr6cR1rVar2z2tKZZZWFjw5HWSHG8hEBGRbNTU1GD58uU4c+YMnj59+rfr+oT1HTt2oKSkBGVlZZLtu69Wq6HVapGWlqYL6vX19cIagaioKPTt2xcAYG9vD41Gg5iYGGzatElIfTKsDRs2oKysDMHBwQgPD8fVq1exfv16jBkzxthDIzPBRoCIiGRDyrDu5OQEf39/fPfdd7qpO6JJHdTv3r2LLVu2AHi2jmLZsmWYNm2akNpkeImJiVi6dCny8/OhUCigVCqxZMkSNgJkMGwEiIhINgwR1u/du9dsKoZIUgd1CwsL/Pzzz7pm4+bNm1wfYMI0Gg08PT0RFRUFb29vODk5obGx0djDIjPCbw8iIpIdKcN6p06d4OPjgwEDBsDGxkb3vog1AlIH9RUrViAsLAzdu3cH8OzE7uTkZGH1ybBsbW2RmZmJkpISxMfHIysrq9kJ7ERS42JhIiKSnTlz5kClUkkS1nNzc1t8X8QTiHPnziE6OvpvQX3o0KF6125SV1eHX375BVZWVnBxcYG1tbWw2mRYKpUKOTk5GDlyJIYMGYLk5GSEhISgR48exh4amQk2AkREJDtShvW7d++2+L6orRoNFdSbdlgiImorTg0iIiLZkfKQrODgYN2WjQ0NDXj48CH69++PgwcPCqlvbW2NgQMHSh7UeR+PiPTFRoCIiGRHyrBeWFjY7PXly5exZ88eveu+iEGdiOSOjQAREcmOocI6AAwaNAgrV66UpLZoVVVVcHR0BAAolUoAz/6tWjogjYjo33CNABERmYTJkyfj22+/1bvO5s2bm72+ceMGHj9+jF27duld+/mg3kRkUPf390dmZiY6d+6MBw8eICEhAb/++iuOHz8upD4RmRc+ESAiItlpKax36dJFks96++234efnJ6TWvHnzWgzqohqBxYsXIywsDP7+/ti+fTtmz56N1NRUIbWJyPzwiQAREcnOi42Ao6Mj/Pz80KlTJyH16+rqYG1tjdu3b6O8vByjR49Gu3bt9K6bl5eHjIyMZkF94cKFaN++vYBRP3P27FlEREQgIyND0kXVRPTyYyNARESyJFVYT09Px82bN7F8+XIEBgbCzc0Nrq6uiIuLEzBqaYL6uHHjdIerabVaVFVVwdLSEg4ODgCAkydPCvkcIjIvbASIiEh2pAzrAQEB2Lt3L7KysvD48WPExMQgICAAhw4danNNqYN6ZWVlq9ednZ31qk9E5olrBIiISHZOnjypC+tTp07VhXURNBoNFAoFTp06hcjISGg0GtTU1OhVMzs7W8jY/smFCxdavc5GgIjago0AERHJjhRhvcmIESMwefJkKBQKDBs2DMHBwXov5pU6qJeUlLR63d/fX6/6RGSeODWIiIhk57PPPsOZM2egUCiwf/9+BAcH46233kJ0dLSQ+nfv3kX37t1haWmJa9euoX///nrVi42NbfV6UlKSXvVbU1tbC4VCIVl9Inp5sREgIiJZEh3WWzJ9+nTk5uYKr/s8kUG9sLAQGzduhFqthlarhUajQW1tLYqLi4XUJyLzwqlBREQkSz179gQgbVgXfS9M6qCelJSEhIQE7NixA+Hh4SgoKBA2ZYqIzI/++7ARERFJyJQeXCclJWHlypVwdXVFSkoKfH19MWnSJGH1O3bsCA8PDwwePBhPnjxBdHQ0zp8/L6w+EZkXNgJERGRWqqqqdD8rlUoAz+7kiyB1UFcoFCgvL4erqytKS0tRV1eH+vp6YfWJyLywESAiItmRMqzPmzcPjx49AgA8ePAAS5cuRUpKipDaUgf1yMhIbNy4EV5eXiguLsaoUaMwYcIEYfWJyLywESAiItmRMqwvXrwYYWFh2LlzJ6ZPn46+ffvi8OHDQmpLHdQdHR3xxRdfwNraGgcPHkRBQQHeeecdYfWJyLxw1yAiIpKdvLw8ZGRkwN/fH9u3b8fs2bOxcOFCtG/fXkj9s2fPIiIiAhkZGRg+fLiQmgBw48YNuLm56V5XV1ejvLwc7u7uetUtKyuDRqNBXFwcEhMTdesmGhoasGbNGuTl5elVn4jMExsBIiKSJdFhfdy4cbCwsADwbAFyVVUVLC0t4eDgAODZacZtJXVQ37RpE0pLS3HlyhW8+eab0Gq1sLCwgJWVFTw9PREWFqZXfSIyT2wEiIhINqQM65WVla1e1+f0X0MF9fT0dNjZ2SEoKAjh4eG4evUq1q9fjzFjxgipT0TmhecIEBGRbGRnZ0tW+8KFC61e16cRiIiIANByUA8NDW1z3RcVFRVh6dKlyM/Ph0KhgFKpxJIlS9gIEFGbsBEgIiLZkDKsl5SUtHrd39+/zbWbSB3UNRoNPD09ERUVBW9vbzg5OaGxsVFIbSIyP2wEiIhINqQM60lJSf94rba2ts11nyd1ULe1tUVmZiZKSkoQHx+PrKws2NvbC6tPROaFjQAREcmGIcJ6YWEhNm7cCLVaDa1WC41Gg9raWhQXF+tdW+qgnpKSgpycHKSlpcHBwQEqlQqpqanC6hOReeFiYSIikh0pw/rEiRORkJCAHTt2IDw8HAUFBaipqUF8fLzetVUqFXJycjBy5EgMGTIEycnJCAkJQY8ePfSuTUQkGp8IEBGR7CQlJbUY1kXo2LEjPDw8cPHiRTx58gTR0dHw9fUVUrt79+5YsmSJ7nV0dLSQukREUuDJwkREJDtNYX3w4MG6sH7+/HkhtRUKBcrLy+Hq6orS0lLU1dWhvr5eSG0iIlPCRoCIiGRHyrAeGRmJjRs3wsvLC8XFxRg1ahQmTJggpDYRkSnhGgEiIpKd0tJS7NmzB8nJyZg9ezYqKirw7rvvYsWKFXrXvnHjBtzc3HSvq6urUV5eDnd3d71rExGZEjYCREQkO1KE9bKyMmg0GsTFxSExMRFNv/4aGhqwZs0a5OXl6T1uIiJTwsXCREQkG1KG9XPnzqG0tBT3799HWloatFotLCwsYGVlhZkzZ4r6KxARmQw2AkREJBtShvWIiAgAQHp6Ouzs7BAUFITw8HBcvXoVoaGhIoZPRGRSuFiYiIhkIyIiAtnZ2ViwYAG8vLzw1VdfwcrKClevXoWrq6uQzygqKoKbmxvy8/OhUCigVCqRlpYmpDYRkSlhI0BERLIjZVjXaDTw9PTEqVOn4O3tDScnJzQ2NgqpTURkStgIEBGR7EgZ1m1tbZGZmYmSkhJ4eXkhKysL9vb2QmoTEZkSNgJERCQ7Uob1lJQUqNVqpKWlwcHBASqVCqmpqUJqExGZEm4fSkREsqNSqZCTk4ORI0diyJAhSE5ORkhICHr06GHsoRERvTTYCBARERERmSFODSIiIiIiMkNsBIiIiIiIzBAbASIiIiIiM8RGgIiIiIjIDLERICIiIiIyQ/8FhMtF/tkcaPIAAAAASUVORK5CYII=\n",
      "text/plain": [
       "<Figure size 864x720 with 2 Axes>"
      ]
     },
     "metadata": {},
     "output_type": "display_data"
    }
   ],
   "source": [
    "\n",
    "\n",
    "plt.figure(figsize=(12,10))\n",
    "sns.heatmap(df_encoded.corr(), cmap='Greens')"
   ]
  },
  {
   "cell_type": "code",
<<<<<<< HEAD
   "execution_count": 9,
=======
   "execution_count": 45,
>>>>>>> da013f550db9caf80c0e4363eb4f794c0194cb6b
   "metadata": {},
   "outputs": [
    {
     "data": {
      "text/html": [
       "<div>\n",
       "<style scoped>\n",
       "    .dataframe tbody tr th:only-of-type {\n",
       "        vertical-align: middle;\n",
       "    }\n",
       "\n",
       "    .dataframe tbody tr th {\n",
       "        vertical-align: top;\n",
       "    }\n",
       "\n",
       "    .dataframe thead th {\n",
       "        text-align: right;\n",
       "    }\n",
       "</style>\n",
       "<table border=\"1\" class=\"dataframe\">\n",
       "  <thead>\n",
       "    <tr style=\"text-align: right;\">\n",
       "      <th></th>\n",
       "      <th>class</th>\n",
       "      <th>cap-shape</th>\n",
       "      <th>cap-surface</th>\n",
       "      <th>cap-color</th>\n",
       "      <th>bruises</th>\n",
       "      <th>odor</th>\n",
       "      <th>gill-attachment</th>\n",
       "      <th>gill-spacing</th>\n",
       "      <th>gill-size</th>\n",
       "      <th>gill-color</th>\n",
       "      <th>...</th>\n",
       "      <th>stalk-surface-above-ring</th>\n",
       "      <th>stalk-surface-below-ring</th>\n",
       "      <th>stalk-color-above-ring</th>\n",
       "      <th>stalk-color-below-ring</th>\n",
       "      <th>veil-color</th>\n",
       "      <th>ring-number</th>\n",
       "      <th>ring-type</th>\n",
       "      <th>spore-print-color</th>\n",
       "      <th>population</th>\n",
       "      <th>habitat</th>\n",
       "    </tr>\n",
       "  </thead>\n",
       "  <tbody>\n",
       "    <tr>\n",
       "      <td>0</td>\n",
       "      <td>1</td>\n",
       "      <td>5</td>\n",
       "      <td>2</td>\n",
       "      <td>4</td>\n",
       "      <td>1</td>\n",
       "      <td>6</td>\n",
       "      <td>1</td>\n",
       "      <td>0</td>\n",
       "      <td>1</td>\n",
       "      <td>4</td>\n",
       "      <td>...</td>\n",
       "      <td>2</td>\n",
       "      <td>2</td>\n",
       "      <td>7</td>\n",
       "      <td>7</td>\n",
       "      <td>2</td>\n",
       "      <td>1</td>\n",
       "      <td>4</td>\n",
       "      <td>2</td>\n",
       "      <td>3</td>\n",
       "      <td>5</td>\n",
       "    </tr>\n",
       "    <tr>\n",
       "      <td>1</td>\n",
       "      <td>0</td>\n",
       "      <td>5</td>\n",
       "      <td>2</td>\n",
       "      <td>9</td>\n",
       "      <td>1</td>\n",
       "      <td>0</td>\n",
       "      <td>1</td>\n",
       "      <td>0</td>\n",
       "      <td>0</td>\n",
       "      <td>4</td>\n",
       "      <td>...</td>\n",
       "      <td>2</td>\n",
       "      <td>2</td>\n",
       "      <td>7</td>\n",
       "      <td>7</td>\n",
       "      <td>2</td>\n",
       "      <td>1</td>\n",
       "      <td>4</td>\n",
       "      <td>3</td>\n",
       "      <td>2</td>\n",
       "      <td>1</td>\n",
       "    </tr>\n",
       "    <tr>\n",
       "      <td>2</td>\n",
       "      <td>0</td>\n",
       "      <td>0</td>\n",
       "      <td>2</td>\n",
       "      <td>8</td>\n",
       "      <td>1</td>\n",
       "      <td>3</td>\n",
       "      <td>1</td>\n",
       "      <td>0</td>\n",
       "      <td>0</td>\n",
       "      <td>5</td>\n",
       "      <td>...</td>\n",
       "      <td>2</td>\n",
       "      <td>2</td>\n",
       "      <td>7</td>\n",
       "      <td>7</td>\n",
       "      <td>2</td>\n",
       "      <td>1</td>\n",
       "      <td>4</td>\n",
       "      <td>3</td>\n",
       "      <td>2</td>\n",
       "      <td>3</td>\n",
       "    </tr>\n",
       "    <tr>\n",
       "      <td>3</td>\n",
       "      <td>1</td>\n",
       "      <td>5</td>\n",
       "      <td>3</td>\n",
       "      <td>8</td>\n",
       "      <td>1</td>\n",
       "      <td>6</td>\n",
       "      <td>1</td>\n",
       "      <td>0</td>\n",
       "      <td>1</td>\n",
       "      <td>5</td>\n",
       "      <td>...</td>\n",
       "      <td>2</td>\n",
       "      <td>2</td>\n",
       "      <td>7</td>\n",
       "      <td>7</td>\n",
       "      <td>2</td>\n",
       "      <td>1</td>\n",
       "      <td>4</td>\n",
       "      <td>2</td>\n",
       "      <td>3</td>\n",
       "      <td>5</td>\n",
       "    </tr>\n",
       "    <tr>\n",
       "      <td>4</td>\n",
       "      <td>0</td>\n",
       "      <td>5</td>\n",
       "      <td>2</td>\n",
       "      <td>3</td>\n",
       "      <td>0</td>\n",
       "      <td>5</td>\n",
       "      <td>1</td>\n",
       "      <td>1</td>\n",
       "      <td>0</td>\n",
       "      <td>4</td>\n",
       "      <td>...</td>\n",
       "      <td>2</td>\n",
       "      <td>2</td>\n",
       "      <td>7</td>\n",
       "      <td>7</td>\n",
       "      <td>2</td>\n",
       "      <td>1</td>\n",
       "      <td>0</td>\n",
       "      <td>3</td>\n",
       "      <td>0</td>\n",
       "      <td>1</td>\n",
       "    </tr>\n",
       "  </tbody>\n",
       "</table>\n",
       "<p>5 rows × 22 columns</p>\n",
       "</div>"
      ],
      "text/plain": [
       "   class  cap-shape  cap-surface  cap-color  bruises  odor  gill-attachment  \\\n",
       "0      1          5            2          4        1     6                1   \n",
       "1      0          5            2          9        1     0                1   \n",
       "2      0          0            2          8        1     3                1   \n",
       "3      1          5            3          8        1     6                1   \n",
       "4      0          5            2          3        0     5                1   \n",
       "\n",
       "   gill-spacing  gill-size  gill-color  ...  stalk-surface-above-ring  \\\n",
       "0             0          1           4  ...                         2   \n",
       "1             0          0           4  ...                         2   \n",
       "2             0          0           5  ...                         2   \n",
       "3             0          1           5  ...                         2   \n",
       "4             1          0           4  ...                         2   \n",
       "\n",
       "   stalk-surface-below-ring  stalk-color-above-ring  stalk-color-below-ring  \\\n",
       "0                         2                       7                       7   \n",
       "1                         2                       7                       7   \n",
       "2                         2                       7                       7   \n",
       "3                         2                       7                       7   \n",
       "4                         2                       7                       7   \n",
       "\n",
       "   veil-color  ring-number  ring-type  spore-print-color  population  habitat  \n",
       "0           2            1          4                  2           3        5  \n",
       "1           2            1          4                  3           2        1  \n",
       "2           2            1          4                  3           2        3  \n",
       "3           2            1          4                  2           3        5  \n",
       "4           2            1          0                  3           0        1  \n",
       "\n",
       "[5 rows x 22 columns]"
      ]
     },
<<<<<<< HEAD
     "execution_count": 9,
=======
     "execution_count": 45,
>>>>>>> da013f550db9caf80c0e4363eb4f794c0194cb6b
     "metadata": {},
     "output_type": "execute_result"
    }
   ],
   "source": [
    "#we are dropping veil type because it is useless cause it contains the same value for every row\n",
    "\n",
    "df_encoded.drop(['veil-type'], axis = 1, inplace = True)\n",
    "df_encoded.head()"
   ]
  },
  {
   "cell_type": "code",
<<<<<<< HEAD
   "execution_count": 10,
=======
   "execution_count": 46,
>>>>>>> da013f550db9caf80c0e4363eb4f794c0194cb6b
   "metadata": {},
   "outputs": [
    {
     "data": {
      "text/plain": [
       "22"
      ]
     },
<<<<<<< HEAD
     "execution_count": 10,
=======
     "execution_count": 46,
>>>>>>> da013f550db9caf80c0e4363eb4f794c0194cb6b
     "metadata": {},
     "output_type": "execute_result"
    }
   ],
   "source": [
    "len(df_encoded.columns)"
   ]
  },
  {
   "cell_type": "code",
<<<<<<< HEAD
   "execution_count": 11,
=======
   "execution_count": 47,
>>>>>>> da013f550db9caf80c0e4363eb4f794c0194cb6b
   "metadata": {},
   "outputs": [
    {
     "data": {
      "text/plain": [
<<<<<<< HEAD
       "<matplotlib.axes._subplots.AxesSubplot at 0x1a1d7b7590>"
      ]
     },
     "execution_count": 11,
=======
       "<matplotlib.axes._subplots.AxesSubplot at 0x1d8610d0c48>"
      ]
     },
     "execution_count": 47,
>>>>>>> da013f550db9caf80c0e4363eb4f794c0194cb6b
     "metadata": {},
     "output_type": "execute_result"
    },
    {
     "data": {
      "image/png": "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\n",
      "text/plain": [
       "<Figure size 864x720 with 2 Axes>"
      ]
     },
     "metadata": {},
     "output_type": "display_data"
    }
   ],
   "source": [
    "\n",
    "plt.figure(figsize=(12,10))\n",
    "sns.heatmap(df_encoded.corr(), cmap='Greens')"
   ]
  },
  {
   "cell_type": "markdown",
   "metadata": {},
   "source": [
    "Now we can create the model to fit our data<br>\n",
    "First we split our data into training and test set.\n",
    "We will be using a neural network with a logistic regression function as the activation function and a scocastic gradient descent method\n",
    "poisonous = 1, edible = 0\n"
   ]
  },
  {
   "cell_type": "markdown",
   "metadata": {},
   "source": [
    "## Baseline Implementation"
   ]
  },
  {
   "cell_type": "code",
<<<<<<< HEAD
   "execution_count": 12,
=======
   "execution_count": 48,
>>>>>>> da013f550db9caf80c0e4363eb4f794c0194cb6b
   "metadata": {},
   "outputs": [],
   "source": [
    "\n",
    "X = df_encoded.drop(columns='class')\n",
    "X\n",
    "Y = df_encoded['class']\n",
    "Y\n",
    "\n",
    "X_train, X_test, y_train, y_test = train_test_split( X, Y, test_size=0.20)"
   ]
  },
  {
   "cell_type": "markdown",
   "metadata": {},
   "source": [
    "### Neural Network"
   ]
  },
  {
   "cell_type": "code",
<<<<<<< HEAD
   "execution_count": 13,
=======
   "execution_count": 49,
>>>>>>> da013f550db9caf80c0e4363eb4f794c0194cb6b
   "metadata": {},
   "outputs": [],
   "source": [
    "clf = MLPClassifier(hidden_layer_sizes=(21,21,21),activation='logistic',early_stopping = True)"
   ]
  },
  {
   "cell_type": "code",
<<<<<<< HEAD
   "execution_count": 14,
=======
   "execution_count": 50,
>>>>>>> da013f550db9caf80c0e4363eb4f794c0194cb6b
   "metadata": {},
   "outputs": [
    {
     "data": {
      "text/plain": [
       "MLPClassifier(activation='logistic', alpha=0.0001, batch_size='auto',\n",
       "              beta_1=0.9, beta_2=0.999, early_stopping=True, epsilon=1e-08,\n",
       "              hidden_layer_sizes=(21, 21, 21), learning_rate='constant',\n",
       "              learning_rate_init=0.001, max_iter=200, momentum=0.9,\n",
       "              n_iter_no_change=10, nesterovs_momentum=True, power_t=0.5,\n",
       "              random_state=None, shuffle=True, solver='adam', tol=0.0001,\n",
       "              validation_fraction=0.1, verbose=False, warm_start=False)"
      ]
     },
<<<<<<< HEAD
     "execution_count": 14,
=======
     "execution_count": 50,
>>>>>>> da013f550db9caf80c0e4363eb4f794c0194cb6b
     "metadata": {},
     "output_type": "execute_result"
    }
   ],
   "source": [
    "clf.fit(X_train,y_train)"
   ]
  },
  {
   "cell_type": "code",
<<<<<<< HEAD
   "execution_count": 15,
=======
   "execution_count": 51,
>>>>>>> da013f550db9caf80c0e4363eb4f794c0194cb6b
   "metadata": {},
   "outputs": [],
   "source": [
    "y_pred = clf.predict(X_test)"
   ]
  },
  {
   "cell_type": "code",
<<<<<<< HEAD
   "execution_count": 16,
=======
   "execution_count": 52,
>>>>>>> da013f550db9caf80c0e4363eb4f794c0194cb6b
   "metadata": {},
   "outputs": [
    {
     "name": "stdout",
     "output_type": "stream",
     "text": [
<<<<<<< HEAD
      "[[837   5]\n",
      " [  3 780]]\n"
=======
      "[[828  13]\n",
      " [  4 780]]\n"
>>>>>>> da013f550db9caf80c0e4363eb4f794c0194cb6b
     ]
    }
   ],
   "source": [
    "print(confusion_matrix(y_test,y_pred))"
   ]
  },
  {
   "cell_type": "code",
<<<<<<< HEAD
   "execution_count": 17,
=======
   "execution_count": 53,
>>>>>>> da013f550db9caf80c0e4363eb4f794c0194cb6b
   "metadata": {},
   "outputs": [
    {
     "data": {
      "text/plain": [
       "(2.0, 0.0)"
      ]
     },
<<<<<<< HEAD
     "execution_count": 17,
=======
     "execution_count": 53,
>>>>>>> da013f550db9caf80c0e4363eb4f794c0194cb6b
     "metadata": {},
     "output_type": "execute_result"
    },
    {
     "data": {
<<<<<<< HEAD
      "image/png": "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\n",
=======
      "image/png": "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\n",
>>>>>>> da013f550db9caf80c0e4363eb4f794c0194cb6b
      "text/plain": [
       "<Figure size 432x432 with 2 Axes>"
      ]
     },
     "metadata": {},
     "output_type": "display_data"
    }
   ],
   "source": [
    "\n",
    "plt.figure(figsize = (6,6))\n",
    "heatmap = sns.heatmap(confusion_matrix(y_test,y_pred), annot=True)\n",
    "bottom, top = heatmap.get_ylim()\n",
    "heatmap.set_ylim(bottom + 0.5, top - 0.5)"
   ]
  },
  {
   "cell_type": "code",
<<<<<<< HEAD
   "execution_count": 18,
=======
   "execution_count": 54,
>>>>>>> da013f550db9caf80c0e4363eb4f794c0194cb6b
   "metadata": {},
   "outputs": [
    {
     "name": "stdout",
     "output_type": "stream",
     "text": [
      "              precision    recall  f1-score   support\n",
      "\n",
<<<<<<< HEAD
      "           0       1.00      0.99      1.00       842\n",
      "           1       0.99      1.00      0.99       783\n",
=======
      "           0       1.00      0.98      0.99       841\n",
      "           1       0.98      0.99      0.99       784\n",
>>>>>>> da013f550db9caf80c0e4363eb4f794c0194cb6b
      "\n",
      "    accuracy                           1.00      1625\n",
      "   macro avg       1.00      1.00      1.00      1625\n",
      "weighted avg       1.00      1.00      1.00      1625\n",
      "\n"
     ]
    }
   ],
   "source": [
    "print(classification_report(y_test,y_pred))"
   ]
  },
  {
   "cell_type": "markdown",
   "metadata": {},
   "source": [
    "We can view the classification report and see that the f1-score is really good. This indicates our model is very good because the f1-score is the most balanced metric in the classification_report."
   ]
  },
  {
   "cell_type": "code",
<<<<<<< HEAD
   "execution_count": 19,
=======
   "execution_count": 55,
>>>>>>> da013f550db9caf80c0e4363eb4f794c0194cb6b
   "metadata": {},
   "outputs": [
    {
     "name": "stdout",
     "output_type": "stream",
     "text": [
<<<<<<< HEAD
      "0.9950769230769231\n"
=======
      "Accuracy of the neural network on test set: 0.9895384615384616\n"
>>>>>>> da013f550db9caf80c0e4363eb4f794c0194cb6b
     ]
    }
   ],
   "source": [
    "print('Accuracy of the neural network on test set:',accuracy_score(y_test,y_pred))"
   ]
  },
  {
   "cell_type": "markdown",
   "metadata": {},
   "source": [
    "Overall the model is pretty accuarte."
   ]
  },
  {
   "cell_type": "markdown",
   "metadata": {},
   "source": [
    "### Logistic Regression\n",
    "\n",
<<<<<<< HEAD
    "Logistic regression is for classifying binary variables. Since we are classifying"
=======
    "Logistic regression is for classifying binary variables. Since we are classifying mushrooms as poisonous or edible this is a suitable algorithm.\n",
    "<br><br>\n",
    "The Logistic regression is implemented using the sklearn library, the model built using this library includes regularization. From the classification report below we can see that this performs well and does not overfit or underfit the data. Since this is the case, we do not need to adjust parameters or optimize the model any further."
>>>>>>> da013f550db9caf80c0e4363eb4f794c0194cb6b
   ]
  },
  {
   "cell_type": "code",
<<<<<<< HEAD
   "execution_count": 20,
   "metadata": {
    "jupyter": {
     "source_hidden": true
    }
   },
=======
   "execution_count": 56,
   "metadata": {},
>>>>>>> da013f550db9caf80c0e4363eb4f794c0194cb6b
   "outputs": [
    {
     "name": "stdout",
     "output_type": "stream",
     "text": [
      "Accuracy of logistic regression classifier on test set: 0.94\n"
     ]
    },
    {
     "name": "stderr",
     "output_type": "stream",
     "text": [
      "C:\\Users\\oluwa\\Anaconda3\\lib\\site-packages\\sklearn\\linear_model\\logistic.py:432: FutureWarning: Default solver will be changed to 'lbfgs' in 0.22. Specify a solver to silence this warning.\n",
      "  FutureWarning)\n"
     ]
    }
   ],
   "source": [
    "clf = LogisticRegression(max_iter=3000).fit(X_train, y_train)\n",
    "y_pred = clf.predict(X_test)\n",
    "print('Accuracy of logistic regression classifier on test set: {:.2f}'.format(clf.score(X_test, y_test)))"
   ]
  },
  {
   "cell_type": "code",
<<<<<<< HEAD
   "execution_count": 21,
=======
   "execution_count": 57,
>>>>>>> da013f550db9caf80c0e4363eb4f794c0194cb6b
   "metadata": {},
   "outputs": [
    {
     "name": "stdout",
     "output_type": "stream",
     "text": [
      "              precision    recall  f1-score   support\n",
      "\n",
<<<<<<< HEAD
      "           0       0.95      0.98      0.96       842\n",
      "           1       0.97      0.94      0.96       783\n",
=======
      "           0       0.93      0.95      0.94       841\n",
      "           1       0.95      0.93      0.94       784\n",
>>>>>>> da013f550db9caf80c0e4363eb4f794c0194cb6b
      "\n",
      "    accuracy                           0.94      1625\n",
      "   macro avg       0.94      0.94      0.94      1625\n",
      "weighted avg       0.94      0.94      0.94      1625\n",
      "\n"
     ]
    }
   ],
   "source": [
    "print(classification_report(y_test,y_pred))"
   ]
  },
  {
   "cell_type": "code",
<<<<<<< HEAD
   "execution_count": 22,
=======
   "execution_count": 58,
>>>>>>> da013f550db9caf80c0e4363eb4f794c0194cb6b
   "metadata": {},
   "outputs": [
    {
     "data": {
      "text/plain": [
       "Text(0.5, 1, 'Confusion Matrix for Logistic Regression')"
      ]
     },
<<<<<<< HEAD
     "execution_count": 22,
=======
     "execution_count": 58,
>>>>>>> da013f550db9caf80c0e4363eb4f794c0194cb6b
     "metadata": {},
     "output_type": "execute_result"
    },
    {
     "data": {
<<<<<<< HEAD
      "image/png": "iVBORw0KGgoAAAANSUhEUgAAATAAAACcCAYAAAD4UvfSAAAABHNCSVQICAgIfAhkiAAAAAlwSFlzAAALEgAACxIB0t1+/AAAADh0RVh0U29mdHdhcmUAbWF0cGxvdGxpYiB2ZXJzaW9uMy4xLjMsIGh0dHA6Ly9tYXRwbG90bGliLm9yZy+AADFEAAAgAElEQVR4nO2ddXgUxxvHPycxJBDcHaZIcZfiXlyLeynFNbi7OwUa3J2ixSlOcfkxQHEIUKCEECG55H5/7CXELsHvAvN5nn1yOzu7887m9nvvzM68ozObzSgUCkVsRG9rAxQKheJDUQKmUChiLUrAFApFrEUJmEKhiLUoAVMoFLEWJWAKhSLWYrS1AUIIA9ANaIJmjyPwBzBESvnmI665EcgOzJBSznrP8wsC7lLK+h9SfhTXuwMkBZJLKV+HSW8FLAIaSCnXR3N+AmCTlLKclePngTJSypfvaE8rYATwPyll5XerRaRrDAOSSCk7f8j5UVxvIbBaSrk3mjwLgHlSyjPvkj8Ke38FHlqSdIArsAnoJaW0u/FEQogdQG8p5VVb22Kv2FzAgLmAG1BeSuklhIgLrAAWAs0/8JqpgcpAXCll0PueLKX8G/gk4hWGZ0BdYGmYtBbAk3c41w0obO2glDLve9rSAhggpVz+nud9NqSU7d4hW0Xgt/fIH5E1YQVXCOEGXAR2Wza7QkpZzdY22Ds2FTAhRAagKZBSSvkKQErpI4ToCJSw5EkAzAbyAmZgJ9rDZxJC+APjgEpASmACsBzYBTgAZ4QQ9YCbQFIp5TPLNc1oHpE/mgeUFQgGzgA/Az8As6SUud63fCnlXCvVXQ40wyJgQoj0QDzgWpj70cZSviOQCBhnud4iwMXiaRUAfIEtQB7L/Tttqc+vaMJdyrJ/FmgqpTwQpoypaGKYUQiRFPCIpn5vwpZjEfYYEUKUAiYCcYAAYJCUcpfFM54I1AS8gJNADillGSHEQWAWsBmYifb/DwRuAa2B/kAqYIUQogUwHu1/tF4I8SMwCq1LxAfoKKW88A6mJrfY+J/F7uzAdCAxYEDz3j0sx9yBtoA3cBioLaXMIIRYjPa/ygxsAwZbbCttucY5oKuU8pUQ4hego+We+AM/SymvRpN+B6gvpfxbCNEB6AoEof3odZZSXreU/wr4HkiLJsgtwnr6XzO27gMrAFwJEa8QpJSPpZQbLLszgOdo/6CCaA9Tb8sxJ+CZlLI4msc0Fe1LXw3wk1LmlVL+E035dYD4Fg+mkCUtU4Q871W+EMLZSlnbgTxCiJSW/eaE8caEEPGA9kA1KWU+oBGaIIP2AIfUJwhLM1tKKSKIyihL/fsAy9Ae8ANhjiOl7AH8DfSRUk6NoX7WyrGKECIxsB7oJqXMDbQElgshMgLt0P7nuYBiaA99RIoBZYA8UsoCaAKWW0o5EHiEJqQnw5SXHO3HobWlvIloPypR0UgIcV4IcUMI8RxNKH+WUp4SQhgtdrtbyi0N9BZCFBVCVAZaoX1HCgDxI1w3jpQyp5SyH+AOmIACUso8FpvHWcR7GlBFSlkImA+UtJYe4Z6WA/oCZS3XXAlsFkLoLFkKAFXQukwyAA2s1P+rw9YCFvwONlRFexDNlj6xeZa0ELZY/p5FE5S471H+ESCn5dffHZgmpbz5mcoPQHtAmlj2G6F9EQGw/GL+CFQXQowEBqJ5aNb4K2KCRdyaAv3Q+njGRnN+CDHVL1I5MVAEuBkiMlLKK8BRNFGqBiyVUvpLKQOwNAcjcAnNyzhpuQ8bpJTHoimvBHBZSnnOUt5GKWVVK3nXWH6scgIbABe0/laAbGiC6mHxdA9Zjuez2L1OSvnS0lc2O8J1j4T5/CNQCzhnuU5tNC8zCFgHHBNCzAJeAr9bS49w/SoW2/+11HExWjdJBsvxXVLKN1LKQLT7lyia+/VVYWsBOwlkF0KE+0UTQqQWQmwXQrig2Ri2g1WP1jwMwQ8gTCesjqjRWa7tGJIgpbwNZEF70F2BvUKIGhHO+1Tlg+ZxNRNCFNdOkS9CDggh0gDngfRoD8SgaK4DYK2JkN5iU2a0vrOYiKl+79sUMUS4Xthrmgh/fyL1T1peRIR4gUHAGiFEp2jKM4UtTwihE0Lkjs5Ai3h2BhKgeWwhdntZvNy8FqEritZ8j8nusPfIgOZ9hlyjMJb+VCllM6AGWpeGO7AquvQI14x4T3W8/T/5hUk3E/138KvCpgImpXyE1mHvIYRwBbD8nQM8l1L6oXWudrZ8MZ2ADsCe9yzqX7TmEbz1gLD0PSwC/rS4/7uB/BHO/RTlA2DxSlyAMcDiCIcLWuwcBfyJ9kse8kbVBBjCNBmiRAiREO1+tkJ7CCL+kkfFJ6ufhePAd0KIwhabcqL1KR5Ea0Y3E0I4WZpsrYjwYFr6s/YBx6SUw9BEP6R5byK8uMLbH8Gclv1aaE3KaLGI2C9AJyFEPkACfkKIZhY70gKX0Zpn24F6lv5Q0PrCrL21DLmfjkIIPbAAGCuESCKEuI/2vZ6G9gNVyFp6hGvuAhpb+iwRQrRGa/ZHbC18c9jaAwPoBFxFc6HPo30hr6L1l4DWcZkMzTW+hPZFG/2eZXQFZgshzqL1E3ha0pei/bpdFUKcQftFnhHFuR9bfliWAQLtSxmWP4EHluv/D0iHJmhZLPaeAq5Y+pissQDYJqX8ExgGZIrBe4GPq18HIcTrMNsxy4uSBsBMIcQltGZyaynldTTRPonWsX0MrVntG+GaO4ErwGUhxN9AcWC45dhGtP60SiGZpZRP0JrNSyzfn55A43cxXkp5BE3wZ6P1HdYC2gkhLqL9PwZLKY9KKfej3dvjFpsSRGF3CCOBO5Y6XkXzhnpZ7ssoYJ/luzYOaG8tPYKde9D6d/cLIa6g9Sv+KKUMfpd6fs3oVDgdxZfCIjzJQoZvCCGmA/4W79duEdq4wOJSyhmW/Z5AESllI9taprCHcWCKb4crQB8hRF80z/cCWjPO3rkO9LMMZTAD99Ca2gobozwwhUIRa7GHPjCFQqH4IJSAKRSKWIsSMIVCEWv5op34Lvk6qw63WMp/p98roIfCznA2ftjg1qieWb9zs+xmoKx6C6lQKKxjiDhu2L5QAqZQKKyjN9jagmhRAqZQKKxjsG+JsG/rFAqFbVEemEKhiLUoAVMoFLEW44d34gsh2qGFLQohI1owg7hoQRt9LOnDpZSbhBAVgCloEVvWSCljCimlBEyhUETDR3hgUsqFaGtbhIRV2owWJeUA8IOUMiQqDJbYfx5okXDvA9uFEFWllDujK0MJmEKhsE4UAmaJO5cwitwvpfWVseYCA9DCEKVDiwGYGm1VqOFogR9vWIKMIoRYjhaWKVoBUyPxFQqFdQwOkTfoDtyOYuse1SUsTUMXKeU6IAWwH2iDFvG2FFqAyFS8jdOH5XOamMxTHphCobBO1E3IaUSOKAxaPP+o+Bmtbwsp5S20xXQAEELMRFvmbz3ho9zq0NbMiJZvQsAm961PifxZAMieKQV3Hj7H700gAGVaTsbf8vlT4nduFmMX7GTEnO2haXUq5KVjo9JUbj/9k5f3NZMnpyBL1mwY9G8bDDly5WLYCOuBY7ds2siePbuZNSeqdUPej7mzZ7Jm1QqSJUsOOh3BwUEkSpSYAYOHkiFDxo++vl0ThYBZmonvuoiyI1q/VivL/vdAtjCrjunQouE+QFuaMIQUaCs6Rcs3IWC9Jrxd9Pra9uG0HriEs1fvffZyuzUrz74T1zh6NrqV3RTvwsJFS3Bzs91iO5WqVGPAoCGh+ytXLKN/316sWrvRZjZ9ET5+KlFu4LqUMuSNow6YJoTYj7YYSgdgCVqocSGEyILWHG2C1qkfLd+EgMXEy5NT2XbwEt9nS03rgUs4uqIvacr24/lL7Z77nZsVul/th1y4t6uCg4MBP/8A+k/dzMmLt6O87rDZf7BoVEsKNxrLS2+/SMf7tq1M7fJ50et13Hv0nG5j1+L5rxeZ0ibht2HNcHONw+Nnr9DpYNX20yz/42QUpXzbbNq4nvVr1xAYGMgrLy/atGtPw8ZNwuXZu+dPFvw2F71eh15voGfvvhQoWAhvb28mjB3NjRvXMZkCKVKkGD1698VojPmxKFKkGDOmTgHgyePHjBoxjEePHmI2m6lZqzat2rTDZDIxbsxIzp87i9HoQJo0aRgxaixx4r7Pyn825uPHgWVC864AkFJeFEKMRVtqzwFt2bxVAEKIVmjL3TkDO9CaldGiBAxwcnRg++FLNOsXveBnTpeU4Z1rUrn9dF54+ZA9Uwq2z+tCrprD8fUPiJR/5fZT5MueltmDf6Jp3/DXbvJjYXJlTUWp5hMJCgqmTd0SzBnShDpd5uIxqiUrtp1kwbojiIzJObqiL6u2n/6kdY5ttGvdMlwTcu4CD1ycndm4fh2z580nYUI3Ll44z8/tWkcSsKmTJzB2/CRy58nLsaNHOH3qJAUKFmLi+DFkz5mTkWPGERQUxOCB7ixbsojWbdtHLD4cJpOJTRvXU6hwEQD69+tNmbLladGqNd7e3rRp0ZTkKVKSPHly/j59ik1bd6DT6Zg6eSLXr0vy5ou48JX9otN/3Hs+KeVaYG2EtDloK49FzLsPbUm9d0YJmIV3aeaVL/IdKZK4suO3LqFpZrOZzOmScun6wyjP6TZ2LSdXu9OqTjG8wnhh1UrlomCu9Bxd0RcAg15PHGcHEsZ3oWDO9FRoOxUAefsJB05d/5iqfRVYa0LOnDOPvw4d4u7dO8hr1/D1jbxYUJWq1enRtTOlSpemaLESoQJ1+NBBLl+6xOYN2g+9/xt/q+X/uWsH58+eASAwMJDsOXMydPhIfH19OX/uLPMWaD9Q8ePHp2btuhz96zB9+w9ErzfQtHEDipcoSYWKlfk+d7RLVtodeoN9D1RQAmbBx+9NuH2dTgt55GB860IbDHoOnpI0d18UmpYmeUIe/etl9brePv60GrCYLbM7MXXJvnDXmrx4DwvWaYs6OzoYcXN1wRSkvXjRhQnfFBz0za+eFSVPHj+medNG1KvfkHz5C1CxUhUOHzoQKV+Xbj2oXacex48fZevmjSxd7MHKNesJDgpm0pTpZMqcGYBXr16F/t8jErEPLAQfn9dEXFci2ByMyWTC1dWVdRu3cP7cWU6dPEHf3t1p1botjX5q+glq/2XQf6QH9rmxb+tsxNMX3uTPkQ6ARlULhqYfOCUpXyw72TIkB6ByyRycWjsAF6foOzpPXbrD9GX76d++SmjanmP/o1Xt4sSP6wzAkF+q8/uolrz2fcPxC7doUasoAOlTJaZM4WxWV1H9lrly5TJubono0LETxUuUDBWvoKC3C2ebTCaqViyHv78fDRv9xIDBQ7lxXRIQEEDxEiVZvnQxZrOZgIAAunX+hdUrY1wTNxxx48Yjd+48rF65AgBvb2+2bdlM0eLFOXTwAB3atiJP3nz88msXatSszeXLlz9Z/b8EeoM+0mZPKA8sCnpPWM8094a89PZj/4lreFo8rGu3HtN55CqWjmuNTgcmUzANuv+Gj1/k/q+IjF+4m3JFROj+ok3HSJUsAYeW9sJshvuPX9BhyDIA2g5ayryhTenQsBSPnnpx59Fz/N6hjG+NYsVLsHnjempWr4Jer6NAwcK4JUrE/Xt3Q/MYjUb6uA/AvW9vjEYjer2O4SPH4OjoSL8BA5kwdjT1atfAZAqkaNHitGrTLpoSo2bMhEmMHTWCLZs3EhgYQLXqNahVuy7BwcEc/esw9Wr/SJw4cXB1TcCQ4SM/5S347Ni7B/ZFl1VTIaXfjb5tK7N533mu33mCazxnTq8dQK3Oc7h267HNbFIhpWM3HxpSOnHLVZGe2edLflIhpRXWuXn3KcvGtyY42IzRYGDSoj9tKl6KbxeDQYXTUbwnG/eeY+Pec7Y2Q6FAp7cbZytKlIC9IzXL5mZQx+oEm8385+VDp5Gr8PzXi2nuDSmYKz06nY7Tl+7Qfdxa/N8EkitrKmYMaETcOE4EB5sZOusP/jx61dbVUFgwm80MHuBO1mzZaNm6LV4vXzJq5DDktf/h4hKHWnXq0qRpc1ubaXPsvQ/Mvq2zE5ydHPAY3ZLGvRdQtPE4dhy+zOS+9enXtjJGo55CDcdSqOEYXJwd6NOmEgAeo1oydck+ijQaR9tBS1k+vk24IRkK23Hrn39o36Yle/bsDk2bOH4sceLEYdPWHSxfuYajfx3m0MHIQzK+NdRbyK8Ag16HDh0J4rkAEDeOE28CTBw5e5O7j15gNpsxm+HCtQdkz6zNRy3WZDxBlvFbmdImwcvbj6BgNZ7LHli9agV16zUgZcpUoWlXr16h/8DBGAwGDAYDpX4ow94/d1O6TFkbWmp77N0Di1HAhBDfAfXRYvMEo80Q3yWl/Psz22Y3+PgF0GXMag4s7skLL1/0eh3lWk/h1v1noXnSpXSjc9Oy/DpyFUCoeF3ZOpT0qRLTe+J6goPVS1h7IGRA6vFjR0PTvs+dm21/bCFvvvwEBgSwd89ujB8RTvlrwd77wKKVVyFEJ2C1Zfc0cNbyeYEQotfnNMyeyJklFQPaVyVfvdFkqjSQCb/vZtWkt+OF8mVPy97fezB39SF2/hV+oGLOmsPJWXM4vVtXpHShbF/adMU70quPOzqdjkb169C9668UK14CBwclYCEeadjNnojJA+sG5JNShptgJoSYgiZmkz+XYfZExWLZOX7hFrcfaB7XvDWHmdCrHokTxqVcke+Y1r8hPcetY80uzSl1MBqoXT4v6/88i9ls5u6j5+w/Kcn7XRoOnVbzGu0Rn9ev6dGzDwkSapGSF86fR7p06Wxsle2J1R4YYEILeRERF7QgZN8E567dp1SBLCRLFB+AmmXzcOfhc4rkzsikvvWp0Wl2qHgBBJqCGNrpRxpWLgBAyqQJKF0oG3+duWkT+xUxs27tambPmgHA82fP2LhhHVWr/2hjq2yPFoIo/GZPxOSBjQbOCSH2ocWoNqPFri4HDPzMttkNh05fZ+qSfexe0I0Ak4n/vHxp0OM3Vk9uj04Hc4a8Dd9y/PwteoxbS6NeC5jWvyE9WlUgONjMgKmbvkgQRcWH0bZ9Bwa696VurR8xm8106tyVXN/HrsgRnwODnb11jEiMU4mEEKmACmjCpUcLTrZXShljuNeIqKlEsRc1lSh286FTiXIM+DPSM3t1TCW7ccNifAtpEaqlX8AWhUJhZ9hbkzEiahyYQqGwir03IZWAKRQKqygPzM4Z17MOdSvk48UrbaTIjTtPaO6+iN5tKtHsx8IYDQZW7TjN6N92RHl+7fJ56dOmEk6ORu55vqDd4GW88PLBNZ4zd/eORd55Epq376QNHP77Bm3rlaBnywr85+1H0z6/c/fRcwA2zfwF9ykbkbefRFmWInoizm981zy9uncNF0Ps4cMHFChYiBmz57Fu7WoWeyzE1dWViVOmkyZNWgB+7dieXn3cQ6O5fq0YDErA7JqieTLRov8iTlx4u7JQ5ZI5qFcxH8WbTCAoOJg/5vzKtVv52LAnfISI/DnSMaVfA8q0nMw9zxdM6FWXYZ1r0HX0agp/n5EjZ29So9PsSGX2bl2RvHVHUbNsHjo2+oH+UzdRt0I+rt16rMTrA7n1zz+MGTWcS5cukjVb1AOGreWZPG1G6OfLly7Su0c3BgwaCoDHwvls/mMn+/ftZc2qlfTq048/d+8kU+YsX714gfLA7BpHByN5RBp6tqxAxjRJuXnvKX0nbaBm2Tys3fl36EpDS7ecoHH1wpEE7KdqhViy+Tj3PF8AMOq3HSRKoC2ZVTRPRtwSxOXQkl44Ohrx2Hg0NP59oCmYOM6OuMZzJiDQhIuzA91blKdax5lfsPZfF1HNb3zfPIEBAQwe4E4f9wGkSKnNaTUaHfD38+P1a28cHBzw8/NjySIP5v++KMprfG0oAbNjUiZNwMHT1xk2extX//GkR4vyrJ3agX9fvOZgmJWAHj59SepkCSOdnyV9Mi7feMjaqR1InyoRV248ou9kbaFTU1AwOw5dYtKiPSRJGJddC7rx+N9X/HHwIkNmbmX3gm48fvaKdoOX0q9tFeauOcRr3zeRylC8G1HNb3zfPJs2ridpsmSUr1AxNK1b9560bd2cJEmSMXrseBbOn0fjJk2JGzfeJ7TeflGd+HbM3UfPqdNlbuj+1KX7cG9fhecvfcKtNKNDR3AUkSQcjAaq/fA91X6ewdMXrxnTvTZzBv9Ew54LGLdgV2i+R/968fuGI9Qsl4c/Dl5k877zbN53HoCMaZJQ+PsMDJ+zjYm965ElfTIOnJTMWL7/M9ZcERXLli5hyLAR4dIqVKpMhUqVAbh/7x4XL5zn1y7dmDB2NHfv3qFI0eK0aNXaFuZ+EezdA7Nvef3M5Mqaip+qFwqXptPpuOf5gpRJE4SmpUyWgIdPXkY63/NfL/Ycu8qT596YzWaWbjlO4dwZAfilcWnSpnB7e110BJqCIl1jfK+69J+6iXJFBPHiOlGny1wqlchBprRJPlU1Fe/A//53laAgEwULFbaaZ9KEsfTs048Tx4/h4+vDrLnzOXrkMPfu3rV6TmzH3qcSfdMCFhxsZnLfBqRPlRiADg1KcfnGQ7YdvEijaoWI4+yIo4OR5jWKsPXgxUjnb9p7jqqlcoX2e9Uqn5czV7TpQsXzZqJHywoAuLnGoWXtYqzffTbc+VVL5eLR05dckA9wcjRiMmlentlsxsXJ8bPVWxGZM6dPUbhIUavrQh46eIBkyZKTPXsOAgICMBiMWl6djjfRLIgb2zEY9JG290EIcUAIcUUIcd6yFRFCNBFCXBVC3BBC/BombwUhxEVL+qh3uf433YS8+o8nPcevY8P0nzHo9Tx8+pKW/Rdz//F/5MySir+W98HRwcC2g5dY8cdJANrVL0n+HOnoNGIlOw5fJnXyhPy5sBt6vea5/TJ8JQA9xq9j1sDGnFk/EAejgXlrDrH/5LXQsh0djPRvX4VanbUV1vcev8bPDX/g8pahHDgluXLzvWdqKSJw5fIlhg8ZxNqNW2LMe+/uXVKlSh3lsYCAAObPm8OceQsAKF6iJGtWreDHKhUpXLQYWbOJKM/7GjB8hMclhNAB2YD0UkqTJS01WoiuAsAb4JgQ4gBwG/AASgP3ge1CiKpSyp3RlaGWVVO8E2ouZOzmQ+dCVp5zMtIze2d6Czcg8lsteCmlDO1rsQRD3QdIIDGwAPAGfpBStrXkGQzogEPAEClleUt6c6CslLJNdPZ9001IhUIRPUaDLtIGdEfzmCJu3SOc7oYmYHWA8kBHIB1aZJsQPNGiPaeykh69fR9QJ4VC8Y1giLpPcBqwOIr0cG+6pJTHgeMh+0KI34EpQNj+LR1aqHo9WriuiOnRogRMoVBYJaq3jpZmYuTX8hEQQpQEnKSU+yxJOuAOkDJMthRo62w8sJIeLUrAFAqFVYwfN5A1ITBCCFEcLbJzS6AZsFwIkRTwAeoBHYCLgBBCZEFrjjZB69SPFtUHplAorGLQ6yJt74qUchuwHTgHnAE8pJRH0aI5HwDOAyullKeklP5AK2ADcBW4BqyPqQz1FlLxTqi3kLGbD30L2XTZ+UjP7Irmee1mNKtqQioUCqvY28j7iCgBUygUVvmYgaxfAiVgCoXCKka9fXeTKwFTKBRWUU3IMDw5PiPmTAq7xK3OHFuboPgI/P7o9EHnqSakQqGItRiVgCkUitiK8sAUCkWsRQmYQqGItTioZdUUCkVsxc71SwmYQqGwjmpCKhSKWItqQioUiliLlYCGdoMSMIVCYRWjfc8kUgKmUCisY1RNSIVCEVtRI/FtTKE82cmcJSt6gyE0LUeOnAwaZn3dzD+2bGL/nt1MnTXvo8ufP3cW69esYuX6zSRJkjQ0vVHdGvTtP5gC0awErXjL5A4lKZEzFQDZ07px58kr/AK0lc7L9NmAf0DkVc8/Fr8/OnH5znOCgs2YzWYcjHpWH7zBpPVnYz75K0EJmB0wb+ESErq52ax8H5/XDBvozsx5C62u/KyInl7zj4R+vrawGa0n7+XszX8/e7lVBm7h+Stt5e34Lg6cnNGQK3efs/P03c9etj2gBMyO2bppAxvXryUwMJBXr17Ssk176jf8KVye/Xv/xGPBPPR6PXq9ga49e5O/QCFee3szacIY/rlxHZPJRKEiRenaow9GY+RbWrV6DS5dvMDypYto3jLyOp23b/3D5PFj8PJ6SVBwMI1/akbNOvUAWPz7ArZuXk+cOHHJV6Aghw7sY+vOfZGu8a3zcuPPbDt5m+8zJKb15L0cndqANE09QsXH749OofvVCqXHvVFBHIx6/N6Y6O9xjJPySYxlePsFcvbmv4g0buw8fZc2lXPQqcb3BAWbefrSjx7zDnPzkRfFc6RgfNsS6PU6zGaYtP4sm4/d+ty34LOgxoHZAR3btQzXhJw1dyHOLs5s3riOabPnkTChG5cunqfzz20jCdiMqZMYOXYC3+fOy4ljRzlz+hT5CxRiysRxZM+ek2EjxxIUFMTwwf1ZuWwxLVq3i1S+o6MTo8dPpl2rphQqXITvsucMPWYymejXqxsjxoznu+w5ee3tTZsWP5Exc2Zee79m29ZNLFmxjnjx4zNq2KDPd5NiOU4OBrafukOz8X9Gmy9zygQMb1GUygM288L7DdnTubF9ZE1ydViB7xtTtOdmTZ2QkjlTMXXjeUrnTk3Puvko02cDz17506y8YO3AquT/dTWDmhRmxuYLrPvrJrkyJKZtlRyxVsCUB2YHWGtCTpk5l6N/HeLe3btcl9fw9fWNlKdSlWr06dGFkqVKU7ho8VCBOnL4IFcuX2TL5g0AvPH3j9aGLFmz8cuv3Rjk3odlq94utnLv7h0ePrjPiKFvxemNvz/y2v+4c/s25StWJr6rKwANGjfh9KkT738DvhGOXvGMMU/5fGlIkSgOO0bVCk0zm81kTpmAS3eeR8q/a3QtgoLNGPQ6fP0D6b/oGGduPGV0q2KsP3KTZxYPb/k+yaT2JUmfPD4bjtxkascfqFY4A/vPP2Do0pOfrpJfGDUOzE558uQxbZr/RJ16DcibrwDlK1bmyOGDkfJ16tKdmrXrcvL4MbZt3cyKpYtZsnItwcFBjJs0jYyZMgPg/epVjIwcNyIAAA/lSURBVP1bjZo048SxI0yeMCY0LTg4mHjx4rNy7abQtOfPnxEvXnzmzJxG2MWK9XoDCuv4+AeG2w/5bziEGcxk0Os5eOEhzSe89dTSJInHoxc+UV4zbB9YWAx6HQGm8Av26HQ6HAx6ft91lR2n7lA+X1oq5U/HoCaFyN1xJW8CP/2Lhs+NnTtg3+66kP+7chk3NzfadviFosVLhIpXUNDbL5nJZKJm1fL4+/tTr2Fj+g0Yws0bkoCAAIoWL8nK5Uswm80EBATQq1sn1q5eEWO5Q0aM4chfh3hw/x4A6TNkwMnZiR3btgLw+LEnjevV5NrVK5QsVZr9e/fw2tsb0PrsdB+2OtY3x9OXvuTPmgyARqWzhqYfuPCA8vnSkC1NQgAqF0jHqZkNcXF8vx+HP8/eo0GprCRxdQagefnveOHtzz+eXhyYUJc8mZKyfJ/k11kHSRDXkeRucT5Rzb4sRr0+0mZPfLMeWNFiJdi6eSP1a1ZFp9eTv0Ah3NwScd8iLABGo5GeffozyL03RqMRvV7P4OGjcXR0pHe/gUyaMIbG9WpiMpkoXLQYLVq1jbFct0SJGDZyHF07tQfAwcGRSdNmM3nCGJYt/h2TyUTHTl3Jky8/ALXrNqBNi59wdnYmU+YsODk7f54b8pXRe/4RpnUsxUufAPafu4/nc83Dunb/PzrPOsTSPpXQ6cAUFEyDkTvx8Y++/ysi+88/YOaWC+wcXQu9XsczLz/qjtiO2QwDFx9jYvuSDG1WGDMwZtXf3Hvq/Rlq+fnR23kT8osubPvKP1gtbPseXL1ymYvnz9G4aXMAVixdzOVLFxg7ceoXtyV5g48fE6ewHX5/dPogJdp08XGkZ7ZO7hR2o2rfrAcWG0iXPgNLFy1k04a16HQ6UqRMyYDBI2xtluIbwviRHpgQYijQ0LK7XUrZVwixCCgJhHQ8DpdSbhJCVACmAC7AGilljK/dlYDZMfHixWPcpGm2NkPxDfMxTUiLIFUC8qG9jdolhKgDFAR+kFJ6hsnrAngApYH7wHYhRFUp5c7oylACplAorBLVMAohREIgYRTZX0opX4bZ9wR6SSkDLOf9D0hn2TyEEKmBTcBwoDBwQ0p525J3OdAAUAL2uTi4fy9DB/bj0PEzTBo3mrNn/w499u/TJyRJkpRV67fY0EIFQJOygq6184TuJ4jrSOrEccnVYQXj2pYgW5qE6HU6VuyXTN5wDgC3eE5M+bkU36V1w8XJyPi1Z1h14LqtqmAzrIzE7w4MjSJ9ODAsZEdKeSXksxAiK1pTshRQBugEeAHbgLbAazTBC8ETSBOTfUrAPpB7d+8wfcpEQt6B9HYfGHrs0cOHtG/djGGjxtnIOkVYVh6QrDwgATAa9OwdV5tJ68/SrU5eHj57TZNxu4njZOTs7MYcufyIk/IJ87uXQ97/j9aT95I6cVxOz2rE4YsPefg86vFiXytWBrJOAxZHkf4yijSEEDmB7UAfKaUE6oQ5NhNoAawn7KBHbRhfcEz2KQH7APz9/BgyoB/de/djsHufSMdHjxhM0+YtEd9lt4F1iujoVS8fT1/68fuuq8BbDyNFojg4Ohjw8g3ALZ4T5fOmpcXEPQA8fO7DD7028OL1G5vZbSuimkpkaSZGKVYREUKUADYA3aWUq4UQ3wPZpJQbLFl0QCDwAEgZ5tQUwKMY7XsXIxThGTNyKHXrNyRrVhHp2NEjh3ns6UmjJs1tYJkiOhK7OtOtTh6Kd387lSso2IxHzwrUKZGJrcdvc/3hS/JnTsrj/3zoWisPlQukw9HBwPRN57n5yMuG1tuGj+zETwtsBhpJKfdbknXANCHEfrRmYwdgCXBSO0VkAW4DTdA69aMlWgETQqSL7riU8l50x79G1q1ZicFgpGadejx6+DDS8VXLltCqbQcMBjXtx95oUzkH207e4c6TV+HTp+ylyxwjq/pXYUDjguw7d5+MKRLg7RdAuX6byJTSlb3j6nDzkRfn/vn8IXzsiY+cC9kbcAamCBH6Yz8PGAscBRyADVLKVQBCiFZo3pozsAOtWRktMXlg24GsaK5cxJqYgUzvUImvim1bNuPv70eThnUwBQby5o0/TRrWYfqs3zAajVy+fJGJU2fa2kxFFNQvlSVcXLEK+dJy5e5zPF/44uNvYu3hG9Qunpll+64BsHSv9veW5yuOX/WkYLZk35yAfYwHJqXsBnSzcnhOFPn3AXmiyGuVmASsBPAX0ElKefR9Lvy1smTl2tDPjx4+pHG9mqETsQ/u30uOnLlwiRM75719zSSM60TmlAk48b/HoWn1SmahVvFMdJl9CEejnnols7D//H3uPvHm7M2nNCsnmLf9MskSulA0ewqmbDxvwxrYhlg9mVtK+QpoD7T8MubEbu7fu0uqVKltbYYiCjKnSsDjF76Ygt6+2HL3OEqCOI78PasRx6Y14NzNf5m19SIAjcfsokL+dJyZ3ZjdY2ozZvXfnLnx1Fbm2wydThdpsyfUXEjFO6HmQsZuPnQu5Nm7ryI9s/nTu9qNiqm3kAqFwir2Ho1CCZhCobCKneuXErCw7Ni2leVLPECnw9nZmd79BpIjZ65wec6fPcOUiWMxBQXh5OhIn/6DyZEzFwEBAUwaN5q/T5/AxSUupUqXocMvndHr9Rw+eIBpk8fh4ODI0JFjQ685atggKlapRpGixW1R3a+GGkUz8nuP8iRrtBCAo1Pr4+JoJMCk9XetOXidqZsid8B3q52HFhWzYwoK5pmXH51nH+L241e4xXNiRqfS5M6YGJ83JpbtvcbcbZcAaFslBz3r5uO/129oOn43d59ocb42Da2O++/HkA/++0K1/jKokNKxhDt3bjNj6kSWr95AkqTJOPrXIfr27Mq23fvD5RsysC+Dh42mUJGiHNi3h2GD3Fm7aRuLFv6Gp+cjVq3fiqOjI6NHDGH9mlU0/Kkp8+fOZL7HMjw9H7HEYwHjJ0/nyqWL+Pj4KPH6SDKnTMDY1sVDO5fjOBnJlCIBaZstCtdhH5GyedLQsmJ2SvfegLdfIB2q5WR+t3JU7L+ZCe1K8NovkHy/rsag17F2YFXuPHnFztN36V0/P3l/WUXNohnpWP17+nsco26JzFy7/99XJ16A3XXaR8S+4sPaEEcHRwYNHUmSpFoY4uw5cvH82TMCAwPC5QsKCsbbWxsI6evrg5OTEwDXrl6hUpVqODk5odPpKFO2PPv27tau7eiIr68vr71f4+DggNlsZsa0SXTrGXkakuLdcXEysqhXBfr9/naET8FsyfDxD2Tr8B85PbMRE9qVwDmKcNFP/vOl69zDePtpcfTP3viXdMniA5AvS1JWHpAEB5sJNAWz6/Rd6pTQ1j4INAUTx8mIa1xHAgKDcHEy0r1OXkavOv0Favzl0esib/aE8sAspEqdmlSptSEQZrOZqZPG80OZsjg4OIbLN2T4KHp378Lk8WPw9vZm1m9asyXn97nZs3sn5StWwsHBgV07t/PsX23QY5cevRnYrxdOTs4MGjaSzRvXUahwUVKkTPVlK/mVMevX0izcdSXcakLxXRw5dOkhvecfwfeNicW9KzCyRVH6LAw/jPHqvRehnx2Neka2LMrGo/8AcFo+pUlZwfH/PcbJQU/t4pkItHhzQ5aeYPeY2jz+z4d2U/fRr2EB5m6/xGu/8AuKfC3o7U2xIqAELAJ+vr4MHzKAJ489mTFnQbhjz58/Y/SIIfzmsZQcOXNxcP9e3Ht1Z8PWnbRs047ZM6bRpvlPuLq6UqFyVW5e1yIg5MtfkGWrtbmrr155sWXjBn7zWMqihb9x/twZsmTJRpcevb94XWMzHarlxBQUzNK910I9J4Dtp+6w/dSd0P0Ja8+yekCVSAIWQhJXZ1b2r4yXTwBDlmpL1rl7HGVsm+KcmN6AJ//5su/8A4pmTwHA5mO3Qtd4zJjClcIiOcOXn2RiuxJkSZ2QA+cfMGPLhc9U6y+PnbcgVRMyLI89H9G2ZRP0ej1zFy4JXY8xhPNnz5AiZarQTvgy5SpgdDBy+/YtvLy8aNaiFas3bGX+ouW4uiYgbdrIU0nnzppO6/Y/89jzEadOnmD67Pl4eb3k1MnjX6SOXwvNy39HgazJODG9IZuHVsfF0cCJ6Q1pWk5QIufboAY6ndbsi4pcGRJzZEp9zv/zjEZjdoXmc43jyMBFxynYeQ3VB/+BTge3PCNP5B7ftgT9PY5RLm9a4rk4Umf4dioVSEemlK6R8sZW9DpdpM2eUAJmwcfHh5/btqRs+YqMmTAF5yhW/8mSNRu3bt7g7p3bAFy+eAF/P3/Spc/A4YMHGDNyGGazGV9fH1YuX0KV6jXCnX9dXuOxpyely5QjMDAQo2XCt06vx98v+oVxFeEp1WsDBTuvoWi3tdQevh2/gCCKdltLHCcj49oUx9nRgF6vo2vtPKw/cjPS+akTx2Xn6JqMWf03fRceJTjMGOt2VXIypGlhAJIldKF1peysOXQj3PlVC6Xn0QsfLtx6hpNRjylYEz8z4OL49TRs7F3Avp47/ZGsXb2Cx56POLB/Lwf27w1NnzZzHt27dGT6rN9InyEj7oOG0a9XN3SWoRYTpswgXrx41KxdlyuXLtCobg2Cg4OpXbcB5StWDlfGtMnj6TdgCKCJYaLEianzY2UyZc5C8RIlv2h9v1YW7rpCxhSuHJ/WEKNBx6GLDxlj6WCvXjgD7armpM7w7bg3LkhcJwc61chNpxq5AQgIDOKH3huYuP4sHj3L8/esRuh0OkasOB1uGpGjUU//RgWpNWwbAHvP3efn6t9z+bemHLj4gCt3X0Q2LJZi511gaiqR4t1QU4liNx86lejeizeRntl0iZzsRtaUB6ZQKKxi7x6YEjCFQmEVex/IqgRMoVBYRU0lUigUsRY71y8lYAqFwjr2NmwiIkrAFAqFVfR2PlJUCZhCobCK8sAUCkWsxc71SwmYQqGwjnoLqVAoYi1qHJhCoYi12PtI/C86F1KhUCg+JXb+klShUCisowRMoVDEWpSAKRSKWIsSMIVCEWtRAqZQKGItSsAUCkWsRQmYQqGItSgBUygUsRYlYAqFItaiphJ9AoQQTYBBgAMwTUo528YmKd4DIYQrcAz4UUp5x8bmKN4D5YF9JEKI1MBooCSQF+gghMhhW6sU74oQoghwBMhma1sU748SsI+nArBfSvlCSukDrAfq29gmxbvTHvgVeGRrQxTvj2pCfjypAM8w+55AYRvZonhPpJTtAIQQtjZF8QEoD+zj0QNhQ3rogGAb2aJQfFMoAft4HgApw+ynQDVHFIovgmpCfjx7gWFCiKSAD1AP6GBbkxSKbwPlgX0kUsqHwEDgAHAeWCmlPGVbqxSKbwMVkVWhUMRalAemUChiLUrAFApFrEUJmEKhiLUoAVMoFLEWJWAKhSLWogRMoVDEWpSAKRSKWIsSMIVCEWv5P27NUXffuaL3AAAAAElFTkSuQmCC\n",
=======
      "image/png": "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\n",
>>>>>>> da013f550db9caf80c0e4363eb4f794c0194cb6b
      "text/plain": [
       "<Figure size 360x144 with 2 Axes>"
      ]
     },
     "metadata": {},
     "output_type": "display_data"
    }
   ],
   "source": [
    "plt.figure(figsize = (5,2))\n",
    "sns.set(font_scale=1)\n",
    "cm = confusion_matrix(y_test, y_pred)\n",
    "group_names = [\"True Neg\",\"False Pos\",\"False Neg\",\"True Pos\"]\n",
    "group_counts = [\"{0:0.0f}\".format(value) for value in\n",
    "                cm.flatten()]\n",
    "group_percentages = [\"{0:.2%}\".format(value) for value in\n",
    "                     cm.flatten()/np.sum(cm)]\n",
    "labels = [f\"{v1}\\n{v2}\\n{v3}\" for v1, v2, v3 in\n",
    "          zip(group_names,group_counts,group_percentages)]\n",
    "labels = np.asarray(labels).reshape(2,2)\n",
    "sns.heatmap(cm, annot=labels, fmt='', cmap='Blues')\n",
    "plt.title('Confusion Matrix for Logistic Regression', fontsize = 12) # title with fontsize 20"
   ]
  },
  {
   "cell_type": "markdown",
   "metadata": {},
   "source": [
    "### Random Forest"
   ]
  },
  {
   "cell_type": "code",
   "execution_count": 23,
   "metadata": {},
   "outputs": [
    {
     "data": {
      "text/plain": [
       "RandomForestClassifier(bootstrap=True, ccp_alpha=0.0, class_weight=None,\n",
       "                       criterion='gini', max_depth=None, max_features='auto',\n",
       "                       max_leaf_nodes=None, max_samples=None,\n",
       "                       min_impurity_decrease=0.0, min_impurity_split=None,\n",
       "                       min_samples_leaf=1, min_samples_split=2,\n",
       "                       min_weight_fraction_leaf=0.0, n_estimators=100,\n",
       "                       n_jobs=None, oob_score=False, random_state=None,\n",
       "                       verbose=0, warm_start=False)"
      ]
     },
     "execution_count": 23,
     "metadata": {},
     "output_type": "execute_result"
    }
   ],
   "source": [
    "rf = RandomForestClassifier(n_estimators = 100)\n",
    "rf.fit(X_train, y_train)"
   ]
  },
  {
   "cell_type": "code",
   "execution_count": 24,
   "metadata": {},
   "outputs": [
    {
     "name": "stdout",
     "output_type": "stream",
     "text": [
      "Accuracy: 1.0\n"
     ]
    }
   ],
   "source": [
    "y_hat = rf.predict(X_test)\n",
    "print(\"Accuracy:\", metrics.accuracy_score(y_test, y_hat))"
   ]
  },
  {
   "cell_type": "code",
   "execution_count": 25,
   "metadata": {},
   "outputs": [
    {
     "name": "stdout",
     "output_type": "stream",
     "text": [
      "              precision    recall  f1-score   support\n",
      "\n",
      "           0       1.00      1.00      1.00       842\n",
      "           1       1.00      1.00      1.00       783\n",
      "\n",
      "    accuracy                           1.00      1625\n",
      "   macro avg       1.00      1.00      1.00      1625\n",
      "weighted avg       1.00      1.00      1.00      1625\n",
      "\n",
      "Accuracy: 1.0\n",
      "Recall: 1.0\n",
      "Precision: 1.0\n"
     ]
    }
   ],
   "source": [
    "print(classification_report(y_test, y_hat))\n",
    "print(\"Accuracy:\", accuracy_score(y_test, y_hat))\n",
    "print(\"Recall:\", recall_score(y_test, y_hat))\n",
    "print(\"Precision:\", precision_score(y_test, y_hat))"
   ]
  },
  {
   "cell_type": "code",
   "execution_count": 26,
   "metadata": {},
   "outputs": [
    {
     "data": {
      "text/html": [
       "<div>\n",
       "<style scoped>\n",
       "    .dataframe tbody tr th:only-of-type {\n",
       "        vertical-align: middle;\n",
       "    }\n",
       "\n",
       "    .dataframe tbody tr th {\n",
       "        vertical-align: top;\n",
       "    }\n",
       "\n",
       "    .dataframe thead th {\n",
       "        text-align: right;\n",
       "    }\n",
       "</style>\n",
       "<table border=\"1\" class=\"dataframe\">\n",
       "  <thead>\n",
       "    <tr style=\"text-align: right;\">\n",
       "      <th></th>\n",
       "      <th>y_actual</th>\n",
       "      <th>y_predict</th>\n",
       "    </tr>\n",
       "  </thead>\n",
       "  <tbody>\n",
       "    <tr>\n",
       "      <th>0</th>\n",
       "      <td>842</td>\n",
       "      <td>0</td>\n",
       "    </tr>\n",
       "    <tr>\n",
       "      <th>1</th>\n",
       "      <td>0</td>\n",
       "      <td>783</td>\n",
       "    </tr>\n",
       "  </tbody>\n",
       "</table>\n",
       "</div>"
      ],
      "text/plain": [
       "   y_actual  y_predict\n",
       "0       842          0\n",
       "1         0        783"
      ]
     },
     "metadata": {},
     "output_type": "display_data"
    }
   ],
   "source": [
    "conf_matrix = confusion_matrix(y_test, y_hat)\n",
    "conf_df = pd.DataFrame(conf_matrix, columns=['y_actual','y_predict'])\n",
    "display(conf_df)"
   ]
  },
  {
   "cell_type": "code",
   "execution_count": 27,
   "metadata": {},
   "outputs": [
    {
     "data": {
      "image/png": "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\n",
      "text/plain": [
       "<Figure size 576x432 with 2 Axes>"
      ]
     },
     "metadata": {},
     "output_type": "display_data"
    }
   ],
   "source": [
    "plt.figure(figsize = (8, 6))\n",
    "ax = sns.heatmap(conf_df, annot = True)\n",
    "plt.savefig('rndmfrstconf1.png')"
   ]
  },
  {
   "cell_type": "code",
   "execution_count": 28,
   "metadata": {},
   "outputs": [
    {
     "data": {
      "text/html": [
       "<div>\n",
       "<style scoped>\n",
       "    .dataframe tbody tr th:only-of-type {\n",
       "        vertical-align: middle;\n",
       "    }\n",
       "\n",
       "    .dataframe tbody tr th {\n",
       "        vertical-align: top;\n",
       "    }\n",
       "\n",
       "    .dataframe thead th {\n",
       "        text-align: right;\n",
       "    }\n",
       "</style>\n",
       "<table border=\"1\" class=\"dataframe\">\n",
       "  <thead>\n",
       "    <tr style=\"text-align: right;\">\n",
       "      <th></th>\n",
       "      <th>cap-shape</th>\n",
       "      <th>cap-surface</th>\n",
       "      <th>cap-color</th>\n",
       "      <th>bruises</th>\n",
       "      <th>odor</th>\n",
       "      <th>gill-attachment</th>\n",
       "      <th>gill-spacing</th>\n",
       "      <th>gill-size</th>\n",
       "      <th>gill-color</th>\n",
       "      <th>stalk-shape</th>\n",
       "      <th>...</th>\n",
       "      <th>stalk-surface-above-ring</th>\n",
       "      <th>stalk-surface-below-ring</th>\n",
       "      <th>stalk-color-above-ring</th>\n",
       "      <th>stalk-color-below-ring</th>\n",
       "      <th>veil-color</th>\n",
       "      <th>ring-number</th>\n",
       "      <th>ring-type</th>\n",
       "      <th>spore-print-color</th>\n",
       "      <th>population</th>\n",
       "      <th>habitat</th>\n",
       "    </tr>\n",
       "  </thead>\n",
       "  <tbody>\n",
       "    <tr>\n",
       "      <th>0</th>\n",
       "      <td>0.003242</td>\n",
       "      <td>0.010575</td>\n",
       "      <td>0.014312</td>\n",
       "      <td>0.032696</td>\n",
       "      <td>0.176544</td>\n",
       "      <td>0.002808</td>\n",
       "      <td>0.044583</td>\n",
       "      <td>0.112111</td>\n",
       "      <td>0.111977</td>\n",
       "      <td>0.019989</td>\n",
       "      <td>...</td>\n",
       "      <td>0.037809</td>\n",
       "      <td>0.044435</td>\n",
       "      <td>0.018711</td>\n",
       "      <td>0.011705</td>\n",
       "      <td>0.002243</td>\n",
       "      <td>0.015764</td>\n",
       "      <td>0.094831</td>\n",
       "      <td>0.09238</td>\n",
       "      <td>0.057813</td>\n",
       "      <td>0.032778</td>\n",
       "    </tr>\n",
       "  </tbody>\n",
       "</table>\n",
       "<p>1 rows × 21 columns</p>\n",
       "</div>"
      ],
      "text/plain": [
       "   cap-shape  cap-surface  cap-color   bruises      odor  gill-attachment  \\\n",
       "0   0.003242     0.010575   0.014312  0.032696  0.176544         0.002808   \n",
       "\n",
       "   gill-spacing  gill-size  gill-color  stalk-shape  ...  \\\n",
       "0      0.044583   0.112111    0.111977     0.019989  ...   \n",
       "\n",
       "   stalk-surface-above-ring  stalk-surface-below-ring  stalk-color-above-ring  \\\n",
       "0                  0.037809                  0.044435                0.018711   \n",
       "\n",
       "   stalk-color-below-ring  veil-color  ring-number  ring-type  \\\n",
       "0                0.011705    0.002243     0.015764   0.094831   \n",
       "\n",
       "   spore-print-color  population   habitat  \n",
       "0            0.09238    0.057813  0.032778  \n",
       "\n",
       "[1 rows x 21 columns]"
      ]
     },
     "metadata": {},
     "output_type": "display_data"
    }
   ],
   "source": [
    "#importance of each variable\n",
    "importances = rf.feature_importances_\n",
    "imp_df = pd.DataFrame(columns = df_encoded.columns)\n",
    "imp_df = imp_df.drop(columns = ['class'])\n",
    "imp_df.loc[len(imp_df)] = importances\n",
    "\n",
    "display(imp_df)"
   ]
  },
  {
   "cell_type": "code",
   "execution_count": 29,
   "metadata": {},
   "outputs": [
    {
     "name": "stdout",
     "output_type": "stream",
     "text": [
      "0.41794919967651367\n"
     ]
    }
   ],
   "source": [
    "perfromance_model = RandomForestClassifier(n_estimators = 100)\n",
    "start_time = time.time()\n",
    "perfromance_model.fit(X_train, y_train)\n",
    "elapsed_time = time.time() - start_time\n",
    "print(elapsed_time)"
   ]
  },
  {
   "cell_type": "markdown",
   "metadata": {},
   "source": [
    "## Implementation with hyperparameter tuning"
   ]
  },
  {
   "cell_type": "markdown",
   "metadata": {},
   "source": [
    "The accuracy above was achived without regularization, We will perform regularization in an attempt to improve the learning of the model and also normalize the data."
   ]
  },
  {
   "cell_type": "code",
<<<<<<< HEAD
   "execution_count": 30,
=======
   "execution_count": 59,
>>>>>>> da013f550db9caf80c0e4363eb4f794c0194cb6b
   "metadata": {},
   "outputs": [
    {
     "data": {
      "text/plain": [
       "StandardScaler(copy=True, with_mean=True, with_std=True)"
      ]
     },
<<<<<<< HEAD
     "execution_count": 30,
=======
     "execution_count": 59,
>>>>>>> da013f550db9caf80c0e4363eb4f794c0194cb6b
     "metadata": {},
     "output_type": "execute_result"
    }
   ],
   "source": [
    "scaler = StandardScaler()\n",
    "# Fit only to the training data\n",
    "scaler.fit(X_train)"
   ]
  },
  {
   "cell_type": "code",
<<<<<<< HEAD
   "execution_count": 31,
=======
   "execution_count": 60,
>>>>>>> da013f550db9caf80c0e4363eb4f794c0194cb6b
   "metadata": {},
   "outputs": [],
   "source": [
    "# Now apply the transformations to the data:\n",
    "X_train = scaler.transform(X_train)\n",
    "X_test = scaler.transform(X_test)\n",
    "\n",
    "#print(X_train,X_test)"
   ]
  },
  {
   "cell_type": "markdown",
   "metadata": {},
   "source": [
    "### Neural Network"
   ]
  },
  {
   "cell_type": "code",
<<<<<<< HEAD
   "execution_count": 32,
=======
   "execution_count": 61,
>>>>>>> da013f550db9caf80c0e4363eb4f794c0194cb6b
   "metadata": {},
   "outputs": [],
   "source": [
    "reg_clf = MLPClassifier(hidden_layer_sizes=(21,21,21),activation='logistic',early_stopping = True,alpha=0.002)"
   ]
  },
  {
   "cell_type": "code",
<<<<<<< HEAD
   "execution_count": 33,
=======
   "execution_count": 62,
>>>>>>> da013f550db9caf80c0e4363eb4f794c0194cb6b
   "metadata": {},
   "outputs": [
    {
     "data": {
      "text/plain": [
       "MLPClassifier(activation='logistic', alpha=0.002, batch_size='auto', beta_1=0.9,\n",
       "              beta_2=0.999, early_stopping=True, epsilon=1e-08,\n",
       "              hidden_layer_sizes=(21, 21, 21), learning_rate='constant',\n",
       "              learning_rate_init=0.001, max_iter=200, momentum=0.9,\n",
       "              n_iter_no_change=10, nesterovs_momentum=True, power_t=0.5,\n",
       "              random_state=None, shuffle=True, solver='adam', tol=0.0001,\n",
       "              validation_fraction=0.1, verbose=False, warm_start=False)"
      ]
     },
<<<<<<< HEAD
     "execution_count": 33,
=======
     "execution_count": 62,
>>>>>>> da013f550db9caf80c0e4363eb4f794c0194cb6b
     "metadata": {},
     "output_type": "execute_result"
    }
   ],
   "source": [
    "reg_clf.fit(X_train,y_train)"
   ]
  },
  {
   "cell_type": "code",
<<<<<<< HEAD
   "execution_count": 34,
=======
   "execution_count": 63,
>>>>>>> da013f550db9caf80c0e4363eb4f794c0194cb6b
   "metadata": {},
   "outputs": [],
   "source": [
    "reg_y_pred = reg_clf.predict(X_test)"
   ]
  },
  {
   "cell_type": "code",
<<<<<<< HEAD
   "execution_count": 35,
=======
   "execution_count": 64,
>>>>>>> da013f550db9caf80c0e4363eb4f794c0194cb6b
   "metadata": {},
   "outputs": [
    {
     "name": "stdout",
     "output_type": "stream",
     "text": [
<<<<<<< HEAD
      "[[838   4]\n",
      " [ 14 769]]\n"
=======
      "[[806  35]\n",
      " [  4 780]]\n"
>>>>>>> da013f550db9caf80c0e4363eb4f794c0194cb6b
     ]
    }
   ],
   "source": [
    "print(confusion_matrix(y_test,reg_y_pred))"
   ]
  },
  {
   "cell_type": "code",
<<<<<<< HEAD
   "execution_count": 36,
=======
   "execution_count": 65,
>>>>>>> da013f550db9caf80c0e4363eb4f794c0194cb6b
   "metadata": {},
   "outputs": [
    {
     "name": "stdout",
     "output_type": "stream",
     "text": [
      "              precision    recall  f1-score   support\n",
      "\n",
<<<<<<< HEAD
      "           0       0.98      1.00      0.99       842\n",
      "           1       0.99      0.98      0.99       783\n",
=======
      "           0       1.00      0.96      0.98       841\n",
      "           1       0.96      0.99      0.98       784\n",
>>>>>>> da013f550db9caf80c0e4363eb4f794c0194cb6b
      "\n",
      "    accuracy                           0.99      1625\n",
      "   macro avg       0.99      0.99      0.99      1625\n",
      "weighted avg       0.99      0.99      0.99      1625\n",
      "\n"
     ]
    }
   ],
   "source": [
    "print(classification_report(y_test,reg_y_pred))"
   ]
  },
  {
   "cell_type": "code",
<<<<<<< HEAD
   "execution_count": 37,
=======
   "execution_count": 66,
>>>>>>> da013f550db9caf80c0e4363eb4f794c0194cb6b
   "metadata": {},
   "outputs": [
    {
     "name": "stdout",
     "output_type": "stream",
     "text": [
<<<<<<< HEAD
      "0.9889230769230769\n"
=======
      "0.976\n"
>>>>>>> da013f550db9caf80c0e4363eb4f794c0194cb6b
     ]
    }
   ],
   "source": [
    "print(accuracy_score(y_test,reg_y_pred))"
   ]
  },
  {
   "cell_type": "markdown",
   "metadata": {},
   "source": [
    "### Random Forest"
   ]
  },
  {
   "cell_type": "code",
   "execution_count": 38,
   "metadata": {},
   "outputs": [
    {
     "data": {
      "text/plain": [
       "RandomForestClassifier(bootstrap=True, ccp_alpha=0.0, class_weight=None,\n",
       "                       criterion='gini', max_depth=None, max_features='auto',\n",
       "                       max_leaf_nodes=None, max_samples=None,\n",
       "                       min_impurity_decrease=0.0, min_impurity_split=None,\n",
       "                       min_samples_leaf=1, min_samples_split=2,\n",
       "                       min_weight_fraction_leaf=0.0, n_estimators=100,\n",
       "                       n_jobs=None, oob_score=False, random_state=None,\n",
       "                       verbose=0, warm_start=False)"
      ]
     },
     "execution_count": 38,
     "metadata": {},
     "output_type": "execute_result"
    }
   ],
   "source": [
    "new_rf = RandomForestClassifier(n_estimators = 100)\n",
    "new_rf.fit(X_train, y_train)"
   ]
  },
  {
   "cell_type": "code",
   "execution_count": 39,
   "metadata": {},
   "outputs": [],
   "source": [
    "y_hat_p = new_rf.predict(X_test)"
   ]
  },
  {
   "cell_type": "code",
   "execution_count": 40,
   "metadata": {},
   "outputs": [
    {
     "data": {
      "text/plain": [
       "array([[842,   0],\n",
       "       [  0, 783]])"
      ]
     },
     "metadata": {},
     "output_type": "display_data"
    }
   ],
   "source": [
    "display(confusion_matrix(y_test, y_hat_p))"
   ]
  },
  {
   "cell_type": "code",
   "execution_count": 43,
   "metadata": {},
   "outputs": [
    {
     "name": "stdout",
     "output_type": "stream",
     "text": [
      "              precision    recall  f1-score   support\n",
      "\n",
      "           0       1.00      1.00      1.00       842\n",
      "           1       1.00      1.00      1.00       783\n",
      "\n",
      "    accuracy                           1.00      1625\n",
      "   macro avg       1.00      1.00      1.00      1625\n",
      "weighted avg       1.00      1.00      1.00      1625\n",
      "\n",
      "Accuracy: 1.0\n",
      "Recall: 1.0\n",
      "Precision: 1.0\n"
     ]
    }
   ],
   "source": [
    "print(classification_report(y_test, y_hat_p))\n",
    "print(\"Accuracy:\", accuracy_score(y_test, y_hat_p))\n",
    "print(\"Recall:\", recall_score(y_test, y_hat_p))\n",
    "print(\"Precision:\", precision_score(y_test, y_hat_p))"
   ]
  }
 ],
 "metadata": {
  "kernelspec": {
   "display_name": "Python 3",
   "language": "python",
   "name": "python3"
  },
  "language_info": {
   "codemirror_mode": {
    "name": "ipython",
    "version": 3
   },
   "file_extension": ".py",
   "mimetype": "text/x-python",
   "name": "python",
   "nbconvert_exporter": "python",
   "pygments_lexer": "ipython3",
   "version": "3.7.4"
  }
 },
 "nbformat": 4,
 "nbformat_minor": 4
}
